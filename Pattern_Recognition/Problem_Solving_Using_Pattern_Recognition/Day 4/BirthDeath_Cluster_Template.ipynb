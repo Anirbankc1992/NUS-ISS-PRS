{
 "cells": [
  {
   "cell_type": "code",
   "execution_count": 1,
   "metadata": {},
   "outputs": [],
   "source": [
    "from sklearn.preprocessing import StandardScaler\n",
    "import numpy as np\n",
    "import pandas as pd\n",
    "import matplotlib.pyplot as plt"
   ]
  },
  {
   "cell_type": "code",
   "execution_count": 2,
   "metadata": {},
   "outputs": [],
   "source": [
    "df = pd.read_csv(\"BirthDeathRates.csv\")\n",
    "data = df.drop([\"Country\"],axis=1)\n",
    "cols = list(data) "
   ]
  },
  {
   "cell_type": "code",
   "execution_count": 3,
   "metadata": {},
   "outputs": [
    {
     "name": "stdout",
     "output_type": "stream",
     "text": [
      "Summary Statistics:\n",
      "\n",
      "            count  mean   std   min   50%    max\n",
      "Literacy     25.0  73.0  22.0  24.0  78.0  100.0\n",
      "Baby Mort    25.0  53.0  36.0   7.0  52.0  126.0\n",
      "Birth Rate   25.0  29.0  11.0  10.0  28.0   46.0\n",
      "Death Rate   25.0   9.0   4.0   2.0   9.0   19.0\n"
     ]
    }
   ],
   "source": [
    "print(\"Summary Statistics:\\n\")\n",
    "sumary = data.describe(percentiles=[])\n",
    "print(np.transpose(np.round(sumary)))"
   ]
  },
  {
   "cell_type": "code",
   "execution_count": 4,
   "metadata": {},
   "outputs": [],
   "source": [
    "#data.hist(alpha=0.5, bins = 10, color='blue', figsize=(8, 8))\n",
    "#plt.tight_layout()\n",
    "#plt.show()"
   ]
  },
  {
   "cell_type": "code",
   "execution_count": 5,
   "metadata": {},
   "outputs": [],
   "source": [
    "from sklearn.cluster import KMeans\n",
    "from sklearn.metrics import silhouette_samples, silhouette_score"
   ]
  },
  {
   "cell_type": "code",
   "execution_count": 6,
   "metadata": {},
   "outputs": [
    {
     "name": "stdout",
     "output_type": "stream",
     "text": [
      "No Clusters = 4  Silhouette =  0.47912606087760806\n"
     ]
    }
   ],
   "source": [
    "clusters = 4\n",
    "kmeans = KMeans(clusters,init=\"k-means++\", n_init = 10, max_iter= 100)\n",
    "kmeans.fit(data) \n",
    "    \n",
    "goodness = silhouette_score(data,kmeans.predict(data))\n",
    "print(\"No Clusters =\", clusters,\" Silhouette = \",goodness)"
   ]
  },
  {
   "cell_type": "code",
   "execution_count": 7,
   "metadata": {},
   "outputs": [],
   "source": [
    "temp = data\n",
    "temp[\"Cluster\"] = kmeans.predict(data)\n",
    "# find number of members in each cluster\n",
    "count = temp.groupby('Cluster')['Cluster'].count()\n",
    "# find cluster averages\n",
    "cluster_means = np.round(temp.groupby(['Cluster']).mean(),decimals=3)"
   ]
  },
  {
   "cell_type": "code",
   "execution_count": 8,
   "metadata": {},
   "outputs": [
    {
     "name": "stdout",
     "output_type": "stream",
     "text": [
      "Cluster          0       1     2        3\n",
      "Literacy    92.625  62.111  87.2   33.667\n",
      "Baby Mort   11.862  73.544  44.2  115.000\n",
      "Birth Rate  18.500  36.000  24.4   43.667\n",
      "Death Rate   7.250  10.778   6.6   15.333\n",
      "Count        8.000   9.000   5.0    3.000\n"
     ]
    }
   ],
   "source": [
    "cluster_means['Count'] = count\n",
    "print(np.transpose(cluster_means))"
   ]
  }
 ],
 "metadata": {
  "kernelspec": {
   "display_name": "Python 3",
   "language": "python",
   "name": "python3"
  },
  "language_info": {
   "codemirror_mode": {
    "name": "ipython",
    "version": 3
   },
   "file_extension": ".py",
   "mimetype": "text/x-python",
   "name": "python",
   "nbconvert_exporter": "python",
   "pygments_lexer": "ipython3",
   "version": "3.7.7"
  }
 },
 "nbformat": 4,
 "nbformat_minor": 4
}
