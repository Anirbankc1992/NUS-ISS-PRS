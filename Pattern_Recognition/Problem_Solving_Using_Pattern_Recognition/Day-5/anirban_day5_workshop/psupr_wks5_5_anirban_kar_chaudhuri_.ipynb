{
  "nbformat": 4,
  "nbformat_minor": 0,
  "metadata": {
    "accelerator": "GPU",
    "colab": {
      "name": "psupr_wks5_5_anirban-kar-chaudhuri_.ipynb",
      "provenance": [],
      "collapsed_sections": []
    },
    "kernelspec": {
      "display_name": "Python 3",
      "language": "python",
      "name": "python3"
    },
    "language_info": {
      "codemirror_mode": {
        "name": "ipython",
        "version": 3
      },
      "file_extension": ".py",
      "mimetype": "text/x-python",
      "name": "python",
      "nbconvert_exporter": "python",
      "pygments_lexer": "ipython3",
      "version": "3.7.6"
    }
  },
  "cells": [
    {
      "cell_type": "markdown",
      "metadata": {
        "colab_type": "text",
        "id": "CRNVzhoo1clG"
      },
      "source": [
        "## **1. Mount google drive**\n",
        "---"
      ]
    },
    {
      "cell_type": "code",
      "metadata": {
        "colab_type": "code",
        "id": "5W39GXyk1hME",
        "colab": {
          "base_uri": "https://localhost:8080/",
          "height": 34
        },
        "outputId": "e8f1fe0b-a00a-4627-9374-6a3eae251ae7"
      },
      "source": [
        "from google.colab import drive\n",
        "drive.mount('/content/gdrive',force_remount=True)"
      ],
      "execution_count": 1,
      "outputs": [
        {
          "output_type": "stream",
          "text": [
            "Mounted at /content/gdrive\n"
          ],
          "name": "stdout"
        }
      ]
    },
    {
      "cell_type": "markdown",
      "metadata": {
        "colab_type": "text",
        "id": "dOQ-2xS_MYHi"
      },
      "source": [
        "## **2. Import the necessary libraries**\n",
        "---"
      ]
    },
    {
      "cell_type": "code",
      "metadata": {
        "colab_type": "code",
        "id": "yoi4gWDELtek",
        "colab": {
          "base_uri": "https://localhost:8080/",
          "height": 118
        },
        "outputId": "ba23c4c7-d046-4032-85e5-e2b9f2720578"
      },
      "source": [
        "import matplotlib\n",
        "import sklearn\n",
        "import numpy as np\n",
        "import pandas as pd\n",
        "import sklearn.metrics as metrics\n",
        "import matplotlib.pyplot as plt\n",
        "import tensorflow as tf\n",
        "import os\n",
        "\n",
        "\n",
        "from tensorflow.keras.callbacks import ModelCheckpoint,CSVLogger\n",
        "from tensorflow.keras.models import Sequential\n",
        "from tensorflow.keras.layers import Dense\n",
        "from tensorflow.keras.layers import Dropout\n",
        "from tensorflow.keras.layers import Flatten\n",
        "from tensorflow.keras.layers import Conv2D\n",
        "from tensorflow.keras.layers import MaxPooling2D\n",
        "from tensorflow.keras.utils import to_categorical\n",
        "from tensorflow.keras.utils import plot_model\n",
        "\n",
        "\n",
        "print(\"Versions of key libraries\")\n",
        "print(\"---\")\n",
        "print(\"tensorflow: \", tf.__version__)\n",
        "print(\"numpy:      \", np.__version__)\n",
        "print(\"matplotlib: \", matplotlib.__version__)\n",
        "print(\"sklearn:    \", sklearn.__version__)"
      ],
      "execution_count": 2,
      "outputs": [
        {
          "output_type": "stream",
          "text": [
            "Versions of key libraries\n",
            "---\n",
            "tensorflow:  2.2.0\n",
            "numpy:       1.18.5\n",
            "matplotlib:  3.2.2\n",
            "sklearn:     0.22.2.post1\n"
          ],
          "name": "stdout"
        }
      ]
    },
    {
      "cell_type": "code",
      "metadata": {
        "id": "iGaDze4PGPmJ",
        "colab_type": "code",
        "colab": {
          "base_uri": "https://localhost:8080/",
          "height": 34
        },
        "outputId": "c26bd740-0f17-4e84-891b-1eba683574ec"
      },
      "source": [
        "print(\"tensorflow: \", tf.__version__)"
      ],
      "execution_count": 3,
      "outputs": [
        {
          "output_type": "stream",
          "text": [
            "tensorflow:  2.2.0\n"
          ],
          "name": "stdout"
        }
      ]
    },
    {
      "cell_type": "markdown",
      "metadata": {
        "colab_type": "text",
        "id": "0amhwjZ4M2m-"
      },
      "source": [
        "## **3.Create a function to plot the japanese character correctly**\n",
        "---"
      ]
    },
    {
      "cell_type": "code",
      "metadata": {
        "colab_type": "code",
        "id": "OFxsBB1mNXl2",
        "colab": {
          "base_uri": "https://localhost:8080/",
          "height": 34
        },
        "outputId": "cf5995ee-3fef-4b8f-fbc2-90754bfa6bb8"
      },
      "source": [
        "def grayplt(img,title=''):\n",
        "    plt.axis('off')\n",
        "    if np.size(img.shape) == 3:\n",
        "        plt.imshow(img[:,:,0],cmap='gray',vmin=0,vmax=1)\n",
        "    else:\n",
        "        plt.imshow(img,cmap='gray',vmin=0,vmax=1)\n",
        "    plt.title(title, fontproperties=prop)\n",
        "    plt.show()\n",
        "\n",
        "print(grayplt)"
      ],
      "execution_count": 4,
      "outputs": [
        {
          "output_type": "stream",
          "text": [
            "<function grayplt at 0x7fceb1b57bf8>\n"
          ],
          "name": "stdout"
        }
      ]
    },
    {
      "cell_type": "markdown",
      "metadata": {
        "colab_type": "text",
        "id": "X3N41iixORPz"
      },
      "source": [
        "## **4. Setup matplotlib**\n",
        "---"
      ]
    },
    {
      "cell_type": "code",
      "metadata": {
        "colab_type": "code",
        "id": "OyO5OsUrOYNQ",
        "colab": {
          "base_uri": "https://localhost:8080/",
          "height": 34
        },
        "outputId": "f1cb199a-f919-4d29-a572-009e36e2131c"
      },
      "source": [
        "                                          # Setting up the font manager, so that\n",
        "                                          # it can show japanese characters correctly\n",
        "from matplotlib import font_manager as fm\n",
        "fpath       = os.path.join(os.getcwd(), \"ipam.ttf\")\n",
        "prop        = fm.FontProperties(fname=fpath)\n",
        "\n",
        "plt.style.use('seaborn') \n",
        "plt.rcParams['ytick.right']     = True\n",
        "plt.rcParams['ytick.labelright']= True\n",
        "plt.rcParams['ytick.left']      = False\n",
        "plt.rcParams['ytick.labelleft'] = False\n",
        "plt.rcParams['figure.figsize']  = [7,7]   # Set the figure size to be 7 inch for (width,height)\n",
        "\n",
        "print(\"Matplotlib setup completes.\")"
      ],
      "execution_count": 5,
      "outputs": [
        {
          "output_type": "stream",
          "text": [
            "Matplotlib setup completes.\n"
          ],
          "name": "stdout"
        }
      ]
    },
    {
      "cell_type": "markdown",
      "metadata": {
        "colab_type": "text",
        "id": "5w2jAiKZOmgP"
      },
      "source": [
        "## **5. Prepare data for training and testing**\n",
        "---\n",
        "* Step 1: Load the dataset \n",
        "* Step 2: Check the shape and type of the data, plot a sample for observation\n",
        "* Step 3: Convert the data into float32 and rescale the values from the range of 0\\~255 into 0\\~1\n",
        "* Step 4: Retrieve the row size and the column size of each image\n",
        "* Step 5: Reshape training and testing data to be in the form of `[samples,rows,columns,channel]`. This is required by Keras framework\n",
        "* Step 6: Perform one-hot enconding on the labels\n",
        "* Step 7: Retrieve the number of classes in this problem"
      ]
    },
    {
      "cell_type": "code",
      "metadata": {
        "colab_type": "code",
        "id": "v3Ad2V0pO1TX",
        "colab": {
          "base_uri": "https://localhost:8080/",
          "height": 512
        },
        "outputId": "43ef7a58-7c3a-4790-b2f2-54008e51cf33"
      },
      "source": [
        "                                                                                # Step 1\n",
        "trDat       = np.load('/content/gdrive/My Drive/Colab Notebooks/psupr_workshop/kmnist-train-imgs.npz')['arr_0']\n",
        "trLbl       = np.load('/content/gdrive/My Drive/Colab Notebooks/psupr_workshop/kmnist-train-labels.npz')['arr_0']\n",
        "tsDat       = np.load('/content/gdrive/My Drive/Colab Notebooks/psupr_workshop/kmnist-test-imgs.npz')['arr_0']\n",
        "tsLbl       = np.load('/content/gdrive/My Drive/Colab Notebooks/psupr_workshop/kmnist-test-labels.npz')['arr_0']\n",
        "\n",
        "                                                                                # Step 2\n",
        "print(\"The shape of trDat is\", trDat.shape, \"and the type of trDat is\", trDat.dtype)\n",
        "print(\"The shape of tsDat is\", tsDat.shape, \"and the type of tsDat is\", tsDat.dtype)\n",
        "print(\"\")\n",
        "print(\"The shape of trLbl is\", trLbl.shape, \"and the type of trLbl is\", trLbl.dtype)\n",
        "print(\"The shape of tsLbl is\", tsLbl.shape, \"and the type of tsLbl is\", tsLbl.dtype)\n",
        "print(\"\")\n",
        "grayplt(trDat[132])\n",
        "\n",
        "                                                                                # Step 3\n",
        "trDat           = trDat.astype('float32')/255\n",
        "tsDat           = tsDat.astype('float32')/255\n",
        "\n",
        "                                                                                # Step 4\n",
        "imgrows         = trDat.shape[1]\n",
        "imgclms         = trDat.shape[2]\n",
        "\n",
        "                                                                                # Step 5\n",
        "trDat       = trDat.reshape(trDat.shape[0],\n",
        "                            imgrows,\n",
        "                            imgclms,\n",
        "                            1)\n",
        "tsDat       = tsDat.reshape(tsDat.shape[0],\n",
        "                            imgrows,\n",
        "                            imgclms,\n",
        "                            1)\n",
        "\n",
        "                                                                                # Step 6\n",
        "trLbl           = to_categorical(trLbl)\n",
        "tsLbl           = to_categorical(tsLbl)\n",
        "                               \n",
        "num_classes     = tsLbl.shape[1]                                                # Step 7"
      ],
      "execution_count": 6,
      "outputs": [
        {
          "output_type": "stream",
          "text": [
            "The shape of trDat is (60000, 28, 28) and the type of trDat is uint8\n",
            "The shape of tsDat is (10000, 28, 28) and the type of tsDat is uint8\n",
            "\n",
            "The shape of trLbl is (60000,) and the type of trLbl is uint8\n",
            "The shape of tsLbl is (10000,) and the type of tsLbl is uint8\n",
            "\n"
          ],
          "name": "stdout"
        },
        {
          "output_type": "display_data",
          "data": {
            "image/png": "[encoded data removed]",
            "text/plain": [
              "<Figure size 504x504 with 1 Axes>"
            ]
          },
          "metadata": {
            "tags": []
          }
        }
      ]
    },
    {
      "cell_type": "markdown",
      "metadata": {
        "colab_type": "text",
        "id": "DoP3WcoJW-jZ"
      },
      "source": [
        "## **6. Define deep learning model (to be completed)**\n",
        "___\n",
        "* Step 1: Set a name for the coming model (required for saving)\n",
        "* Step 2: Define the convolutional neural network model (to be completed)\n",
        "* Step 3: Create models for training and testing\n",
        "* Step 4: Display the summary of the model of interest "
      ]
    },
    {
      "cell_type": "code",
      "metadata": {
        "colab_type": "code",
        "id": "0HMOes0kXCPd",
        "colab": {
          "base_uri": "https://localhost:8080/",
          "height": 386
        },
        "outputId": "adab9070-f846-4fce-ed1f-061e0414d1cb"
      },
      "source": [
        "modelname   = 'wks5_5'                                                          # Step 1\n",
        "\n",
        "from tensorflow.keras.optimizers import SGD                                                  \n",
        "                                                                                # Step 2\n",
        "def createModel():\n",
        "    model = Sequential()  #initializing the model\n",
        "    model.add(Conv2D(64, (5, 5), activation='relu', kernel_initializer='glorot_uniform', input_shape=(imgrows, imgclms, 1)))   \n",
        "    model.add(MaxPooling2D((2, 2)))\n",
        "    model.add(Conv2D(64, (3, 3), activation='relu'))     \n",
        "    model.add(Flatten())\n",
        "    model.add(Dense(100, activation='relu', kernel_initializer='glorot_uniform'))\n",
        "    model.add(Dropout(0.2))\n",
        "    model.add(Dense(num_classes, activation='softmax'))\n",
        "    # compile model\n",
        "    opt = SGD(lr=0.02, momentum=0.9)\n",
        "    model.compile(optimizer=opt, loss='categorical_crossentropy', metrics=['accuracy'])\n",
        "    \n",
        "    return model\n",
        "\n",
        "                                                                                # Step 3\n",
        "model       = createModel() # This is meant for training\n",
        "modelGo     = createModel() # This is used for final testing\n",
        "\n",
        "model.summary()                                                                        # Step 4"
      ],
      "execution_count": 7,
      "outputs": [
        {
          "output_type": "stream",
          "text": [
            "Model: \"sequential\"\n",
            "_________________________________________________________________\n",
            "Layer (type)                 Output Shape              Param #   \n",
            "=================================================================\n",
            "conv2d (Conv2D)              (None, 24, 24, 64)        1664      \n",
            "_________________________________________________________________\n",
            "max_pooling2d (MaxPooling2D) (None, 12, 12, 64)        0         \n",
            "_________________________________________________________________\n",
            "conv2d_1 (Conv2D)            (None, 10, 10, 64)        36928     \n",
            "_________________________________________________________________\n",
            "flatten (Flatten)            (None, 6400)              0         \n",
            "_________________________________________________________________\n",
            "dense (Dense)                (None, 100)               640100    \n",
            "_________________________________________________________________\n",
            "dropout (Dropout)            (None, 100)               0         \n",
            "_________________________________________________________________\n",
            "dense_1 (Dense)              (None, 10)                1010      \n",
            "=================================================================\n",
            "Total params: 679,702\n",
            "Trainable params: 679,702\n",
            "Non-trainable params: 0\n",
            "_________________________________________________________________\n"
          ],
          "name": "stdout"
        }
      ]
    },
    {
      "cell_type": "markdown",
      "metadata": {
        "colab_type": "text",
        "id": "DlquJEaFZxV9"
      },
      "source": [
        "## **7. Create the callbacks to be applied during training**\n",
        "---\n",
        "* Step 1: Create a callback to save the model from an epoch when validation accuracy is the highest\n",
        "* Step 2: Create a callback to save the training loss, training accuracy, validation loss and validation accuracy of each epoch into a csv file\n",
        "* Step 3: Put the two callbacks objects into a list"
      ]
    },
    {
      "cell_type": "code",
      "metadata": {
        "colab_type": "code",
        "id": "9-a1LSCbahKy",
        "colab": {
          "base_uri": "https://localhost:8080/",
          "height": 118
        },
        "outputId": "f17daba0-74e0-4e77-8590-0de106bffc71"
      },
      "source": [
        "                                                                                # Step 1\n",
        "folderpath      = '/content/gdrive/My Drive/Colab Notebooks/psupr_workshop/'\n",
        "filepath        = folderpath + modelname + \".hdf5\"\n",
        "checkpoint      = ModelCheckpoint(filepath, \n",
        "                                  monitor='val_accuracy', \n",
        "                                  verbose=0, \n",
        "                                  save_best_only=True, \n",
        "                                  mode='max')\n",
        "\n",
        "csv_logger      = CSVLogger(folderpath+modelname +'.csv')                       # Step 2\n",
        "callbacks_list  = [checkpoint,csv_logger]                                       # Step 3\n",
        "\n",
        "print(\"Callbacks created:\")\n",
        "print(callbacks_list[0])\n",
        "print(callbacks_list[1])\n",
        "print('')\n",
        "print(\"Path to model:\", filepath)\n",
        "print(\"Path to log:  \", folderpath+modelname+'.csv')"
      ],
      "execution_count": 8,
      "outputs": [
        {
          "output_type": "stream",
          "text": [
            "Callbacks created:\n",
            "<tensorflow.python.keras.callbacks.ModelCheckpoint object at 0x7fcefbfa0198>\n",
            "<tensorflow.python.keras.callbacks.CSVLogger object at 0x7fcefbfa00f0>\n",
            "\n",
            "Path to model: /content/gdrive/My Drive/Colab Notebooks/psupr_workshop/wks5_5.hdf5\n",
            "Path to log:   /content/gdrive/My Drive/Colab Notebooks/psupr_workshop/wks5_5.csv\n"
          ],
          "name": "stdout"
        }
      ]
    },
    {
      "cell_type": "markdown",
      "metadata": {
        "colab_type": "text",
        "id": "1mKgjQsmfOBz"
      },
      "source": [
        "## **8. Train the deep learning model**\n",
        "___"
      ]
    },
    {
      "cell_type": "code",
      "metadata": {
        "colab_type": "code",
        "id": "23lUNwpGfV0A",
        "colab": {
          "base_uri": "https://localhost:8080/",
          "height": 706
        },
        "outputId": "fcc998da-2b48-48d9-8764-ff986be71cb3"
      },
      "source": [
        "model.fit(trDat,                            # Training data\n",
        "          trLbl,                            # Training label\n",
        "          validation_data=(tsDat, tsLbl),   # Validation data and label\n",
        "          epochs=20,                       # The amount of epochs to be trained\n",
        "          batch_size=50,                   \n",
        "          shuffle=True,                     # To shuffle the training data\n",
        "          callbacks=callbacks_list)         # Callbacks to execute the checkpoints"
      ],
      "execution_count": 9,
      "outputs": [
        {
          "output_type": "stream",
          "text": [
            "Epoch 1/20\n",
            "1200/1200 [==============================] - 9s 8ms/step - loss: 0.3499 - accuracy: 0.8900 - val_loss: 0.3206 - val_accuracy: 0.9084\n",
            "Epoch 2/20\n",
            "1200/1200 [==============================] - 9s 8ms/step - loss: 0.1116 - accuracy: 0.9667 - val_loss: 0.2368 - val_accuracy: 0.9358\n",
            "Epoch 3/20\n",
            "1200/1200 [==============================] - 9s 8ms/step - loss: 0.0688 - accuracy: 0.9786 - val_loss: 0.2272 - val_accuracy: 0.9404\n",
            "Epoch 4/20\n",
            "1200/1200 [==============================] - 9s 8ms/step - loss: 0.0494 - accuracy: 0.9846 - val_loss: 0.2026 - val_accuracy: 0.9486\n",
            "Epoch 5/20\n",
            "1200/1200 [==============================] - 9s 7ms/step - loss: 0.0375 - accuracy: 0.9882 - val_loss: 0.2255 - val_accuracy: 0.9409\n",
            "Epoch 6/20\n",
            "1200/1200 [==============================] - 9s 8ms/step - loss: 0.0304 - accuracy: 0.9902 - val_loss: 0.2063 - val_accuracy: 0.9511\n",
            "Epoch 7/20\n",
            "1200/1200 [==============================] - 9s 7ms/step - loss: 0.0232 - accuracy: 0.9923 - val_loss: 0.2330 - val_accuracy: 0.9525\n",
            "Epoch 8/20\n",
            "1200/1200 [==============================] - 9s 7ms/step - loss: 0.0188 - accuracy: 0.9940 - val_loss: 0.2513 - val_accuracy: 0.9477\n",
            "Epoch 9/20\n",
            "1200/1200 [==============================] - 9s 8ms/step - loss: 0.0189 - accuracy: 0.9941 - val_loss: 0.2219 - val_accuracy: 0.9559\n",
            "Epoch 10/20\n",
            "1200/1200 [==============================] - 9s 7ms/step - loss: 0.0134 - accuracy: 0.9953 - val_loss: 0.2576 - val_accuracy: 0.9536\n",
            "Epoch 11/20\n",
            "1200/1200 [==============================] - 9s 8ms/step - loss: 0.0130 - accuracy: 0.9960 - val_loss: 0.2437 - val_accuracy: 0.9572\n",
            "Epoch 12/20\n",
            "1200/1200 [==============================] - 9s 7ms/step - loss: 0.0129 - accuracy: 0.9956 - val_loss: 0.2342 - val_accuracy: 0.9560\n",
            "Epoch 13/20\n",
            "1200/1200 [==============================] - 8s 7ms/step - loss: 0.0111 - accuracy: 0.9962 - val_loss: 0.2696 - val_accuracy: 0.9537\n",
            "Epoch 14/20\n",
            "1200/1200 [==============================] - 8s 7ms/step - loss: 0.0125 - accuracy: 0.9958 - val_loss: 0.2574 - val_accuracy: 0.9556\n",
            "Epoch 15/20\n",
            "1200/1200 [==============================] - 8s 7ms/step - loss: 0.0117 - accuracy: 0.9960 - val_loss: 0.2576 - val_accuracy: 0.9556\n",
            "Epoch 16/20\n",
            "1200/1200 [==============================] - 9s 7ms/step - loss: 0.0085 - accuracy: 0.9975 - val_loss: 0.2533 - val_accuracy: 0.9584\n",
            "Epoch 17/20\n",
            "1200/1200 [==============================] - 9s 7ms/step - loss: 0.0069 - accuracy: 0.9976 - val_loss: 0.2758 - val_accuracy: 0.9570\n",
            "Epoch 18/20\n",
            "1200/1200 [==============================] - 9s 7ms/step - loss: 0.0078 - accuracy: 0.9976 - val_loss: 0.2515 - val_accuracy: 0.9606\n",
            "Epoch 19/20\n",
            "1200/1200 [==============================] - 8s 7ms/step - loss: 0.0060 - accuracy: 0.9980 - val_loss: 0.2686 - val_accuracy: 0.9581\n",
            "Epoch 20/20\n",
            "1200/1200 [==============================] - 8s 7ms/step - loss: 0.0088 - accuracy: 0.9971 - val_loss: 0.2411 - val_accuracy: 0.9584\n"
          ],
          "name": "stdout"
        },
        {
          "output_type": "execute_result",
          "data": {
            "text/plain": [
              "<tensorflow.python.keras.callbacks.History at 0x7fcea06c8518>"
            ]
          },
          "metadata": {
            "tags": []
          },
          "execution_count": 9
        }
      ]
    },
    {
      "cell_type": "markdown",
      "metadata": {
        "colab_type": "text",
        "id": "TevfJTd-s0nk"
      },
      "source": [
        "## **9. Validate the deep learning model**\n",
        "---\n",
        "* Step 1: Load the trained weights and compile the model\n",
        "* Step 2: Make prediction\n"
      ]
    },
    {
      "cell_type": "code",
      "metadata": {
        "colab_type": "code",
        "id": "2sVtWmcVtiV5",
        "colab": {
          "base_uri": "https://localhost:8080/",
          "height": 34
        },
        "outputId": "95e65321-0ac5-42f0-cc30-467add077d53"
      },
      "source": [
        "                                                                                # Step 1\n",
        "modelGo.load_weights(filepath)\n",
        "modelGo.compile(loss='categorical_crossentropy', \n",
        "                optimizer='adam', \n",
        "                metrics=['accuracy'])\n",
        "\n",
        "predicts    = modelGo.predict(tsDat)                                            # Step 2\n",
        "print(\"Prediction completes.\")"
      ],
      "execution_count": 10,
      "outputs": [
        {
          "output_type": "stream",
          "text": [
            "Prediction completes.\n"
          ],
          "name": "stdout"
        }
      ]
    },
    {
      "cell_type": "markdown",
      "metadata": {
        "colab_type": "text",
        "id": "0aOCUljp5qq4"
      },
      "source": [
        "## **10. Report classification metrics**\n",
        "---\n",
        "* Step 1: Setup the label\n",
        "* Step 2: Convert label from one-hot to integer\n",
        "* Step 3: Calculate the accuracy score\n",
        "* Step 4: Generate classification report"
      ]
    },
    {
      "cell_type": "code",
      "metadata": {
        "colab_type": "code",
        "id": "2tI4hBmk5uRh",
        "colab": {
          "base_uri": "https://localhost:8080/",
          "height": 319
        },
        "outputId": "10062794-bf49-4f10-d32e-4c26733f7674"
      },
      "source": [
        "                                                                                # Step 1\n",
        "labelname   = ['お O','き Ki','す Su','つ Tsu','な Na','は Ha','ま Ma','や Ya','れ Re','を Wo']\n",
        "                                                                                # Step 2\n",
        "predout     = np.argmax(predicts,axis=1)\n",
        "testout     = np.argmax(tsLbl,axis=1)\n",
        "\n",
        "testScores  = metrics.accuracy_score(testout,predout)                           # Step 3\n",
        "\n",
        "                                                                                # Step 4\n",
        "print(\"Best accuracy (on testing dataset): %.2f%%\" % (testScores*100))\n",
        "print(metrics.classification_report(testout,\n",
        "                                    predout,\n",
        "                                    target_names=labelname,\n",
        "                                    digits=4))"
      ],
      "execution_count": 11,
      "outputs": [
        {
          "output_type": "stream",
          "text": [
            "Best accuracy (on testing dataset): 96.06%\n",
            "              precision    recall  f1-score   support\n",
            "\n",
            "         お O     0.9680    0.9670    0.9675      1000\n",
            "        き Ki     0.9680    0.9390    0.9533      1000\n",
            "        す Su     0.9299    0.9420    0.9359      1000\n",
            "       つ Tsu     0.9749    0.9720    0.9735      1000\n",
            "        な Na     0.9537    0.9480    0.9509      1000\n",
            "        は Ha     0.9666    0.9540    0.9602      1000\n",
            "        ま Ma     0.9339    0.9750    0.9540      1000\n",
            "        や Ya     0.9748    0.9680    0.9714      1000\n",
            "        れ Re     0.9646    0.9810    0.9727      1000\n",
            "        を Wo     0.9736    0.9600    0.9668      1000\n",
            "\n",
            "    accuracy                         0.9606     10000\n",
            "   macro avg     0.9608    0.9606    0.9606     10000\n",
            "weighted avg     0.9608    0.9606    0.9606     10000\n",
            "\n"
          ],
          "name": "stdout"
        }
      ]
    },
    {
      "cell_type": "markdown",
      "metadata": {
        "colab_type": "text",
        "id": "gEK_4UXN6IVa"
      },
      "source": [
        "## **11. Print confusion matrix**\n",
        "---"
      ]
    },
    {
      "cell_type": "code",
      "metadata": {
        "colab_type": "code",
        "id": "UCBJCYp26L1t",
        "colab": {
          "base_uri": "https://localhost:8080/",
          "height": 185
        },
        "outputId": "29e2dc49-64ad-4bbb-ea38-69531ab44681"
      },
      "source": [
        "confusion   = metrics.confusion_matrix(testout,predout)\n",
        "print(confusion)"
      ],
      "execution_count": 12,
      "outputs": [
        {
          "output_type": "stream",
          "text": [
            "[[967   2   0   1  13   3   0   4   5   5]\n",
            " [  0 939   9   1   7   3  26   1   8   6]\n",
            " [  6   3 942   6  10   8  14   5   1   5]\n",
            " [  1   0  14 972   1   4   4   2   2   0]\n",
            " [ 11   4   1   6 948   8   6   4   9   3]\n",
            " [  2   3  18   3   2 954   8   1   5   4]\n",
            " [  2   4  11   3   2   1 975   2   0   0]\n",
            " [  1   6   6   1   4   3   7 968   1   3]\n",
            " [  1   4   5   3   2   1   3   0 981   0]\n",
            " [  8   5   7   1   5   2   1   6   5 960]]\n"
          ],
          "name": "stdout"
        }
      ]
    },
    {
      "cell_type": "markdown",
      "metadata": {
        "colab_type": "text",
        "id": "2QMIDPD46UGT"
      },
      "source": [
        "## **12. Plot curves on validation loss and accuracy**\n",
        "---"
      ]
    },
    {
      "cell_type": "code",
      "metadata": {
        "colab_type": "code",
        "id": "qr2ZbvUi6YHf",
        "colab": {
          "base_uri": "https://localhost:8080/",
          "height": 443
        },
        "outputId": "9ae0745f-d6f2-445c-e474-5b5d4b9d06d5"
      },
      "source": [
        "records     = pd.read_csv(folderpath+modelname +'.csv')\n",
        "plt.figure()\n",
        "plt.subplot(211)\n",
        "plt.plot(records['val_loss'], label=\"validation\")\n",
        "plt.plot(records['loss'],label=\"training\")\n",
        "plt.yticks([0.10,0.30,0.50,0.70])\n",
        "plt.title('Loss value',fontsize=12)\n",
        "\n",
        "ax          = plt.gca()\n",
        "ax.set_xticklabels([])\n",
        "\n",
        "plt.subplot(212)\n",
        "plt.plot(records['val_accuracy'],label=\"validation\")\n",
        "plt.plot(records['accuracy'],label=\"training\")\n",
        "plt.yticks([0.7,0.8,0.9,1.0])\n",
        "plt.title('Accuracy',fontsize=12)\n",
        "ax.legend()\n",
        "plt.show()"
      ],
      "execution_count": 13,
      "outputs": [
        {
          "output_type": "display_data",
          "data": {
            "image/png": "[encoded data removed]",
            "text/plain": [
              "<Figure size 504x504 with 2 Axes>"
            ]
          },
          "metadata": {
            "tags": []
          }
        }
      ]
    },
    {
      "cell_type": "markdown",
      "metadata": {
        "colab_type": "text",
        "id": "PWoTz-bLug3X"
      },
      "source": [
        "## **13. Save the model plot**\n",
        "---"
      ]
    },
    {
      "cell_type": "code",
      "metadata": {
        "colab_type": "code",
        "id": "Tz1YfuV1ujcE",
        "colab": {
          "base_uri": "https://localhost:8080/",
          "height": 34
        },
        "outputId": "5f75eb9c-ed86-4c96-bf75-d158db9b3dcd"
      },
      "source": [
        "plotpath  = folderpath+modelname+'_plot.png'\n",
        "plot_model(model, \n",
        "           to_file=plotpath, \n",
        "           show_shapes=True, \n",
        "           show_layer_names=False,\n",
        "           rankdir='TB')\n",
        "\n",
        "print(\"Path to plot:\", plotpath)"
      ],
      "execution_count": 14,
      "outputs": [
        {
          "output_type": "stream",
          "text": [
            "Path to plot: /content/gdrive/My Drive/Colab Notebooks/psupr_workshop/wks5_5_plot.png\n"
          ],
          "name": "stdout"
        }
      ]
    }
  ]
}