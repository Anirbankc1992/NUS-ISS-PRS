{
 "cells": [
  {
   "cell_type": "markdown",
   "metadata": {
    "colab_type": "text",
    "id": "CRNVzhoo1clG"
   },
   "source": [
    "## **1. Mount google drive**\n",
    "---"
   ]
  },
  {
   "cell_type": "code",
   "execution_count": null,
   "metadata": {
    "colab": {
     "base_uri": "https://localhost:8080/",
     "height": 35
    },
    "colab_type": "code",
    "executionInfo": {
     "elapsed": 1809,
     "status": "ok",
     "timestamp": 1595398390808,
     "user": {
      "displayName": "Prashant C",
      "photoUrl": "https://lh3.googleusercontent.com/a-/AOh14Ggwb_SesDEiPocMs5VjZaJB31uAQc4VsTALR1FN2g=s64",
      "userId": "05841527001847780264"
     },
     "user_tz": -480
    },
    "id": "5W39GXyk1hME",
    "outputId": "55c58bf7-61e2-4776-d1c1-d91d27c43778"
   },
   "outputs": [
    {
     "name": "stdout",
     "output_type": "stream",
     "text": [
      "Mounted at /content/gdrive\n"
     ]
    }
   ],
   "source": [
    "from google.colab import drive\n",
    "drive.mount('/content/gdrive', force_remount=True)"
   ]
  },
  {
   "cell_type": "code",
   "execution_count": null,
   "metadata": {
    "colab": {
     "base_uri": "https://localhost:8080/",
     "height": 35
    },
    "colab_type": "code",
    "executionInfo": {
     "elapsed": 1785,
     "status": "ok",
     "timestamp": 1595397711660,
     "user": {
      "displayName": "Prashant C",
      "photoUrl": "https://lh3.googleusercontent.com/a-/AOh14Ggwb_SesDEiPocMs5VjZaJB31uAQc4VsTALR1FN2g=s64",
      "userId": "05841527001847780264"
     },
     "user_tz": -480
    },
    "id": "NL9U1_LLEJoQ",
    "outputId": "5e2264d9-3556-4d07-9702-de7c520bf44d"
   },
   "outputs": [
    {
     "name": "stdout",
     "output_type": "stream",
     "text": [
      "Mounted at /content/drive\n"
     ]
    }
   ],
   "source": [
    "from google.colab import drive\n",
    "drive.mount('/content/drive')"
   ]
  },
  {
   "cell_type": "markdown",
   "metadata": {
    "colab_type": "text",
    "id": "dOQ-2xS_MYHi"
   },
   "source": [
    "## **2. Import the necessary libraries**\n",
    "---"
   ]
  },
  {
   "cell_type": "code",
   "execution_count": null,
   "metadata": {
    "colab": {
     "base_uri": "https://localhost:8080/",
     "height": 121
    },
    "colab_type": "code",
    "executionInfo": {
     "elapsed": 705,
     "status": "ok",
     "timestamp": 1595398393632,
     "user": {
      "displayName": "Prashant C",
      "photoUrl": "https://lh3.googleusercontent.com/a-/AOh14Ggwb_SesDEiPocMs5VjZaJB31uAQc4VsTALR1FN2g=s64",
      "userId": "05841527001847780264"
     },
     "user_tz": -480
    },
    "id": "yoi4gWDELtek",
    "outputId": "03d7122a-7518-4e83-a768-706e5b37460b"
   },
   "outputs": [
    {
     "name": "stdout",
     "output_type": "stream",
     "text": [
      "Versions of key libraries\n",
      "---\n",
      "tensorflow:  2.2.0\n",
      "numpy:       1.18.5\n",
      "matplotlib:  3.2.2\n",
      "sklearn:     0.22.2.post1\n"
     ]
    }
   ],
   "source": [
    "import matplotlib\n",
    "import sklearn\n",
    "import numpy as np\n",
    "import pandas as pd\n",
    "import sklearn.metrics as metrics\n",
    "import matplotlib.pyplot as plt\n",
    "import tensorflow as tf\n",
    "import os\n",
    "\n",
    "\n",
    "from tensorflow.keras.callbacks import ModelCheckpoint,CSVLogger\n",
    "from tensorflow.keras.models import Sequential\n",
    "from tensorflow.keras.layers import Dense\n",
    "from tensorflow.keras.layers import Dropout\n",
    "from tensorflow.keras.layers import Flatten\n",
    "from tensorflow.keras.layers import Conv2D\n",
    "from tensorflow.keras.layers import MaxPooling2D\n",
    "from tensorflow.keras.utils import to_categorical\n",
    "from tensorflow.keras.utils import plot_model\n",
    "\n",
    "\n",
    "\n",
    "print(\"Versions of key libraries\")\n",
    "print(\"---\")\n",
    "print(\"tensorflow: \", tf.__version__)\n",
    "print(\"numpy:      \", np.__version__)\n",
    "print(\"matplotlib: \", matplotlib.__version__)\n",
    "print(\"sklearn:    \", sklearn.__version__)"
   ]
  },
  {
   "cell_type": "markdown",
   "metadata": {
    "colab_type": "text",
    "id": "0amhwjZ4M2m-"
   },
   "source": [
    "## **3.Create a function to plot the japanese character correctly**\n",
    "---"
   ]
  },
  {
   "cell_type": "code",
   "execution_count": null,
   "metadata": {
    "colab": {
     "base_uri": "https://localhost:8080/",
     "height": 35
    },
    "colab_type": "code",
    "executionInfo": {
     "elapsed": 728,
     "status": "ok",
     "timestamp": 1595398396964,
     "user": {
      "displayName": "Prashant C",
      "photoUrl": "https://lh3.googleusercontent.com/a-/AOh14Ggwb_SesDEiPocMs5VjZaJB31uAQc4VsTALR1FN2g=s64",
      "userId": "05841527001847780264"
     },
     "user_tz": -480
    },
    "id": "OFxsBB1mNXl2",
    "outputId": "89c45915-f242-4de5-d822-9a49773740b8"
   },
   "outputs": [
    {
     "name": "stdout",
     "output_type": "stream",
     "text": [
      "<function grayplt at 0x7f42e104f488>\n"
     ]
    }
   ],
   "source": [
    "def grayplt(img,title=''):\n",
    "    plt.axis('off')\n",
    "    if np.size(img.shape) == 3:\n",
    "        plt.imshow(img[:,:,0],cmap='gray',vmin=0,vmax=1)\n",
    "    else:\n",
    "        plt.imshow(img,cmap='gray',vmin=0,vmax=1)\n",
    "    plt.title(title, fontproperties=prop)\n",
    "    plt.show()\n",
    "\n",
    "print(grayplt)"
   ]
  },
  {
   "cell_type": "markdown",
   "metadata": {
    "colab_type": "text",
    "id": "X3N41iixORPz"
   },
   "source": [
    "## **4. Setup matplotlib**\n",
    "---"
   ]
  },
  {
   "cell_type": "code",
   "execution_count": null,
   "metadata": {
    "colab": {
     "base_uri": "https://localhost:8080/",
     "height": 35
    },
    "colab_type": "code",
    "executionInfo": {
     "elapsed": 708,
     "status": "ok",
     "timestamp": 1595398399641,
     "user": {
      "displayName": "Prashant C",
      "photoUrl": "https://lh3.googleusercontent.com/a-/AOh14Ggwb_SesDEiPocMs5VjZaJB31uAQc4VsTALR1FN2g=s64",
      "userId": "05841527001847780264"
     },
     "user_tz": -480
    },
    "id": "OyO5OsUrOYNQ",
    "outputId": "d11b6660-100b-4796-ca7b-648c7d88c29b"
   },
   "outputs": [
    {
     "name": "stdout",
     "output_type": "stream",
     "text": [
      "Matplotlib setup completes.\n"
     ]
    }
   ],
   "source": [
    "                                          # Setting up the font manager, so that\n",
    "                                          # it can show japanese characters correctly\n",
    "from matplotlib import font_manager as fm\n",
    "fpath       = os.path.join(os.getcwd(), \"ipam.ttf\")\n",
    "prop        = fm.FontProperties(fname=fpath)\n",
    "\n",
    "plt.style.use('seaborn') \n",
    "plt.rcParams['ytick.right']     = True\n",
    "plt.rcParams['ytick.labelright']= True\n",
    "plt.rcParams['ytick.left']      = False\n",
    "plt.rcParams['ytick.labelleft'] = False\n",
    "plt.rcParams['figure.figsize']  = [7,7]   # Set the figure size to be 7 inch for (width,height)\n",
    "\n",
    "print(\"Matplotlib setup completes.\")"
   ]
  },
  {
   "cell_type": "markdown",
   "metadata": {
    "colab_type": "text",
    "id": "5w2jAiKZOmgP"
   },
   "source": [
    "## **5. Prepare data for training and testing**\n",
    "---\n",
    "* Step 1: Load the dataset \n",
    "* Step 2: Check the shape and type of the data, plot a sample for observation\n",
    "* Step 3: Convert the data into float32 and rescale the values from the range of 0\\~255 into 0\\~1\n",
    "* Step 4: Retrieve the row size and the column size of each image\n",
    "* Step 5: Reshape training and testing data to be in the form of `[samples,rows,columns,channel]`. This is required by Keras framework\n",
    "* Step 6: Perform one-hot enconding on the labels\n",
    "* Step 7: Retrieve the number of classes in this problem"
   ]
  },
  {
   "cell_type": "code",
   "execution_count": null,
   "metadata": {
    "colab": {
     "base_uri": "https://localhost:8080/",
     "height": 515
    },
    "colab_type": "code",
    "executionInfo": {
     "elapsed": 2352,
     "status": "ok",
     "timestamp": 1595398416829,
     "user": {
      "displayName": "Prashant C",
      "photoUrl": "https://lh3.googleusercontent.com/a-/AOh14Ggwb_SesDEiPocMs5VjZaJB31uAQc4VsTALR1FN2g=s64",
      "userId": "05841527001847780264"
     },
     "user_tz": -480
    },
    "id": "v3Ad2V0pO1TX",
    "outputId": "cb848e64-9dc4-45cb-8d92-a5b4326fb697"
   },
   "outputs": [
    {
     "name": "stdout",
     "output_type": "stream",
     "text": [
      "The shape of trDat is (60000, 28, 28) and the type of trDat is uint8\n",
      "The shape of tsDat is (10000, 28, 28) and the type of tsDat is uint8\n",
      "\n",
      "The shape of trLbl is (60000,) and the type of trLbl is uint8\n",
      "The shape of tsLbl is (10000,) and the type of tsLbl is uint8\n",
      "\n"
     ]
    },
    {
     "data": {
      "image/png": "[encoded data removed]",
      "text/plain": [
       "<Figure size 504x504 with 1 Axes>"
      ]
     },
     "metadata": {
      "tags": []
     },
     "output_type": "display_data"
    }
   ],
   "source": [
    "                                                                                # Step 1\n",
    "trDat       = np.load('/content/gdrive/My Drive/Colab Notebooks/kmnist-train-imgs.npz')['arr_0']\n",
    "trLbl       = np.load('/content/gdrive/My Drive/Colab Notebooks/kmnist-train-labels.npz')['arr_0']\n",
    "tsDat       = np.load('/content/gdrive/My Drive/Colab Notebooks/kmnist-test-imgs.npz')['arr_0']\n",
    "tsLbl       = np.load('/content/gdrive/My Drive/Colab Notebooks/kmnist-test-labels.npz')['arr_0']\n",
    "\n",
    "                                                                                # Step 2\n",
    "print(\"The shape of trDat is\", trDat.shape, \"and the type of trDat is\", trDat.dtype)\n",
    "print(\"The shape of tsDat is\", tsDat.shape, \"and the type of tsDat is\", tsDat.dtype)\n",
    "print(\"\")\n",
    "print(\"The shape of trLbl is\", trLbl.shape, \"and the type of trLbl is\", trLbl.dtype)\n",
    "print(\"The shape of tsLbl is\", tsLbl.shape, \"and the type of tsLbl is\", tsLbl.dtype)\n",
    "print(\"\")\n",
    "grayplt(trDat[132])\n",
    "\n",
    "                                                                                # Step 3\n",
    "trDat           = trDat.astype('float32')/255\n",
    "tsDat           = tsDat.astype('float32')/255\n",
    "\n",
    "                                                                                # Step 4\n",
    "imgrows         = trDat.shape[1]\n",
    "imgclms         = trDat.shape[2]\n",
    "\n",
    "                                                                                # Step 5\n",
    "trDat       = trDat.reshape(trDat.shape[0],\n",
    "                            imgrows,\n",
    "                            imgclms,\n",
    "                            1)\n",
    "tsDat       = tsDat.reshape(tsDat.shape[0],\n",
    "                            imgrows,\n",
    "                            imgclms,\n",
    "                            1)\n",
    "\n",
    "                                                                                # Step 6\n",
    "trLbl           = to_categorical(trLbl)\n",
    "tsLbl           = to_categorical(tsLbl)\n",
    "                               \n",
    "num_classes     = tsLbl.shape[1]                                                # Step 7"
   ]
  },
  {
   "cell_type": "markdown",
   "metadata": {
    "colab_type": "text",
    "id": "DoP3WcoJW-jZ"
   },
   "source": [
    "## **6. Define deep learning model (to be completed)**\n",
    "___\n",
    "* Step 1: Set a name for the coming model (required for saving)\n",
    "* Step 2: Define the convolutional neural network model (to be completed)\n",
    "* Step 3: Create models for training and testing\n",
    "* Step 4: Display the summary of the model of interest "
   ]
  },
  {
   "cell_type": "code",
   "execution_count": null,
   "metadata": {
    "colab": {
     "base_uri": "https://localhost:8080/",
     "height": 433
    },
    "colab_type": "code",
    "executionInfo": {
     "elapsed": 8093,
     "status": "ok",
     "timestamp": 1595398430756,
     "user": {
      "displayName": "Prashant C",
      "photoUrl": "https://lh3.googleusercontent.com/a-/AOh14Ggwb_SesDEiPocMs5VjZaJB31uAQc4VsTALR1FN2g=s64",
      "userId": "05841527001847780264"
     },
     "user_tz": -480
    },
    "id": "0HMOes0kXCPd",
    "outputId": "84b4adb3-3455-4a18-b2a6-1a4b2866dd82"
   },
   "outputs": [
    {
     "name": "stdout",
     "output_type": "stream",
     "text": [
      "Model: \"sequential\"\n",
      "_________________________________________________________________\n",
      "Layer (type)                 Output Shape              Param #   \n",
      "=================================================================\n",
      "conv2d (Conv2D)              (None, 26, 26, 32)        320       \n",
      "_________________________________________________________________\n",
      "max_pooling2d (MaxPooling2D) (None, 13, 13, 32)        0         \n",
      "_________________________________________________________________\n",
      "conv2d_1 (Conv2D)            (None, 11, 11, 64)        18496     \n",
      "_________________________________________________________________\n",
      "max_pooling2d_1 (MaxPooling2 (None, 5, 5, 64)          0         \n",
      "_________________________________________________________________\n",
      "flatten (Flatten)            (None, 1600)              0         \n",
      "_________________________________________________________________\n",
      "dense (Dense)                (None, 100)               160100    \n",
      "_________________________________________________________________\n",
      "dropout (Dropout)            (None, 100)               0         \n",
      "_________________________________________________________________\n",
      "dense_1 (Dense)              (None, 10)                1010      \n",
      "=================================================================\n",
      "Total params: 179,926\n",
      "Trainable params: 179,926\n",
      "Non-trainable params: 0\n",
      "_________________________________________________________________\n"
     ]
    }
   ],
   "source": [
    "modelname   = 'wks5_5'                                                          # Step 1\n",
    "\n",
    "from tensorflow.keras.optimizers import SGD\n",
    "                                                         \n",
    "                                                                                # Step 2\n",
    "def createModel():\n",
    "    model = Sequential()  #initializing the model\n",
    "    model.add(Conv2D(32, (3, 3), activation='relu', kernel_initializer='he_uniform', input_shape=(imgrows, imgclms, 1)))   #1st Layer of Conv\n",
    "    model.add(MaxPooling2D((2, 2)))\n",
    "    model.add(Conv2D(64, (3, 3), activation='relu'))      #2nd Layer of Conv\n",
    "    model.add(MaxPooling2D((2, 2)))\n",
    "    model.add(Flatten())\n",
    "    model.add(Dense(100, activation='relu', kernel_initializer='he_uniform'))\n",
    "    model.add(Dropout(0.25))\n",
    "    model.add(Dense(num_classes, activation='softmax'))\n",
    "    # compile model\n",
    "    opt = SGD(lr=0.01, momentum=0.9)\n",
    "    model.compile(optimizer=opt, loss='categorical_crossentropy', metrics=['accuracy'])\n",
    "    \n",
    "    return model\n",
    "\n",
    "                                                                                # Step 3\n",
    "model       = createModel() # This is meant for training\n",
    "modelGo     = createModel() # This is used for final testing\n",
    "\n",
    "model.summary()                                                                 # Step 4"
   ]
  },
  {
   "cell_type": "markdown",
   "metadata": {
    "colab_type": "text",
    "id": "DlquJEaFZxV9"
   },
   "source": [
    "## **7. Create the callbacks to be applied during training**\n",
    "---\n",
    "* Step 1: Create a callback to save the model from an epoch when validation accuracy is the highest\n",
    "* Step 2: Create a callback to save the training loss, training accuracy, validation loss and validation accuracy of each epoch into a csv file\n",
    "* Step 3: Put the two callbacks objects into a list"
   ]
  },
  {
   "cell_type": "code",
   "execution_count": null,
   "metadata": {
    "colab": {
     "base_uri": "https://localhost:8080/",
     "height": 121
    },
    "colab_type": "code",
    "executionInfo": {
     "elapsed": 725,
     "status": "ok",
     "timestamp": 1595398678138,
     "user": {
      "displayName": "Prashant C",
      "photoUrl": "https://lh3.googleusercontent.com/a-/AOh14Ggwb_SesDEiPocMs5VjZaJB31uAQc4VsTALR1FN2g=s64",
      "userId": "05841527001847780264"
     },
     "user_tz": -480
    },
    "id": "9-a1LSCbahKy",
    "outputId": "ea1a210f-2c1a-43c8-a1ea-7c4e24f45c9d"
   },
   "outputs": [
    {
     "name": "stdout",
     "output_type": "stream",
     "text": [
      "Callbacks created:\n",
      "<tensorflow.python.keras.callbacks.ModelCheckpoint object at 0x7f42d0342160>\n",
      "<tensorflow.python.keras.callbacks.CSVLogger object at 0x7f42d0342198>\n",
      "\n",
      "Path to model: /content/gdrive/My Drive/Colab Notebooks/wks5_5.hdf5\n",
      "Path to log:   /content/gdrive/My Drive/Colab Notebooks/wks5_5.csv\n"
     ]
    }
   ],
   "source": [
    "                                                                                # Step 1\n",
    "folderpath      = '/content/gdrive/My Drive/Colab Notebooks/'\n",
    "filepath        = folderpath + modelname + \".hdf5\"\n",
    "checkpoint      = ModelCheckpoint(filepath, \n",
    "                                  monitor='val_accuracy', \n",
    "                                  verbose=0, \n",
    "                                  save_best_only=True, \n",
    "                                  mode='max')\n",
    "\n",
    "csv_logger      = CSVLogger(folderpath+modelname +'.csv')                       # Step 2\n",
    "callbacks_list  = [checkpoint,csv_logger]                                       # Step 3\n",
    "\n",
    "print(\"Callbacks created:\")\n",
    "print(callbacks_list[0])\n",
    "print(callbacks_list[1])\n",
    "print('')\n",
    "print(\"Path to model:\", filepath)\n",
    "print(\"Path to log:  \", folderpath+modelname+'.csv')"
   ]
  },
  {
   "cell_type": "markdown",
   "metadata": {
    "colab_type": "text",
    "id": "1mKgjQsmfOBz"
   },
   "source": [
    "## **8. Train the deep learning model**\n",
    "___"
   ]
  },
  {
   "cell_type": "code",
   "execution_count": null,
   "metadata": {
    "colab": {
     "base_uri": "https://localhost:8080/",
     "height": 1000
    },
    "colab_type": "code",
    "executionInfo": {
     "elapsed": 274616,
     "status": "ok",
     "timestamp": 1595398962141,
     "user": {
      "displayName": "Prashant C",
      "photoUrl": "https://lh3.googleusercontent.com/a-/AOh14Ggwb_SesDEiPocMs5VjZaJB31uAQc4VsTALR1FN2g=s64",
      "userId": "05841527001847780264"
     },
     "user_tz": -480
    },
    "id": "23lUNwpGfV0A",
    "outputId": "692b70b0-0615-4bf1-9766-32ba3bb6bdd7"
   },
   "outputs": [
    {
     "name": "stdout",
     "output_type": "stream",
     "text": [
      "Epoch 1/60\n",
      "469/469 [==============================] - 5s 11ms/step - loss: 0.5292 - accuracy: 0.8327 - val_loss: 0.4804 - val_accuracy: 0.8484\n",
      "Epoch 2/60\n",
      "469/469 [==============================] - 4s 9ms/step - loss: 0.2094 - accuracy: 0.9366 - val_loss: 0.3498 - val_accuracy: 0.8949\n",
      "Epoch 3/60\n",
      "469/469 [==============================] - 4s 9ms/step - loss: 0.1512 - accuracy: 0.9542 - val_loss: 0.2901 - val_accuracy: 0.9152\n",
      "Epoch 4/60\n",
      "469/469 [==============================] - 4s 9ms/step - loss: 0.1210 - accuracy: 0.9630 - val_loss: 0.2763 - val_accuracy: 0.9188\n",
      "Epoch 5/60\n",
      "469/469 [==============================] - 4s 9ms/step - loss: 0.1030 - accuracy: 0.9683 - val_loss: 0.2471 - val_accuracy: 0.9284\n",
      "Epoch 6/60\n",
      "469/469 [==============================] - 4s 9ms/step - loss: 0.0892 - accuracy: 0.9722 - val_loss: 0.2608 - val_accuracy: 0.9257\n",
      "Epoch 7/60\n",
      "469/469 [==============================] - 5s 10ms/step - loss: 0.0773 - accuracy: 0.9759 - val_loss: 0.2291 - val_accuracy: 0.9372\n",
      "Epoch 8/60\n",
      "469/469 [==============================] - 4s 9ms/step - loss: 0.0680 - accuracy: 0.9786 - val_loss: 0.2167 - val_accuracy: 0.9413\n",
      "Epoch 9/60\n",
      "469/469 [==============================] - 4s 9ms/step - loss: 0.0607 - accuracy: 0.9805 - val_loss: 0.2426 - val_accuracy: 0.9339\n",
      "Epoch 10/60\n",
      "469/469 [==============================] - 5s 10ms/step - loss: 0.0571 - accuracy: 0.9823 - val_loss: 0.2055 - val_accuracy: 0.9440\n",
      "Epoch 11/60\n",
      "469/469 [==============================] - 4s 9ms/step - loss: 0.0499 - accuracy: 0.9842 - val_loss: 0.2062 - val_accuracy: 0.9463\n",
      "Epoch 12/60\n",
      "469/469 [==============================] - 4s 9ms/step - loss: 0.0478 - accuracy: 0.9847 - val_loss: 0.2109 - val_accuracy: 0.9455\n",
      "Epoch 13/60\n",
      "469/469 [==============================] - 4s 9ms/step - loss: 0.0414 - accuracy: 0.9868 - val_loss: 0.2041 - val_accuracy: 0.9501\n",
      "Epoch 14/60\n",
      "469/469 [==============================] - 4s 9ms/step - loss: 0.0388 - accuracy: 0.9874 - val_loss: 0.2092 - val_accuracy: 0.9472\n",
      "Epoch 15/60\n",
      "469/469 [==============================] - 5s 10ms/step - loss: 0.0355 - accuracy: 0.9887 - val_loss: 0.2032 - val_accuracy: 0.9516\n",
      "Epoch 16/60\n",
      "469/469 [==============================] - 4s 9ms/step - loss: 0.0328 - accuracy: 0.9896 - val_loss: 0.2311 - val_accuracy: 0.9473\n",
      "Epoch 17/60\n",
      "469/469 [==============================] - 5s 10ms/step - loss: 0.0311 - accuracy: 0.9902 - val_loss: 0.2081 - val_accuracy: 0.9518\n",
      "Epoch 18/60\n",
      "469/469 [==============================] - 5s 10ms/step - loss: 0.0288 - accuracy: 0.9905 - val_loss: 0.2221 - val_accuracy: 0.9486\n",
      "Epoch 19/60\n",
      "469/469 [==============================] - 5s 10ms/step - loss: 0.0279 - accuracy: 0.9909 - val_loss: 0.2152 - val_accuracy: 0.9512\n",
      "Epoch 20/60\n",
      "469/469 [==============================] - 5s 11ms/step - loss: 0.0249 - accuracy: 0.9918 - val_loss: 0.2254 - val_accuracy: 0.9492\n",
      "Epoch 21/60\n",
      "469/469 [==============================] - 5s 10ms/step - loss: 0.0239 - accuracy: 0.9920 - val_loss: 0.2097 - val_accuracy: 0.9514\n",
      "Epoch 22/60\n",
      "469/469 [==============================] - 5s 10ms/step - loss: 0.0221 - accuracy: 0.9927 - val_loss: 0.2106 - val_accuracy: 0.9519\n",
      "Epoch 23/60\n",
      "469/469 [==============================] - 5s 10ms/step - loss: 0.0212 - accuracy: 0.9934 - val_loss: 0.2157 - val_accuracy: 0.9522\n",
      "Epoch 24/60\n",
      "469/469 [==============================] - 4s 9ms/step - loss: 0.0213 - accuracy: 0.9930 - val_loss: 0.2217 - val_accuracy: 0.9522\n",
      "Epoch 25/60\n",
      "469/469 [==============================] - 4s 10ms/step - loss: 0.0199 - accuracy: 0.9933 - val_loss: 0.2215 - val_accuracy: 0.9528\n",
      "Epoch 26/60\n",
      "469/469 [==============================] - 4s 9ms/step - loss: 0.0180 - accuracy: 0.9943 - val_loss: 0.2276 - val_accuracy: 0.9513\n",
      "Epoch 27/60\n",
      "469/469 [==============================] - 5s 10ms/step - loss: 0.0171 - accuracy: 0.9941 - val_loss: 0.2291 - val_accuracy: 0.9532\n",
      "Epoch 28/60\n",
      "469/469 [==============================] - 4s 9ms/step - loss: 0.0164 - accuracy: 0.9945 - val_loss: 0.2176 - val_accuracy: 0.9524\n",
      "Epoch 29/60\n",
      "469/469 [==============================] - 4s 9ms/step - loss: 0.0162 - accuracy: 0.9945 - val_loss: 0.2409 - val_accuracy: 0.9520\n",
      "Epoch 30/60\n",
      "469/469 [==============================] - 5s 10ms/step - loss: 0.0157 - accuracy: 0.9948 - val_loss: 0.2404 - val_accuracy: 0.9533\n",
      "Epoch 31/60\n",
      "469/469 [==============================] - 4s 9ms/step - loss: 0.0149 - accuracy: 0.9951 - val_loss: 0.2376 - val_accuracy: 0.9526\n",
      "Epoch 32/60\n",
      "469/469 [==============================] - 4s 9ms/step - loss: 0.0140 - accuracy: 0.9953 - val_loss: 0.2411 - val_accuracy: 0.9548\n",
      "Epoch 33/60\n",
      "469/469 [==============================] - 4s 9ms/step - loss: 0.0134 - accuracy: 0.9957 - val_loss: 0.2302 - val_accuracy: 0.9545\n",
      "Epoch 34/60\n",
      "469/469 [==============================] - 4s 9ms/step - loss: 0.0144 - accuracy: 0.9951 - val_loss: 0.2419 - val_accuracy: 0.9527\n",
      "Epoch 35/60\n",
      "469/469 [==============================] - 4s 9ms/step - loss: 0.0145 - accuracy: 0.9948 - val_loss: 0.2406 - val_accuracy: 0.9548\n",
      "Epoch 36/60\n",
      "469/469 [==============================] - 5s 10ms/step - loss: 0.0133 - accuracy: 0.9958 - val_loss: 0.2428 - val_accuracy: 0.9562\n",
      "Epoch 37/60\n",
      "469/469 [==============================] - 4s 9ms/step - loss: 0.0136 - accuracy: 0.9955 - val_loss: 0.2413 - val_accuracy: 0.9545\n",
      "Epoch 38/60\n",
      "469/469 [==============================] - 4s 9ms/step - loss: 0.0113 - accuracy: 0.9962 - val_loss: 0.2430 - val_accuracy: 0.9557\n",
      "Epoch 39/60\n",
      "469/469 [==============================] - 4s 9ms/step - loss: 0.0107 - accuracy: 0.9965 - val_loss: 0.2492 - val_accuracy: 0.9543\n",
      "Epoch 40/60\n",
      "469/469 [==============================] - 4s 9ms/step - loss: 0.0118 - accuracy: 0.9960 - val_loss: 0.2518 - val_accuracy: 0.9562\n",
      "Epoch 41/60\n",
      "469/469 [==============================] - 5s 10ms/step - loss: 0.0103 - accuracy: 0.9963 - val_loss: 0.2379 - val_accuracy: 0.9563\n",
      "Epoch 42/60\n",
      "469/469 [==============================] - 4s 9ms/step - loss: 0.0108 - accuracy: 0.9964 - val_loss: 0.2497 - val_accuracy: 0.9540\n",
      "Epoch 43/60\n",
      "469/469 [==============================] - 4s 9ms/step - loss: 0.0098 - accuracy: 0.9968 - val_loss: 0.2523 - val_accuracy: 0.9552\n",
      "Epoch 44/60\n",
      "469/469 [==============================] - 4s 9ms/step - loss: 0.0110 - accuracy: 0.9962 - val_loss: 0.2381 - val_accuracy: 0.9559\n",
      "Epoch 45/60\n",
      "469/469 [==============================] - 4s 9ms/step - loss: 0.0100 - accuracy: 0.9966 - val_loss: 0.2545 - val_accuracy: 0.9551\n",
      "Epoch 46/60\n",
      "469/469 [==============================] - 4s 9ms/step - loss: 0.0089 - accuracy: 0.9973 - val_loss: 0.2528 - val_accuracy: 0.9550\n",
      "Epoch 47/60\n",
      "469/469 [==============================] - 4s 9ms/step - loss: 0.0094 - accuracy: 0.9968 - val_loss: 0.2529 - val_accuracy: 0.9533\n",
      "Epoch 48/60\n",
      "469/469 [==============================] - 4s 9ms/step - loss: 0.0092 - accuracy: 0.9970 - val_loss: 0.2476 - val_accuracy: 0.9537\n",
      "Epoch 49/60\n",
      "469/469 [==============================] - 4s 9ms/step - loss: 0.0082 - accuracy: 0.9973 - val_loss: 0.2739 - val_accuracy: 0.9507\n",
      "Epoch 50/60\n",
      "469/469 [==============================] - 4s 9ms/step - loss: 0.0088 - accuracy: 0.9975 - val_loss: 0.2585 - val_accuracy: 0.9561\n",
      "Epoch 51/60\n",
      "469/469 [==============================] - 5s 10ms/step - loss: 0.0081 - accuracy: 0.9974 - val_loss: 0.2541 - val_accuracy: 0.9583\n",
      "Epoch 52/60\n",
      "469/469 [==============================] - 4s 9ms/step - loss: 0.0073 - accuracy: 0.9974 - val_loss: 0.2621 - val_accuracy: 0.9565\n",
      "Epoch 53/60\n",
      "469/469 [==============================] - 4s 9ms/step - loss: 0.0076 - accuracy: 0.9976 - val_loss: 0.2564 - val_accuracy: 0.9568\n",
      "Epoch 54/60\n",
      "469/469 [==============================] - 4s 9ms/step - loss: 0.0072 - accuracy: 0.9975 - val_loss: 0.2721 - val_accuracy: 0.9565\n",
      "Epoch 55/60\n",
      "469/469 [==============================] - 4s 9ms/step - loss: 0.0071 - accuracy: 0.9975 - val_loss: 0.2680 - val_accuracy: 0.9553\n",
      "Epoch 56/60\n",
      "469/469 [==============================] - 4s 9ms/step - loss: 0.0071 - accuracy: 0.9977 - val_loss: 0.2826 - val_accuracy: 0.9538\n",
      "Epoch 57/60\n",
      "469/469 [==============================] - 4s 9ms/step - loss: 0.0074 - accuracy: 0.9974 - val_loss: 0.2589 - val_accuracy: 0.9563\n",
      "Epoch 58/60\n",
      "469/469 [==============================] - 4s 9ms/step - loss: 0.0077 - accuracy: 0.9974 - val_loss: 0.2667 - val_accuracy: 0.9570\n",
      "Epoch 59/60\n",
      "469/469 [==============================] - 4s 9ms/step - loss: 0.0063 - accuracy: 0.9979 - val_loss: 0.2675 - val_accuracy: 0.9563\n",
      "Epoch 60/60\n",
      "469/469 [==============================] - 4s 9ms/step - loss: 0.0072 - accuracy: 0.9976 - val_loss: 0.2543 - val_accuracy: 0.9578\n"
     ]
    },
    {
     "data": {
      "text/plain": [
       "<tensorflow.python.keras.callbacks.History at 0x7f42d02e7080>"
      ]
     },
     "execution_count": 23,
     "metadata": {
      "tags": []
     },
     "output_type": "execute_result"
    }
   ],
   "source": [
    "model.fit(trDat,                            # Training data\n",
    "          trLbl,                            # Training label\n",
    "          validation_data=(tsDat, tsLbl),   # Validation data and label\n",
    "          epochs=60,                       # The amount of epochs to be trained\n",
    "          batch_size=128,                   \n",
    "          shuffle=True,                     # To shuffle the training data\n",
    "          callbacks=callbacks_list)         # Callbacks to execute the checkpoints"
   ]
  },
  {
   "cell_type": "markdown",
   "metadata": {
    "colab_type": "text",
    "id": "TevfJTd-s0nk"
   },
   "source": [
    "## **9. Validate the deep learning model**\n",
    "---\n",
    "* Step 1: Load the trained weights and compile the model\n",
    "* Step 2: Make prediction\n"
   ]
  },
  {
   "cell_type": "code",
   "execution_count": null,
   "metadata": {
    "colab": {
     "base_uri": "https://localhost:8080/",
     "height": 35
    },
    "colab_type": "code",
    "executionInfo": {
     "elapsed": 1804,
     "status": "ok",
     "timestamp": 1595399240538,
     "user": {
      "displayName": "Prashant C",
      "photoUrl": "https://lh3.googleusercontent.com/a-/AOh14Ggwb_SesDEiPocMs5VjZaJB31uAQc4VsTALR1FN2g=s64",
      "userId": "05841527001847780264"
     },
     "user_tz": -480
    },
    "id": "2sVtWmcVtiV5",
    "outputId": "c65bcd89-cea2-4cb4-dc5b-d16c4c84c128"
   },
   "outputs": [
    {
     "name": "stdout",
     "output_type": "stream",
     "text": [
      "Prediction completes.\n"
     ]
    }
   ],
   "source": [
    "                                                                                # Step 1\n",
    "modelGo.load_weights(filepath)\n",
    "modelGo.compile(loss='categorical_crossentropy', \n",
    "                optimizer='adam', \n",
    "                metrics=['accuracy'])\n",
    "\n",
    "predicts    = modelGo.predict(tsDat)                                            # Step 2\n",
    "print(\"Prediction completes.\")"
   ]
  },
  {
   "cell_type": "markdown",
   "metadata": {
    "colab_type": "text",
    "id": "0aOCUljp5qq4"
   },
   "source": [
    "## **10. Report classification metrics**\n",
    "---\n",
    "* Step 1: Setup the label\n",
    "* Step 2: Convert label from one-hot to integer\n",
    "* Step 3: Calculate the accuracy score\n",
    "* Step 4: Generate classification report"
   ]
  },
  {
   "cell_type": "code",
   "execution_count": null,
   "metadata": {
    "colab": {
     "base_uri": "https://localhost:8080/",
     "height": 329
    },
    "colab_type": "code",
    "executionInfo": {
     "elapsed": 748,
     "status": "ok",
     "timestamp": 1595399258356,
     "user": {
      "displayName": "Prashant C",
      "photoUrl": "https://lh3.googleusercontent.com/a-/AOh14Ggwb_SesDEiPocMs5VjZaJB31uAQc4VsTALR1FN2g=s64",
      "userId": "05841527001847780264"
     },
     "user_tz": -480
    },
    "id": "2tI4hBmk5uRh",
    "outputId": "349338f2-6170-4973-deca-996b0006e097"
   },
   "outputs": [
    {
     "name": "stdout",
     "output_type": "stream",
     "text": [
      "Best accuracy (on testing dataset): 95.83%\n",
      "              precision    recall  f1-score   support\n",
      "\n",
      "         お O     0.9640    0.9640    0.9640      1000\n",
      "        き Ki     0.9734    0.9510    0.9621      1000\n",
      "        す Su     0.9426    0.9190    0.9306      1000\n",
      "       つ Tsu     0.9441    0.9800    0.9617      1000\n",
      "        な Na     0.9610    0.9360    0.9483      1000\n",
      "        は Ha     0.9814    0.9490    0.9649      1000\n",
      "        ま Ma     0.9316    0.9810    0.9557      1000\n",
      "        や Ya     0.9556    0.9690    0.9623      1000\n",
      "        れ Re     0.9531    0.9750    0.9639      1000\n",
      "        を Wo     0.9796    0.9590    0.9692      1000\n",
      "\n",
      "    accuracy                         0.9583     10000\n",
      "   macro avg     0.9586    0.9583    0.9583     10000\n",
      "weighted avg     0.9586    0.9583    0.9583     10000\n",
      "\n"
     ]
    }
   ],
   "source": [
    "                                                                                # Step 1\n",
    "labelname   = ['お O','き Ki','す Su','つ Tsu','な Na','は Ha','ま Ma','や Ya','れ Re','を Wo']\n",
    "                                                                                # Step 2\n",
    "predout     = np.argmax(predicts,axis=1)\n",
    "testout     = np.argmax(tsLbl,axis=1)\n",
    "\n",
    "testScores  = metrics.accuracy_score(testout,predout)                           # Step 3\n",
    "\n",
    "                                                                                # Step 4\n",
    "print(\"Best accuracy (on testing dataset): %.2f%%\" % (testScores*100))\n",
    "print(metrics.classification_report(testout,\n",
    "                                    predout,\n",
    "                                    target_names=labelname,\n",
    "                                    digits=4))"
   ]
  },
  {
   "cell_type": "markdown",
   "metadata": {
    "colab_type": "text",
    "id": "gEK_4UXN6IVa"
   },
   "source": [
    "## **11. Print confusion matrix**\n",
    "---"
   ]
  },
  {
   "cell_type": "code",
   "execution_count": null,
   "metadata": {
    "colab": {
     "base_uri": "https://localhost:8080/",
     "height": 191
    },
    "colab_type": "code",
    "executionInfo": {
     "elapsed": 755,
     "status": "ok",
     "timestamp": 1595399268897,
     "user": {
      "displayName": "Prashant C",
      "photoUrl": "https://lh3.googleusercontent.com/a-/AOh14Ggwb_SesDEiPocMs5VjZaJB31uAQc4VsTALR1FN2g=s64",
      "userId": "05841527001847780264"
     },
     "user_tz": -480
    },
    "id": "UCBJCYp26L1t",
    "outputId": "1e58929b-ce56-40c2-f977-9726f110675c"
   },
   "outputs": [
    {
     "name": "stdout",
     "output_type": "stream",
     "text": [
      "[[964   4   1   2  13   3   0   9   3   1]\n",
      " [  0 951   4   1   5   1  22   4   8   4]\n",
      " [  8   1 919  28   6   5  14   8   8   3]\n",
      " [  1   2   8 980   0   3   4   1   1   0]\n",
      " [ 15   2   2  11 936   2   9   7  13   3]\n",
      " [  1   4  20   5   1 949  12   3   3   2]\n",
      " [  1   2   6   3   1   1 981   4   1   0]\n",
      " [  2   6   3   1   6   0   5 969   3   5]\n",
      " [  3   2   4   3   2   1   4   4 975   2]\n",
      " [  5   3   8   4   4   2   2   5   8 959]]\n"
     ]
    }
   ],
   "source": [
    "confusion   = metrics.confusion_matrix(testout,predout)\n",
    "print(confusion)"
   ]
  },
  {
   "cell_type": "markdown",
   "metadata": {
    "colab_type": "text",
    "id": "2QMIDPD46UGT"
   },
   "source": [
    "## **12. Plot curves on validation loss and accuracy**\n",
    "---"
   ]
  },
  {
   "cell_type": "code",
   "execution_count": null,
   "metadata": {
    "colab": {
     "base_uri": "https://localhost:8080/",
     "height": 443
    },
    "colab_type": "code",
    "executionInfo": {
     "elapsed": 1190,
     "status": "ok",
     "timestamp": 1595399281869,
     "user": {
      "displayName": "Prashant C",
      "photoUrl": "https://lh3.googleusercontent.com/a-/AOh14Ggwb_SesDEiPocMs5VjZaJB31uAQc4VsTALR1FN2g=s64",
      "userId": "05841527001847780264"
     },
     "user_tz": -480
    },
    "id": "qr2ZbvUi6YHf",
    "outputId": "77e4dc54-a1fd-4763-a90f-65d2dbff2667"
   },
   "outputs": [
    {
     "data": {
      "image/png": "[encoded data removed]",
      "text/plain": [
       "<Figure size 504x504 with 2 Axes>"
      ]
     },
     "metadata": {
      "tags": []
     },
     "output_type": "display_data"
    }
   ],
   "source": [
    "records     = pd.read_csv(folderpath+modelname +'.csv')\n",
    "plt.figure()\n",
    "plt.subplot(211)\n",
    "plt.plot(records['val_loss'], label=\"validation\")\n",
    "plt.plot(records['loss'],label=\"training\")\n",
    "plt.yticks([0.10,0.30,0.50,0.70])\n",
    "plt.title('Loss value',fontsize=12)\n",
    "\n",
    "ax          = plt.gca()\n",
    "ax.set_xticklabels([])\n",
    "\n",
    "plt.subplot(212)\n",
    "plt.plot(records['val_accuracy'],label=\"validation\")\n",
    "plt.plot(records['accuracy'],label=\"training\")\n",
    "plt.yticks([0.7,0.8,0.9,1.0])\n",
    "plt.title('Accuracy',fontsize=12)\n",
    "ax.legend()\n",
    "plt.show()"
   ]
  },
  {
   "cell_type": "markdown",
   "metadata": {
    "colab_type": "text",
    "id": "PWoTz-bLug3X"
   },
   "source": [
    "## **13. Save the model plot**\n",
    "---"
   ]
  },
  {
   "cell_type": "code",
   "execution_count": null,
   "metadata": {
    "colab": {
     "base_uri": "https://localhost:8080/",
     "height": 35
    },
    "colab_type": "code",
    "executionInfo": {
     "elapsed": 726,
     "status": "ok",
     "timestamp": 1595399307817,
     "user": {
      "displayName": "Prashant C",
      "photoUrl": "https://lh3.googleusercontent.com/a-/AOh14Ggwb_SesDEiPocMs5VjZaJB31uAQc4VsTALR1FN2g=s64",
      "userId": "05841527001847780264"
     },
     "user_tz": -480
    },
    "id": "Tz1YfuV1ujcE",
    "outputId": "762c7509-692b-4f25-ff90-c2069b591eab"
   },
   "outputs": [
    {
     "name": "stdout",
     "output_type": "stream",
     "text": [
      "Path to plot: /content/gdrive/My Drive/Colab Notebooks/wks5_5_plot.png\n"
     ]
    }
   ],
   "source": [
    "plotpath  = folderpath+modelname+'_plot.png'\n",
    "plot_model(model, \n",
    "           to_file=plotpath, \n",
    "           show_shapes=True, \n",
    "           show_layer_names=False,\n",
    "           rankdir='TB')\n",
    "\n",
    "print(\"Path to plot:\", plotpath)"
   ]
  }
 ],
 "metadata": {
  "accelerator": "GPU",
  "colab": {
   "collapsed_sections": [],
   "name": "psupr-wks5-prashant_chaudhary.ipynb",
   "provenance": [
    {
     "file_id": "1kEumFh-qVtkxKhixY8o77Hwm_6pPoOlA",
     "timestamp": 1595399638920
    },
    {
     "file_id": "1z75qZmM9IvtqFi3u6SIqElIMEqnTaAcd",
     "timestamp": 1595262537865
    },
    {
     "file_id": "152kbWdb8I5h7o92SOzK_r5XcdZg5emjW",
     "timestamp": 1590736164906
    },
    {
     "file_id": "1qfUV9hXrlIgs2886JqD12zcJMMHLcPcC",
     "timestamp": 1590733904847
    },
    {
     "file_id": "1eOlLfE_AkbpJy90ysjj60vVXuCetQOpw",
     "timestamp": 1590548226955
    }
   ]
  },
  "kernelspec": {
   "display_name": "Python 3",
   "language": "python",
   "name": "python3"
  },
  "language_info": {
   "codemirror_mode": {
    "name": "ipython",
    "version": 3
   },
   "file_extension": ".py",
   "mimetype": "text/x-python",
   "name": "python",
   "nbconvert_exporter": "python",
   "pygments_lexer": "ipython3",
   "version": "3.7.7"
  }
 },
 "nbformat": 4,
 "nbformat_minor": 1
}
