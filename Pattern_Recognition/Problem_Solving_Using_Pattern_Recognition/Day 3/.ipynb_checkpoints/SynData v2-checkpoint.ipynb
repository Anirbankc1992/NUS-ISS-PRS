{
 "cells": [
  {
   "cell_type": "code",
   "execution_count": 1,
   "metadata": {},
   "outputs": [
    {
     "name": "stdout",
     "output_type": "stream",
     "text": [
      "   Pregnancies  Glucose  BloodPressure  SkinThickness  Insulin   BMI  \\\n",
      "0            6      148             72             35        0  33.6   \n",
      "1            1       85             66             29        0  26.6   \n",
      "2            8      183             64              0        0  23.3   \n",
      "3            1       89             66             23       94  28.1   \n",
      "4            0      137             40             35      168  43.1   \n",
      "\n",
      "   DiabetesPedigreeFunction  Age  Outcome  \n",
      "0                     0.627   50        1  \n",
      "1                     0.351   31        0  \n",
      "2                     0.672   32        1  \n",
      "3                     0.167   21        0  \n",
      "4                     2.288   33        1  \n"
     ]
    }
   ],
   "source": [
    "import pandas as pd \n",
    "import numpy as np\n",
    "import matplotlib.pyplot as plt\n",
    "from sklearn.decomposition import PCA\n",
    "from sklearn.preprocessing import StandardScaler\n",
    "from sklearn import neighbors\n",
    "\n",
    "import os\n",
    "\n",
    "data_raw = pd.read_csv(\"diabetes.csv\")\n",
    "print (data_raw.head())"
   ]
  },
  {
   "cell_type": "code",
   "execution_count": 2,
   "metadata": {},
   "outputs": [],
   "source": [
    "y = data_raw['Outcome']\n",
    "X = data_raw.drop('Outcome', axis=1)\n",
    "\n",
    "from sklearn.model_selection import train_test_split\n",
    "X_train, X_test, y_train, y_test = train_test_split(X, y, random_state=0)"
   ]
  },
  {
   "cell_type": "code",
   "execution_count": 3,
   "metadata": {},
   "outputs": [
    {
     "name": "stdout",
     "output_type": "stream",
     "text": [
      "     Pregnancies  Glucose  BloodPressure  SkinThickness  Insulin   BMI  \\\n",
      "762            9       89             62              0        0  22.5   \n",
      "127            1      118             58             36       94  33.3   \n",
      "564            0       91             80              0        0  32.4   \n",
      "375           12      140             82             43      325  39.2   \n",
      "663            9      145             80             46      130  37.9   \n",
      "\n",
      "     DiabetesPedigreeFunction  Age  \n",
      "762                     0.142   33  \n",
      "127                     0.261   23  \n",
      "564                     0.601   27  \n",
      "375                     0.528   58  \n",
      "663                     0.637   40  \n"
     ]
    }
   ],
   "source": [
    "# create the normalizer and fit it to real train data\n",
    "#normalizer = StandardScaler()\n",
    "#normalizer.fit(X_train)\n",
    "\n",
    "# normalize the real train data\n",
    "#X_train = pd.DataFrame(normalizer.transform(X_train), columns=X.columns)\n",
    "print(X_train.head())"
   ]
  },
  {
   "cell_type": "code",
   "execution_count": 4,
   "metadata": {},
   "outputs": [],
   "source": [
    "# Setup PCA model  \n",
    "n_components = 1\n",
    "pca = PCA(n_components)"
   ]
  },
  {
   "cell_type": "code",
   "execution_count": 5,
   "metadata": {},
   "outputs": [],
   "source": [
    "# fit the standardized real train data to model & transform to PCA\n",
    "pca.fit(X_train)\n",
    "pca_train = pd.DataFrame(pca.transform(X_train))\n",
    "#print (pca_train)"
   ]
  },
  {
   "cell_type": "code",
   "execution_count": 6,
   "metadata": {},
   "outputs": [
    {
     "name": "stdout",
     "output_type": "stream",
     "text": [
      "                                 0\n",
      "Pregnancies              -0.001834\n",
      "Glucose                   0.095545\n",
      "BloodPressure             0.011847\n",
      "SkinThickness             0.058092\n",
      "Insulin                   0.993559\n",
      "BMI                       0.013058\n",
      "DiabetesPedigreeFunction  0.000551\n",
      "Age                      -0.004648\n"
     ]
    }
   ],
   "source": [
    "eigenvectors = np.round(pca.components_.transpose(),decimals=3)\n",
    "#print (f'eigenvectors: {eigenvectors}')\n",
    "\n",
    "eigenvalues = pca.explained_variance_\n",
    "#print (f'eigenvalues: {eigenvalues}')\n",
    "\n",
    "loadings= (np.sqrt(eigenvalues)*-1)*eigenvectors\n",
    "#print(f'PCA Loadings: {loadings}')\n",
    "\n",
    "loadings_table = pd.DataFrame(pca.components_.T, index=X.columns)\n",
    "print(loadings_table)"
   ]
  },
  {
   "cell_type": "code",
   "execution_count": 7,
   "metadata": {},
   "outputs": [],
   "source": [
    "# user reduced components to reverse data\n",
    "#n_components = 5\n",
    "#pca = PCA(n_components)\n",
    "#data_syn_std = pd.DataFrame(pca.inverse_transform(pca.fit_transform(data_std)))"
   ]
  },
  {
   "cell_type": "code",
   "execution_count": 8,
   "metadata": {},
   "outputs": [],
   "source": [
    "# user PCA components to create synthetic data\n",
    "S_train = pd.DataFrame(pca.inverse_transform(pca_train), columns=X.columns).round(3)\n",
    "#print (S_train.head())\n",
    "\n",
    "# un-normalize syn data\n",
    "#S_train = pd.DataFrame(normalizer.inverse_transform(S_train), columns=X.columns)"
   ]
  },
  {
   "cell_type": "code",
   "execution_count": 9,
   "metadata": {},
   "outputs": [
    {
     "name": "stdout",
     "output_type": "stream",
     "text": [
      "     Pregnancies  Glucose  BloodPressure  SkinThickness  Insulin   BMI  \\\n",
      "762            9       89             62              0        0  22.5   \n",
      "127            1      118             58             36       94  33.3   \n",
      "564            0       91             80              0        0  32.4   \n",
      "375           12      140             82             43      325  39.2   \n",
      "663            9      145             80             46      130  37.9   \n",
      "\n",
      "     DiabetesPedigreeFunction  Age  \n",
      "762                     0.142   33  \n",
      "127                     0.261   23  \n",
      "564                     0.601   27  \n",
      "375                     0.528   58  \n",
      "663                     0.637   40  \n",
      "   Pregnancies  Glucose  BloodPressure  SkinThickness  Insulin     BMI  \\\n",
      "0        4.002  112.732         68.640         16.005   -3.414  31.058   \n",
      "1        3.821  122.135         69.805         21.722   94.363  32.343   \n",
      "2        4.001  112.788         68.646         16.039   -2.840  31.065   \n",
      "3        3.396  144.321         72.556         35.211  325.067  35.375   \n",
      "4        3.750  125.876         70.269         23.997  133.267  32.854   \n",
      "\n",
      "   DiabetesPedigreeFunction     Age  \n",
      "0                     0.420  33.993  \n",
      "1                     0.474  33.536  \n",
      "2                     0.420  33.990  \n",
      "3                     0.602  32.456  \n",
      "4                     0.496  33.354  \n"
     ]
    }
   ],
   "source": [
    "print(X_train.head())\n",
    "print(S_train.head())"
   ]
  },
  {
   "cell_type": "code",
   "execution_count": 10,
   "metadata": {},
   "outputs": [
    {
     "name": "stdout",
     "output_type": "stream",
     "text": [
      "                          count    mean     std    min    25%     50%     75%  \\\n",
      "Pregnancies               576.0    3.84    3.43   0.00   1.00    3.00    6.00   \n",
      "Glucose                   576.0  121.16   31.70   0.00  99.00  118.00  141.00   \n",
      "BloodPressure             576.0   69.68   19.01   0.00  64.00   72.00   80.00   \n",
      "SkinThickness             576.0   21.13   16.03   0.00   0.00   24.00   33.00   \n",
      "Insulin                   576.0   84.18  117.31   0.00   0.00   44.50  130.50   \n",
      "BMI                       576.0   32.21    7.96   0.00  27.50   32.40   36.80   \n",
      "DiabetesPedigreeFunction  576.0    0.47    0.33   0.08   0.24    0.37    0.61   \n",
      "Age                       576.0   33.58   12.00  21.00  24.00   29.00   41.00   \n",
      "\n",
      "                             max  \n",
      "Pregnancies                17.00  \n",
      "Glucose                   198.00  \n",
      "BloodPressure             122.00  \n",
      "SkinThickness              99.00  \n",
      "Insulin                   846.00  \n",
      "BMI                        67.10  \n",
      "DiabetesPedigreeFunction    2.42  \n",
      "Age                        81.00  \n",
      "                          count    mean     std     min     25%     50%  \\\n",
      "Pregnancies               576.0    3.84    0.22    2.44    3.75    3.92   \n",
      "Glucose                   576.0  121.16   11.28  112.14  113.10  117.05   \n",
      "BloodPressure             576.0   69.68    1.40   68.57   68.68   69.17   \n",
      "SkinThickness             576.0   21.13    6.86   15.64   16.23   18.63   \n",
      "Insulin                   576.0   84.18  117.27   -9.58    0.38   41.44   \n",
      "BMI                       576.0   32.21    1.54   30.98   31.11   31.65   \n",
      "DiabetesPedigreeFunction  576.0    0.47    0.06    0.42    0.42    0.44   \n",
      "Age                       576.0   33.58    0.55   30.04   33.35   33.78   \n",
      "\n",
      "                             75%     max  \n",
      "Pregnancies                 4.00    4.01  \n",
      "Glucose                   125.88  194.08  \n",
      "BloodPressure              70.27   78.73  \n",
      "SkinThickness              24.00   65.46  \n",
      "Insulin                   133.30  842.51  \n",
      "BMI                        32.85   42.18  \n",
      "DiabetesPedigreeFunction    0.50    0.89  \n",
      "Age                        33.98   34.02  \n"
     ]
    }
   ],
   "source": [
    "# Compare Summary Stats\n",
    "print (np.round(X_train.describe().transpose(),decimals=2))\n",
    "print (np.round(S_train.describe().transpose(),decimals=2))"
   ]
  },
  {
   "cell_type": "code",
   "execution_count": 11,
   "metadata": {},
   "outputs": [
    {
     "data": {
      "image/png": "[encoded data removed]",
      "text/plain": [
       "<Figure size 864x576 with 9 Axes>"
      ]
     },
     "metadata": {
      "needs_background": "light"
     },
     "output_type": "display_data"
    },
    {
     "data": {
      "image/png": "[encoded data removed]",
      "text/plain": [
       "<Figure size 864x576 with 9 Axes>"
      ]
     },
     "metadata": {
      "needs_background": "light"
     },
     "output_type": "display_data"
    }
   ],
   "source": [
    "#Compare historgams\n",
    "X_train.hist(grid=True, figsize=(12,8), color='blue')\n",
    "plt.tight_layout()\n",
    "\n",
    "S_train.hist(grid=True, figsize=(12,8), color='blue')\n",
    "plt.tight_layout()"
   ]
  },
  {
   "cell_type": "code",
   "execution_count": 12,
   "metadata": {},
   "outputs": [
    {
     "name": "stdout",
     "output_type": "stream",
     "text": [
      "[[ 1.          0.13082924  0.14625514 -0.07092948 -0.06677745 -0.00587932\n",
      "  -0.03335825  0.54348918]\n",
      " [ 0.13082924  1.          0.14970073  0.06221419  0.33341329  0.23138082\n",
      "   0.1157154   0.2802444 ]\n",
      " [ 0.14625514  0.14970073  1.          0.20707465  0.06685704  0.29487725\n",
      "   0.05630947  0.22471723]\n",
      " [-0.07092948  0.06221419  0.20707465  1.          0.4227552   0.42398014\n",
      "   0.18444768 -0.15167615]\n",
      " [-0.06677745  0.33341329  0.06685704  0.4227552   1.          0.18521747\n",
      "   0.19328392 -0.0522914 ]\n",
      " [-0.00587932  0.23138082  0.29487725  0.42398014  0.18521747  1.\n",
      "   0.14350348  0.00960146]\n",
      " [-0.03335825  0.1157154   0.05630947  0.18444768  0.19328392  0.14350348\n",
      "   1.          0.04957168]\n",
      " [ 0.54348918  0.2802444   0.22471723 -0.15167615 -0.0522914   0.00960146\n",
      "   0.04957168  1.        ]]\n",
      "[[ 1.         -0.99999913 -0.9999991  -0.99999913 -0.99999913 -0.99999911\n",
      "  -0.99998993  0.99999897]\n",
      " [-0.99999913  1.          0.99999998  1.          1.          0.99999998\n",
      "   0.99999076 -0.99999986]\n",
      " [-0.9999991   0.99999998  1.          0.99999998  0.99999998  0.99999996\n",
      "   0.99999074 -0.99999983]\n",
      " [-0.99999913  1.          0.99999998  1.          1.          0.99999998\n",
      "   0.99999076 -0.99999986]\n",
      " [-0.99999913  1.          0.99999998  1.          1.          0.99999998\n",
      "   0.99999075 -0.99999986]\n",
      " [-0.99999911  0.99999998  0.99999996  0.99999998  0.99999998  1.\n",
      "   0.99999078 -0.99999984]\n",
      " [-0.99998993  0.99999076  0.99999074  0.99999076  0.99999075  0.99999078\n",
      "   1.         -0.99999071]\n",
      " [ 0.99999897 -0.99999986 -0.99999983 -0.99999986 -0.99999986 -0.99999984\n",
      "  -0.99999071  1.        ]]\n"
     ]
    }
   ],
   "source": [
    "#Compare correlation matrices\n",
    "print (X_train.corr().values)\n",
    "print (S_train.corr().values)"
   ]
  },
  {
   "cell_type": "markdown",
   "metadata": {},
   "source": [
    "# Compare the R train (real data) v/s S train (synthetic data) using KNN"
   ]
  },
  {
   "cell_type": "code",
   "execution_count": 13,
   "metadata": {},
   "outputs": [],
   "source": [
    "class_names = ['Healthy', 'Diabetic']\n",
    "\n",
    "import sklearn\n",
    "clf = sklearn.neighbors.KNeighborsClassifier(n_neighbors=5)"
   ]
  },
  {
   "cell_type": "markdown",
   "metadata": {},
   "source": [
    "## train using R-train and test with R-test"
   ]
  },
  {
   "cell_type": "code",
   "execution_count": 14,
   "metadata": {},
   "outputs": [],
   "source": [
    "# Train the KNN \n",
    "clf.fit(X_train, y_train)\n",
    "\n",
    "#Pred the Org Data\n",
    "y_pred = clf.predict(X_test)"
   ]
  },
  {
   "cell_type": "code",
   "execution_count": 15,
   "metadata": {},
   "outputs": [
    {
     "name": "stdout",
     "output_type": "stream",
     "text": [
      "[[109  21]\n",
      " [ 26  36]]\n",
      "              precision    recall  f1-score   support\n",
      "\n",
      "     Healthy       0.81      0.84      0.82       130\n",
      "    Diabetic       0.63      0.58      0.61        62\n",
      "\n",
      "    accuracy                           0.76       192\n",
      "   macro avg       0.72      0.71      0.71       192\n",
      "weighted avg       0.75      0.76      0.75       192\n",
      "\n"
     ]
    }
   ],
   "source": [
    "from sklearn.metrics import confusion_matrix\n",
    "print(confusion_matrix(y_test, y_pred))\n",
    "from sklearn.metrics import classification_report\n",
    "print(classification_report(y_test, y_pred, target_names=class_names))"
   ]
  },
  {
   "cell_type": "markdown",
   "metadata": {},
   "source": [
    "## train using S-train and test with R-test"
   ]
  },
  {
   "cell_type": "code",
   "execution_count": 16,
   "metadata": {},
   "outputs": [],
   "source": [
    "# Train the KNN \n",
    "clf.fit(S_train, y_train)\n",
    "\n",
    "#Pred the Org Data\n",
    "y_pred = clf.predict(X_test)"
   ]
  },
  {
   "cell_type": "code",
   "execution_count": 17,
   "metadata": {},
   "outputs": [
    {
     "name": "stdout",
     "output_type": "stream",
     "text": [
      "[[107  23]\n",
      " [ 29  33]]\n",
      "              precision    recall  f1-score   support\n",
      "\n",
      "     Healthy       0.79      0.82      0.80       130\n",
      "    Diabetic       0.59      0.53      0.56        62\n",
      "\n",
      "    accuracy                           0.73       192\n",
      "   macro avg       0.69      0.68      0.68       192\n",
      "weighted avg       0.72      0.73      0.73       192\n",
      "\n"
     ]
    }
   ],
   "source": [
    "from sklearn.metrics import confusion_matrix\n",
    "print(confusion_matrix(y_test, y_pred))\n",
    "from sklearn.metrics import classification_report\n",
    "print(classification_report(y_test, y_pred, target_names=class_names))"
   ]
  },
  {
   "cell_type": "markdown",
   "metadata": {},
   "source": [
    "## Observations: \n",
    "For this dataset the synthetic data trains KNN very well \n",
    "While it works almost identical when syndata is generated using all compnents\n",
    "surprisingly it works reasonably well even with syn data generated from 1 component. \n",
    "that is primarily because the first component has a large correlation with feature 'insulin' \n",
    "which has a very high predictive correlation with the outcome. "
   ]
  },
  {
   "cell_type": "markdown",
   "metadata": {},
   "source": [
    "# Next Steps\n",
    "Try this on another dataset which multiple features & complex correlations"
   ]
  },
  {
   "cell_type": "code",
   "execution_count": null,
   "metadata": {},
   "outputs": [],
   "source": []
  }
 ],
 "metadata": {
  "kernelspec": {
   "display_name": "Python 3",
   "language": "python",
   "name": "python3"
  },
  "language_info": {
   "codemirror_mode": {
    "name": "ipython",
    "version": 3
   },
   "file_extension": ".py",
   "mimetype": "text/x-python",
   "name": "python",
   "nbconvert_exporter": "python",
   "pygments_lexer": "ipython3",
   "version": "3.7.7"
  }
 },
 "nbformat": 4,
 "nbformat_minor": 4
}
