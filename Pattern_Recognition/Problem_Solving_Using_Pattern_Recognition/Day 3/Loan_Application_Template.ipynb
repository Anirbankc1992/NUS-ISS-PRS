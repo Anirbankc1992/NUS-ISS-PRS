{
 "cells": [
  {
   "cell_type": "code",
   "execution_count": 1,
   "metadata": {},
   "outputs": [],
   "source": [
    "import pandas as pd \n",
    "import numpy as np\n",
    "import matplotlib.pyplot as plt\n",
    "from sklearn.decomposition import PCA\n",
    "from sklearn.preprocessing import StandardScaler\n",
    "\n",
    "data = pd.read_csv(\"LoanApplicant.csv\")"
   ]
  },
  {
   "cell_type": "code",
   "execution_count": 2,
   "metadata": {},
   "outputs": [
    {
     "data": {
      "image/png": "[encoded data removed]",
      "text/plain": [
       "<Figure size 864x576 with 9 Axes>"
      ]
     },
     "metadata": {
      "needs_background": "light"
     },
     "output_type": "display_data"
    }
   ],
   "source": [
    "# (1) Generate Summary Stats\n",
    "sumry = np.round(data.describe().transpose(),decimals=2)\n",
    "\n",
    "# (2) Histograms\n",
    "data.hist(grid=True, figsize=(12,8), color='blue')\n",
    "plt.tight_layout()\n",
    "plt.show()\n",
    "\n",
    "\n"
   ]
  },
  {
   "cell_type": "code",
   "execution_count": 4,
   "metadata": {},
   "outputs": [
    {
     "data": {
      "text/plain": [
       "array([[ 1.        ,  0.54871455,  0.51509166,  0.3471197 ,  0.33377154,\n",
       "         0.21010533, -0.19616432, -0.05864313],\n",
       "       [ 0.54871455,  1.        ,  0.22927699,  0.10774778,  0.04853683,\n",
       "         0.44735911, -0.4565866 , -0.29617822],\n",
       "       [ 0.51509166,  0.22927699,  1.        ,  0.83771879,  0.84802073,\n",
       "         0.55241994,  0.0323862 , -0.12975798],\n",
       "       [ 0.3471197 ,  0.10774778,  0.83771879,  1.        ,  0.95221573,\n",
       "         0.57004382,  0.1858152 ,  0.05348158],\n",
       "       [ 0.33377154,  0.04853683,  0.84802073,  0.95221573,  1.        ,\n",
       "         0.53879518,  0.24667868,  0.02254348],\n",
       "       [ 0.21010533,  0.44735911,  0.55241994,  0.57004382,  0.53879518,\n",
       "         1.        , -0.39250146, -0.41046649],\n",
       "       [-0.19616432, -0.4565866 ,  0.0323862 ,  0.1858152 ,  0.24667868,\n",
       "        -0.39250146,  1.        ,  0.47431532],\n",
       "       [-0.05864313, -0.29617822, -0.12975798,  0.05348158,  0.02254348,\n",
       "        -0.41046649,  0.47431532,  1.        ]])"
      ]
     },
     "execution_count": 4,
     "metadata": {},
     "output_type": "execute_result"
    }
   ],
   "source": [
    "# (3) correlation matrices\n",
    "corm = data.corr().values\n",
    "corm"
   ]
  },
  {
   "cell_type": "code",
   "execution_count": 7,
   "metadata": {},
   "outputs": [],
   "source": [
    "# (4) Various Tests for PCA suitability\n",
    "from factor_analyzer import FactorAnalyzer\n",
    "from factor_analyzer.factor_analyzer import calculate_bartlett_sphericity\n",
    "chi_square_value,p_value = calculate_bartlett_sphericity(data)\n",
    "\n",
    "from factor_analyzer.factor_analyzer import calculate_kmo\n",
    "kmo_all,kmo_model=calculate_kmo(data)"
   ]
  },
  {
   "cell_type": "code",
   "execution_count": 8,
   "metadata": {},
   "outputs": [],
   "source": [
    "# (5) Tranform data\n",
    "data_std = StandardScaler().fit_transform(data) \n",
    "\n",
    "# (6) Run the PCA Method\n",
    "n_components = 8\n",
    "pca = PCA(n_components).fit(data)\n",
    "\n",
    "eigenvectors = np.round(pca.components_.transpose(),decimals=3)\n",
    "\n",
    "eigenvalues = pca.explained_variance_\n",
    "\n",
    "loadings= (np.sqrt(eigenvalues)*-1)*eigenvectors"
   ]
  },
  {
   "cell_type": "code",
   "execution_count": 9,
   "metadata": {
    "scrolled": false
   },
   "outputs": [
    {
     "data": {
      "text/plain": [
       "array([[-1.84619765e+04,  1.17351846e+03, -1.11386658e+02,\n",
       "         0.00000000e+00,  0.00000000e+00,  0.00000000e+00,\n",
       "         0.00000000e+00,  0.00000000e+00],\n",
       "       [-0.00000000e+00, -0.00000000e+00,  0.00000000e+00,\n",
       "         5.88153301e-01, -3.56814812e-01, -1.37327868e+00,\n",
       "         5.93430534e-02, -9.06971217e-02],\n",
       "       [-0.00000000e+00, -0.00000000e+00, -0.00000000e+00,\n",
       "        -2.72124450e+00, -1.25842492e+00,  6.01435917e-02,\n",
       "        -2.08203594e-01,  1.27425708e-02],\n",
       "       [-0.00000000e+00, -0.00000000e+00, -0.00000000e+00,\n",
       "        -2.25320701e+00,  8.82463950e-01, -3.85205385e-01,\n",
       "        -4.72732798e-02,  4.57233424e-01],\n",
       "       [-0.00000000e+00, -0.00000000e+00, -0.00000000e+00,\n",
       "        -2.07510425e+00,  5.72644259e-01, -4.72556792e-02,\n",
       "         3.80197867e-01, -5.28441908e-01],\n",
       "       [-2.31240918e+03, -8.12897097e+03, -1.28762976e+03,\n",
       "         4.14192465e-03, -0.00000000e+00,  0.00000000e+00,\n",
       "        -0.00000000e+00, -0.00000000e+00],\n",
       "       [ 1.17485305e+03,  2.42412938e+03, -4.26388126e+03,\n",
       "         4.14192465e-03, -0.00000000e+00,  0.00000000e+00,\n",
       "         0.00000000e+00,  0.00000000e+00],\n",
       "       [ 0.00000000e+00,  0.00000000e+00, -0.00000000e+00,\n",
       "        -8.69804177e-02,  4.59507856e-01, -1.03103300e-01,\n",
       "        -9.04227203e-01, -2.54851416e-01]])"
      ]
     },
     "execution_count": 9,
     "metadata": {},
     "output_type": "execute_result"
    }
   ],
   "source": [
    "loadings"
   ]
  },
  {
   "cell_type": "code",
   "execution_count": 10,
   "metadata": {},
   "outputs": [
    {
     "data": {
      "text/plain": [
       "array([3.47765102e+08, 7.33734129e+07, 1.98511800e+07, 1.71555398e+01,\n",
       "       3.02954932e+00, 2.05059616e+00, 1.01166274e+00, 5.61844675e-01])"
      ]
     },
     "execution_count": 10,
     "metadata": {},
     "output_type": "execute_result"
    }
   ],
   "source": [
    "eigenvalues"
   ]
  },
  {
   "cell_type": "code",
   "execution_count": null,
   "metadata": {},
   "outputs": [],
   "source": []
  }
 ],
 "metadata": {
  "kernelspec": {
   "display_name": "Python 3",
   "language": "python",
   "name": "python3"
  },
  "language_info": {
   "codemirror_mode": {
    "name": "ipython",
    "version": 3
   },
   "file_extension": ".py",
   "mimetype": "text/x-python",
   "name": "python",
   "nbconvert_exporter": "python",
   "pygments_lexer": "ipython3",
   "version": "3.7.7"
  }
 },
 "nbformat": 4,
 "nbformat_minor": 4
}
