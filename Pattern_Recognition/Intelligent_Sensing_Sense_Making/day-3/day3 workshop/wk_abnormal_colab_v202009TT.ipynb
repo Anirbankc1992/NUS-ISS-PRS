{
  "nbformat": 4,
  "nbformat_minor": 0,
  "metadata": {
    "colab": {
      "name": "wk_abnormal_colab_v202009TT.ipynb",
      "provenance": [],
      "collapsed_sections": []
    },
    "kernelspec": {
      "name": "python3",
      "display_name": "Python 3"
    },
    "accelerator": "GPU"
  },
  "cells": [
    {
      "cell_type": "markdown",
      "metadata": {
        "id": "IXqzXfJZrtmT",
        "colab_type": "text"
      },
      "source": [
        "# Workshop on sensor processing using machine learning\n",
        "Course: NICF- Intelligent Sensing and Sense Making (SF)\n",
        "\n",
        "Website: https://www.iss.nus.edu.sg/executive-education/course/detail/intelligent-sensing-and-sense-making/analytics-and-intelligent-systems\n",
        "\n",
        "Contact: Tian Jing\n",
        "\n",
        "Email: tianjing@nus.edu.sg\n",
        "\n",
        "## Objective\n",
        "In this workshop, we will perform following three tasks:\n",
        "\n",
        "- Introduction to autoencoder model and Keras\n",
        "- Perform anomaly detection using autoencoder as reconstruction model\n",
        "\n",
        "\n",
        "## Installation guideline (local PC)\n",
        "- Open `Anaconda Prompt`\n",
        "\n",
        "- Append the channel `conda-forge` into your conda configuration.\n",
        "\n",
        "`conda config --append channels conda-forge`\n",
        "\n",
        "- Create a new virtual environment `issmv` or install additional packages in your own environment\n",
        "\n",
        "[Windows, CPU version]\n",
        "\n",
        "`conda create -n issmv python=3.6 numpy=1.15.1 matplotlib=2.2.3 tensorflow=1.10.0 scipy=1.1.0 scikit-learn=0.19.1 spyder=3.3.2 yaml=0.1.7 keras=2.2.4 notebook=5.7.4 pandas=0.24.2 pywavelets=1.0.2`\n",
        "\n",
        "[Windows, GPU version, CUDA 9.0]\n",
        "\n",
        "`conda create -n issmv python=3.6 numpy=1.15.1 matplotlib=2.2.3 tensorflow-gpu=1.12.0 scipy=1.1.0 scikit-learn=0.19.1 spyder=3.3.2 yaml=0.1.7 keras-gpu=2.2.4 notebook=5.7.4 pandas=0.24.2 pywavelets=1.0.2`\n",
        "\n",
        "- Activate the environment `issmv`\n",
        "\n",
        "`conda activate issmv`\n",
        "\n",
        "- Browse to the folder that contains the workshop files, then run `jupyter notebook`\n",
        "\n",
        "`jupyter notebook`\n",
        "\n",
        "## Submission guideline\n",
        "Once you finish the workshop, rename your .ipynb file to your name, and submit your .ipynb file into LumiNUS.\n"
      ]
    },
    {
      "cell_type": "code",
      "metadata": {
        "id": "JbSXdcFNDpoG",
        "colab_type": "code",
        "colab": {
          "base_uri": "https://localhost:8080/",
          "height": 72
        },
        "outputId": "d2dc5dad-f9a4-4751-8617-c670a2750f5c"
      },
      "source": [
        "# Check GPU setup in Colab\n",
        "%tensorflow_version 1.x \n",
        "import tensorflow as tf\n",
        "# Silence the tensorflow warning message\n",
        "tf.get_logger().setLevel('ERROR')\n",
        "\n",
        "print(\"Tensorflow version: \", tf.__version__)\n",
        "print(tf.test.gpu_device_name())\n",
        "# Your expected output will be '/device:GPU:0'"
      ],
      "execution_count": 1,
      "outputs": [
        {
          "output_type": "stream",
          "text": [
            "TensorFlow 1.x selected.\n",
            "Tensorflow version:  1.15.2\n",
            "/device:GPU:0\n"
          ],
          "name": "stdout"
        }
      ]
    },
    {
      "cell_type": "code",
      "metadata": {
        "id": "VP5_TSABEcz3",
        "colab_type": "code",
        "colab": {
          "base_uri": "https://localhost:8080/",
          "height": 35
        },
        "outputId": "ec037cdd-c908-48f0-996c-7eeaadcbdfa8"
      },
      "source": [
        "import os\n",
        "import numpy as np\n",
        "import keras\n",
        "import pickle\n",
        "import pandas as pd\n",
        "from tensorflow.keras.utils import plot_model\n",
        "from tensorflow.keras.datasets import fashion_mnist\n",
        "from tensorflow.keras.models import Model, Sequential\n",
        "from tensorflow.keras.layers import Dense, Input\n",
        "import matplotlib.pyplot as plt\n",
        "%matplotlib inline\n",
        "from sklearn.metrics import mean_squared_error\n",
        "from sklearn.preprocessing import MinMaxScaler\n"
      ],
      "execution_count": 2,
      "outputs": [
        {
          "output_type": "stream",
          "text": [
            "Using TensorFlow backend.\n"
          ],
          "name": "stderr"
        }
      ]
    },
    {
      "cell_type": "code",
      "metadata": {
        "id": "Qx_eHkdoFv3e",
        "colab_type": "code",
        "colab": {
          "base_uri": "https://localhost:8080/",
          "height": 128
        },
        "outputId": "aa0a8257-cd76-4bf7-f007-593b9dcf929d"
      },
      "source": [
        "# Then you’ll see a link, click on that link, allow access\n",
        "# Copy the code that pops up, paste it in the box, hit enter\n",
        "\n",
        "from google.colab import drive\n",
        "drive.mount('/content/gdrive')"
      ],
      "execution_count": 3,
      "outputs": [
        {
          "output_type": "stream",
          "text": [
            "Go to this URL in a browser: https://accounts.google.com/o/oauth2/auth?client_id=947318989803-6bn6qk8qdgf4n4g3pfee6491hc0brc4i.apps.googleusercontent.com&redirect_uri=urn%3aietf%3awg%3aoauth%3a2.0%3aoob&response_type=code&scope=email%20https%3a%2f%2fwww.googleapis.com%2fauth%2fdocs.test%20https%3a%2f%2fwww.googleapis.com%2fauth%2fdrive%20https%3a%2f%2fwww.googleapis.com%2fauth%2fdrive.photos.readonly%20https%3a%2f%2fwww.googleapis.com%2fauth%2fpeopleapi.readonly\n",
            "\n",
            "Enter your authorization code:\n",
            "··········\n",
            "Mounted at /content/gdrive\n"
          ],
          "name": "stdout"
        }
      ]
    },
    {
      "cell_type": "code",
      "metadata": {
        "id": "d8kuZNznGIiw",
        "colab_type": "code",
        "colab": {
          "base_uri": "https://localhost:8080/",
          "height": 126
        },
        "outputId": "577ad7ae-3d78-4e6a-81df-a6a0b954e17b"
      },
      "source": [
        "# Change working directory to be current folder\n",
        "# os.chdir('/content/gdrive/My Drive/Your Folder Name/Your sub Folder Name')\n",
        "os.chdir('/content/gdrive/My Drive/ISSM/day3')\n",
        "!ls\n"
      ],
      "execution_count": 4,
      "outputs": [
        {
          "output_type": "stream",
          "text": [
            "data\n",
            "wk_abnormal_colab_v202007.ipynb\n",
            "wk_abnormal_colab_v202007_solution.ipynb\n",
            "wk_abnormal_colab_v202009TT.ipynb\n",
            "wk_abnormal_colab_v202009TT_solution.ipynb\n",
            "wk_abnormal_colab_v4.0.ipynb\n"
          ],
          "name": "stdout"
        }
      ]
    },
    {
      "cell_type": "markdown",
      "metadata": {
        "id": "1LYi8Lje8_1A",
        "colab_type": "text"
      },
      "source": [
        "# Exercise: Machine health monitoring\n",
        "\n",
        "- Reference: R. Zhao, R. Yan, Z. Chen, K. Mao, P. Wang, R. Gao, Deep learning and its applications to machine health monitoring, Mechanical Systems and Signal Processing, Vol. 115, Jan. 2019, pp. 213-237.\n",
        "\n",
        "- pdf paper, https://arxiv.org/abs/1612.07640\n",
        "- code, https://github.com/ClockworkBunny/MHMS_DEEPLEARNING"
      ]
    },
    {
      "cell_type": "code",
      "metadata": {
        "id": "zU4AeFno898f",
        "colab_type": "code",
        "colab": {}
      },
      "source": [
        "# Configuration\n",
        "encoder_dimension = 10\n",
        "NUM_EPOCH = 10\n",
        "BATH_SIZE = 24"
      ],
      "execution_count": 5,
      "outputs": []
    },
    {
      "cell_type": "code",
      "metadata": {
        "id": "STmPhD-p9K6A",
        "colab_type": "code",
        "colab": {
          "base_uri": "https://localhost:8080/",
          "height": 35
        },
        "outputId": "b91dd95f-f1e4-4fd8-e0b1-8d8a00047659"
      },
      "source": [
        "# Load data \n",
        "x_train_pd = pd.read_csv(\"data/machine_sensor_train.csv\",header=None)\n",
        "x_train = x_train_pd.values\n",
        "x_test_pd = pd.read_csv(\"data/machine_sensor_test.csv\",header=None)\n",
        "x_test = x_test_pd.values\n",
        "\n",
        "print('Train shape: ', x_train.shape, 'Test shape:', x_test.shape)"
      ],
      "execution_count": 6,
      "outputs": [
        {
          "output_type": "stream",
          "text": [
            "Train shape:  (600, 70) Test shape: (300, 70)\n"
          ],
          "name": "stdout"
        }
      ]
    },
    {
      "cell_type": "code",
      "metadata": {
        "id": "PyivPyEhfmAv",
        "colab_type": "code",
        "colab": {
          "base_uri": "https://localhost:8080/",
          "height": 272
        },
        "outputId": "efef17c6-3279-4e85-bd4d-be9f1d05b691"
      },
      "source": [
        "myModel = Sequential()\n",
        "myModel.add(Dense(encoder_dimension, activation='relu', input_shape=(x_train.shape[1], )))\n",
        "myModel.add(Dense(encoder_dimension, activation='relu'))\n",
        "myModel.add(Dense(x_train.shape[1])) # note: this is regression model\n",
        "myModel.compile(optimizer='adam', loss='mse')\n",
        "myModel.summary()"
      ],
      "execution_count": 7,
      "outputs": [
        {
          "output_type": "stream",
          "text": [
            "Model: \"sequential\"\n",
            "_________________________________________________________________\n",
            "Layer (type)                 Output Shape              Param #   \n",
            "=================================================================\n",
            "dense (Dense)                (None, 10)                710       \n",
            "_________________________________________________________________\n",
            "dense_1 (Dense)              (None, 10)                110       \n",
            "_________________________________________________________________\n",
            "dense_2 (Dense)              (None, 70)                770       \n",
            "=================================================================\n",
            "Total params: 1,590\n",
            "Trainable params: 1,590\n",
            "Non-trainable params: 0\n",
            "_________________________________________________________________\n"
          ],
          "name": "stdout"
        }
      ]
    },
    {
      "cell_type": "code",
      "metadata": {
        "id": "H9GBkNq4f4Fk",
        "colab_type": "code",
        "colab": {
          "base_uri": "https://localhost:8080/",
          "height": 417
        },
        "outputId": "57b3d775-6dac-4980-a73f-86da98a4f38c"
      },
      "source": [
        "# Train the model\n",
        "myModel.fit(x_train, x_train, epochs=NUM_EPOCH, batch_size=BATH_SIZE, shuffle=True)"
      ],
      "execution_count": 8,
      "outputs": [
        {
          "output_type": "stream",
          "text": [
            "Train on 600 samples\n",
            "Epoch 1/10\n",
            "600/600 [==============================] - 8s 13ms/sample - loss: 0.4125\n",
            "Epoch 2/10\n",
            "600/600 [==============================] - 0s 76us/sample - loss: 0.2959\n",
            "Epoch 3/10\n",
            "600/600 [==============================] - 0s 79us/sample - loss: 0.1828\n",
            "Epoch 4/10\n",
            "600/600 [==============================] - 0s 74us/sample - loss: 0.1098\n",
            "Epoch 5/10\n",
            "600/600 [==============================] - 0s 80us/sample - loss: 0.0747\n",
            "Epoch 6/10\n",
            "600/600 [==============================] - 0s 81us/sample - loss: 0.0590\n",
            "Epoch 7/10\n",
            "600/600 [==============================] - 0s 88us/sample - loss: 0.0503\n",
            "Epoch 8/10\n",
            "600/600 [==============================] - 0s 83us/sample - loss: 0.0436\n",
            "Epoch 9/10\n",
            "600/600 [==============================] - 0s 77us/sample - loss: 0.0372\n",
            "Epoch 10/10\n",
            "600/600 [==============================] - 0s 85us/sample - loss: 0.0319\n"
          ],
          "name": "stdout"
        },
        {
          "output_type": "execute_result",
          "data": {
            "text/plain": [
              "<tensorflow.python.keras.callbacks.History at 0x7f7e8e3e78d0>"
            ]
          },
          "metadata": {
            "tags": []
          },
          "execution_count": 8
        }
      ]
    },
    {
      "cell_type": "code",
      "metadata": {
        "id": "yKDdpJDA9M9q",
        "colab_type": "code",
        "colab": {
          "base_uri": "https://localhost:8080/",
          "height": 35
        },
        "outputId": "eb9c3a60-9ca5-4890-912f-53c3d3d46aa2"
      },
      "source": [
        "sample_index = 0\n",
        "thre = 10 # A manually-defined threshold\n",
        "\n",
        "# Step 1: Select the test sample (such as the 0-th sample)\n",
        "test_data_orig = x_test[sample_index:sample_index+1,:]\n",
        "# print(test_data_orig.shape)\n",
        "\n",
        "# Step 2: Perform prediction using the trained autoencoder model\n",
        "test_data_predict = myModel.predict(test_data_orig)\n",
        "\n",
        "# Step 3: Calculate the reconstruction error and make decision on anomaly detection\n",
        "dist = np.linalg.norm(test_data_orig - test_data_predict, axis=-1)\n",
        "\n",
        "if (dist>thre):\n",
        "    print('Anomaly detected: the distance is %.2f' % dist)\n",
        "else:\n",
        "    print('Normal: the distance is %.2f' % dist)\n",
        "    \n"
      ],
      "execution_count": 9,
      "outputs": [
        {
          "output_type": "stream",
          "text": [
            "Normal: the distance is 1.74\n"
          ],
          "name": "stdout"
        }
      ]
    },
    {
      "cell_type": "markdown",
      "metadata": {
        "id": "kQX1zW1o9PTY",
        "colab_type": "text"
      },
      "source": [
        "$\\color{red}{\\text{Q1. Complete the code to build autoencoder model for abnormal machine sensory signal detection.}}$\n",
        "\n",
        "Tasks\n",
        "\n",
        "- Peform the test on x_test and determine the test data (row index) with the LARGEST reconstruction error based on your trained model\n",
        "- Plot the data that is found by your model"
      ]
    },
    {
      "cell_type": "code",
      "metadata": {
        "id": "E4EtS-Tw9clt",
        "colab_type": "code",
        "colab": {}
      },
      "source": [
        "# Provide your solution to Q1 here"
      ],
      "execution_count": 10,
      "outputs": []
    },
    {
      "cell_type": "markdown",
      "metadata": {
        "id": "Dk-jTXTLhZvu",
        "colab_type": "text"
      },
      "source": [
        "$\\color{red}{\\text{Q2. Identify one use case of anomaly detection and describe your use case.}}$"
      ]
    },
    {
      "cell_type": "code",
      "metadata": {
        "id": "iqI_JbE7g_7E",
        "colab_type": "code",
        "colab": {}
      },
      "source": [
        "# Provide your solution to Q2 here. (no need programming)"
      ],
      "execution_count": 11,
      "outputs": []
    },
    {
      "cell_type": "markdown",
      "metadata": {
        "id": "NGM54frFug21",
        "colab_type": "text"
      },
      "source": [
        "**Once you finish the workshop, rename your .ipynb file to your name, and submit your .ipynb file into LumiNUS.**\n",
        "\n",
        "Have a nice day!"
      ]
    }
  ]
}