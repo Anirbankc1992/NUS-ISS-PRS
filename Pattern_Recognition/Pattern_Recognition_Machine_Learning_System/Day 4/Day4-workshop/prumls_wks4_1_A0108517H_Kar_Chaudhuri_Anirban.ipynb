{
  "nbformat": 4,
  "nbformat_minor": 0,
  "metadata": {
    "colab": {
      "name": "prumls_wks4_1_A0065970X_SivasankaranBalakrishnan.ipynb",
      "provenance": [],
      "collapsed_sections": [],
      "toc_visible": true
    },
    "kernelspec": {
      "name": "python3",
      "display_name": "Python 3"
    },
    "accelerator": "GPU"
  },
  "cells": [
    {
      "cell_type": "markdown",
      "metadata": {
        "id": "CRNVzhoo1clG",
        "colab_type": "text"
      },
      "source": [
        "## **1. Mount google drive**\n",
        "---"
      ]
    },
    {
      "cell_type": "code",
      "metadata": {
        "id": "5W39GXyk1hME",
        "colab_type": "code",
        "colab": {
          "base_uri": "https://localhost:8080/",
          "height": 121
        },
        "outputId": "c70b39a8-35d9-43cc-9c46-a299e1295849"
      },
      "source": [
        "from google.colab import drive\n",
        "drive.mount('/content/gdrive')"
      ],
      "execution_count": 3,
      "outputs": [
        {
          "output_type": "stream",
          "text": [
            "Go to this URL in a browser: https://accounts.google.com/o/oauth2/auth?client_id=947318989803-6bn6qk8qdgf4n4g3pfee6491hc0brc4i.apps.googleusercontent.com&redirect_uri=urn%3aietf%3awg%3aoauth%3a2.0%3aoob&scope=email%20https%3a%2f%2fwww.googleapis.com%2fauth%2fdocs.test%20https%3a%2f%2fwww.googleapis.com%2fauth%2fdrive%20https%3a%2f%2fwww.googleapis.com%2fauth%2fdrive.photos.readonly%20https%3a%2f%2fwww.googleapis.com%2fauth%2fpeopleapi.readonly&response_type=code\n",
            "\n",
            "Enter your authorization code:\n",
            "··········\n",
            "Mounted at /content/gdrive\n"
          ],
          "name": "stdout"
        }
      ]
    },
    {
      "cell_type": "markdown",
      "metadata": {
        "id": "dOQ-2xS_MYHi",
        "colab_type": "text"
      },
      "source": [
        "## **2. Import the necessary libraries**\n",
        "---"
      ]
    },
    {
      "cell_type": "code",
      "metadata": {
        "id": "yoi4gWDELtek",
        "colab_type": "code",
        "colab": {
          "base_uri": "https://localhost:8080/",
          "height": 118
        },
        "outputId": "b458ff35-a3a0-49cb-9ade-c1fff0a7c9f2"
      },
      "source": [
        "import matplotlib\n",
        "import sklearn\n",
        "import numpy as np\n",
        "import pandas as pd\n",
        "import sklearn.metrics as metrics\n",
        "import matplotlib.pyplot as plt\n",
        "import tensorflow as tf\n",
        "\n",
        "\n",
        "from tensorflow.keras.callbacks import ModelCheckpoint,CSVLogger\n",
        "from tensorflow.keras.models import Model\n",
        "from tensorflow.keras.layers import Input\n",
        "from tensorflow.keras.layers import Dense\n",
        "from tensorflow.keras.layers import Dropout\n",
        "from tensorflow.keras.layers import Flatten\n",
        "from tensorflow.keras.layers import Conv2D\n",
        "from tensorflow.keras.layers import MaxPooling2D\n",
        "from tensorflow.keras.layers import BatchNormalization\n",
        "from tensorflow.keras.layers import Activation\n",
        "from tensorflow.keras.utils import to_categorical\n",
        "from tensorflow.keras.utils import plot_model\n",
        "from tensorflow.keras.datasets import cifar10\n",
        "from tensorflow.keras import optimizers\n",
        "from tensorflow.keras import regularizers\n",
        "\n",
        "print(\"Versions of key libraries\")\n",
        "print(\"---\")\n",
        "print(\"tensorflow: \", tf.__version__)\n",
        "print(\"numpy:      \", np.__version__)\n",
        "print(\"matplotlib: \", matplotlib.__version__)\n",
        "print(\"sklearn:    \", sklearn.__version__)"
      ],
      "execution_count": 4,
      "outputs": [
        {
          "output_type": "stream",
          "text": [
            "Versions of key libraries\n",
            "---\n",
            "tensorflow:  2.3.0\n",
            "numpy:       1.18.5\n",
            "matplotlib:  3.2.2\n",
            "sklearn:     0.22.2.post1\n"
          ],
          "name": "stdout"
        }
      ]
    },
    {
      "cell_type": "markdown",
      "metadata": {
        "id": "0amhwjZ4M2m-",
        "colab_type": "text"
      },
      "source": [
        "## **3.Create a function to plot image without axis**\n",
        "---"
      ]
    },
    {
      "cell_type": "code",
      "metadata": {
        "id": "OFxsBB1mNXl2",
        "colab_type": "code",
        "colab": {
          "base_uri": "https://localhost:8080/",
          "height": 34
        },
        "outputId": "d394edb1-d12c-4a86-ca22-11fcc9dd7744"
      },
      "source": [
        "def implt(img):\n",
        "    plt.figure()\n",
        "    plt.imshow(img)\n",
        "    plt.axis('off')\n",
        "\n",
        "print(implt)"
      ],
      "execution_count": 5,
      "outputs": [
        {
          "output_type": "stream",
          "text": [
            "<function implt at 0x7f496ea24620>\n"
          ],
          "name": "stdout"
        }
      ]
    },
    {
      "cell_type": "markdown",
      "metadata": {
        "id": "X3N41iixORPz",
        "colab_type": "text"
      },
      "source": [
        "## **4. Set matplotlib to have seaborn plot style**\n",
        "---"
      ]
    },
    {
      "cell_type": "code",
      "metadata": {
        "id": "OyO5OsUrOYNQ",
        "colab_type": "code",
        "colab": {
          "base_uri": "https://localhost:8080/",
          "height": 34
        },
        "outputId": "0008d42e-9d97-49b7-c124-b2dc7b564ce5"
      },
      "source": [
        "plt.style.use('seaborn')                   # if want to use the default style, set 'classic'\n",
        "plt.rcParams['ytick.right']     = True\n",
        "plt.rcParams['ytick.labelright']= True\n",
        "plt.rcParams['ytick.left']      = False\n",
        "plt.rcParams['ytick.labelleft'] = False\n",
        "plt.rcParams['figure.figsize']  = [7,7]   # Set the figure size to be 7 inch for (width,height)\n",
        "\n",
        "print(\"Matplotlib setup completes.\")"
      ],
      "execution_count": 6,
      "outputs": [
        {
          "output_type": "stream",
          "text": [
            "Matplotlib setup completes.\n"
          ],
          "name": "stdout"
        }
      ]
    },
    {
      "cell_type": "markdown",
      "metadata": {
        "id": "5w2jAiKZOmgP",
        "colab_type": "text"
      },
      "source": [
        "## **5. Prepare Cifar10 data for training and testing**\n",
        "---\n",
        "* Step 1: Load the cifar10 \n",
        "* Step 2: Check the shape and type of the data\n",
        "* Step 3: Convert the data into float32 and rescale the values from the range of 0\\~255 into 0\\~1\n",
        "* Step 4: Retrieve the row size and the column size of each image\n",
        "* Step 5: Perform one-hot enconding on the labels\n",
        "* Step 6: Retrieve the number of classes in this problem"
      ]
    },
    {
      "cell_type": "code",
      "metadata": {
        "id": "v3Ad2V0pO1TX",
        "colab_type": "code",
        "colab": {
          "base_uri": "https://localhost:8080/",
          "height": 134
        },
        "outputId": "5eaabc71-5bcb-4272-9f17-95977e30cbbc"
      },
      "source": [
        "                                                                                # Step 1\n",
        "data            = cifar10.load_data()\n",
        "(trDat, trLbl)  = data[0]\n",
        "(tsDat, tsLbl)  = data[1]\n",
        "\n",
        "                                                                                # Step 2\n",
        "print(\"The shape of trDat is\", trDat.shape, \"and the type of trDat is\", trDat.dtype)\n",
        "print(\"The shape of tsDat is\", tsDat.shape, \"and the type of tsDat is\", tsDat.dtype)\n",
        "print(\"\")\n",
        "print(\"The shape of trLbl is\", trLbl.shape, \"and the type of trLbl is\", trLbl.dtype)\n",
        "print(\"The shape of tsLbl is\", tsLbl.shape, \"and the type of tsLbl is\", tsLbl.dtype)\n",
        "\n",
        "                                                                                # Step 3\n",
        "trDat           = trDat.astype('float32')/255\n",
        "tsDat           = tsDat.astype('float32')/255\n",
        "\n",
        "                                                                                # Step 4\n",
        "imgrows         = trDat.shape[1]\n",
        "imgclms         = trDat.shape[2]\n",
        "channel         = trDat.shape[3]\n",
        "\n",
        "                                                                                # Step 5\n",
        "trLbl           = to_categorical(trLbl)\n",
        "tsLbl           = to_categorical(tsLbl)\n",
        "                               \n",
        "num_classes     = tsLbl.shape[1]                                                # Step 6"
      ],
      "execution_count": 7,
      "outputs": [
        {
          "output_type": "stream",
          "text": [
            "Downloading data from https://www.cs.toronto.edu/~kriz/cifar-10-python.tar.gz\n",
            "170500096/170498071 [==============================] - 4s 0us/step\n",
            "The shape of trDat is (50000, 32, 32, 3) and the type of trDat is uint8\n",
            "The shape of tsDat is (10000, 32, 32, 3) and the type of tsDat is uint8\n",
            "\n",
            "The shape of trLbl is (50000, 1) and the type of trLbl is uint8\n",
            "The shape of tsLbl is (10000, 1) and the type of tsLbl is uint8\n"
          ],
          "name": "stdout"
        }
      ]
    },
    {
      "cell_type": "markdown",
      "metadata": {
        "id": "DoP3WcoJW-jZ",
        "colab_type": "text"
      },
      "source": [
        "## **6. Define the wBNRg model (to be completed)**\n",
        "___\n",
        "* Step 1: Setup the optimizer to be used for training\n",
        "* Step 2: Set a name for the coming model (required for saving)\n",
        "* Step 3: Define the convolutional neural network model (to be completed)\n",
        "* Step 4: Create models for training and testing\n",
        "* Step 5: Display the summary of the model of interest "
      ]
    },
    {
      "cell_type": "code",
      "metadata": {
        "id": "0HMOes0kXCPd",
        "colab_type": "code",
        "colab": {
          "base_uri": "https://localhost:8080/",
          "height": 1000
        },
        "outputId": "5d554a55-644a-4701-ec45-1b140bbc3fc9"
      },
      "source": [
        "optmz       = optimizers.RMSprop(lr=0.0001)                                     # Step 1\n",
        "modelname   = 'wBNRg'                                                           # Step 2\n",
        "\n",
        "                                                                                # Step 3\n",
        "def createModel():\n",
        "    model = tf.keras.models.Sequential(name=modelname)\n",
        "    model.add(Conv2D(32,(3,3), activation=None, input_shape=(32,32,3), padding='same'))\n",
        "    model.add(BatchNormalization())\n",
        "    model.add(Activation('relu'))\n",
        "    model.add(Dropout(0.25))\n",
        "    model.add(Conv2D(32,(3,3), activation=None, padding='same'))\n",
        "    model.add(Activation('relu'))\n",
        "    model.add(MaxPooling2D(pool_size=(2,2)))\n",
        "    model.add(Conv2D(32,(3,3), activation=None, padding='same'))\n",
        "    model.add(BatchNormalization())\n",
        "    model.add(Activation('relu'))\n",
        "    model.add(Dropout(0.25))\n",
        "    model.add(Conv2D(32,(3,3), activation=None, padding='same'))\n",
        "    model.add(Activation('relu'))\n",
        "    model.add(MaxPooling2D(pool_size=(2,2)))\n",
        "    model.add(Conv2D(64,(3,3), activation=None, padding='same'))\n",
        "    model.add(BatchNormalization())\n",
        "    model.add(Activation('relu'))\n",
        "    model.add(Dropout(0.25))\n",
        "    model.add(Conv2D(64,(3,3), activation=None, padding='same'))\n",
        "    model.add(Activation('relu'))\n",
        "    model.add(MaxPooling2D(pool_size=(2,2)))\n",
        "    model.add(Conv2D(128, (3,3), activation=None, kernel_regularizer=regularizers.l2(0.001), padding='same'))\n",
        "    model.add(BatchNormalization())\n",
        "    model.add(Activation('relu'))\n",
        "    model.add(Dropout(0.25))\n",
        "    model.add(Conv2D(128,(3,3), activation=None, kernel_regularizer=regularizers.l2(0.001), padding='same'))\n",
        "    model.add(Activation('relu'))\n",
        "    model.add(MaxPooling2D(pool_size=(2,2)))\n",
        "    model.add(Flatten())\n",
        "    model.add(Dense(64,activation='relu'))\n",
        "    model.add(Dropout(0.5))\n",
        "    model.add(Dense(10,activation='softmax'))\n",
        "\n",
        "    model.compile(loss='categorical_crossentropy', optimizer=optmz, metrics=['accuracy'])\n",
        "\n",
        "\n",
        "    return model\n",
        "\n",
        "                                                                                # Step 4\n",
        "model       = createModel() # This is meant for training\n",
        "modelGo     = createModel() # This is used for final testing\n",
        "\n",
        "model.summary()                                                                 # Step 5"
      ],
      "execution_count": 8,
      "outputs": [
        {
          "output_type": "stream",
          "text": [
            "Model: \"wBNRg\"\n",
            "_________________________________________________________________\n",
            "Layer (type)                 Output Shape              Param #   \n",
            "=================================================================\n",
            "conv2d (Conv2D)              (None, 32, 32, 32)        896       \n",
            "_________________________________________________________________\n",
            "batch_normalization (BatchNo (None, 32, 32, 32)        128       \n",
            "_________________________________________________________________\n",
            "activation (Activation)      (None, 32, 32, 32)        0         \n",
            "_________________________________________________________________\n",
            "dropout (Dropout)            (None, 32, 32, 32)        0         \n",
            "_________________________________________________________________\n",
            "conv2d_1 (Conv2D)            (None, 32, 32, 32)        9248      \n",
            "_________________________________________________________________\n",
            "activation_1 (Activation)    (None, 32, 32, 32)        0         \n",
            "_________________________________________________________________\n",
            "max_pooling2d (MaxPooling2D) (None, 16, 16, 32)        0         \n",
            "_________________________________________________________________\n",
            "conv2d_2 (Conv2D)            (None, 16, 16, 32)        9248      \n",
            "_________________________________________________________________\n",
            "batch_normalization_1 (Batch (None, 16, 16, 32)        128       \n",
            "_________________________________________________________________\n",
            "activation_2 (Activation)    (None, 16, 16, 32)        0         \n",
            "_________________________________________________________________\n",
            "dropout_1 (Dropout)          (None, 16, 16, 32)        0         \n",
            "_________________________________________________________________\n",
            "conv2d_3 (Conv2D)            (None, 16, 16, 32)        9248      \n",
            "_________________________________________________________________\n",
            "activation_3 (Activation)    (None, 16, 16, 32)        0         \n",
            "_________________________________________________________________\n",
            "max_pooling2d_1 (MaxPooling2 (None, 8, 8, 32)          0         \n",
            "_________________________________________________________________\n",
            "conv2d_4 (Conv2D)            (None, 8, 8, 64)          18496     \n",
            "_________________________________________________________________\n",
            "batch_normalization_2 (Batch (None, 8, 8, 64)          256       \n",
            "_________________________________________________________________\n",
            "activation_4 (Activation)    (None, 8, 8, 64)          0         \n",
            "_________________________________________________________________\n",
            "dropout_2 (Dropout)          (None, 8, 8, 64)          0         \n",
            "_________________________________________________________________\n",
            "conv2d_5 (Conv2D)            (None, 8, 8, 64)          36928     \n",
            "_________________________________________________________________\n",
            "activation_5 (Activation)    (None, 8, 8, 64)          0         \n",
            "_________________________________________________________________\n",
            "max_pooling2d_2 (MaxPooling2 (None, 4, 4, 64)          0         \n",
            "_________________________________________________________________\n",
            "conv2d_6 (Conv2D)            (None, 4, 4, 128)         73856     \n",
            "_________________________________________________________________\n",
            "batch_normalization_3 (Batch (None, 4, 4, 128)         512       \n",
            "_________________________________________________________________\n",
            "activation_6 (Activation)    (None, 4, 4, 128)         0         \n",
            "_________________________________________________________________\n",
            "dropout_3 (Dropout)          (None, 4, 4, 128)         0         \n",
            "_________________________________________________________________\n",
            "conv2d_7 (Conv2D)            (None, 4, 4, 128)         147584    \n",
            "_________________________________________________________________\n",
            "activation_7 (Activation)    (None, 4, 4, 128)         0         \n",
            "_________________________________________________________________\n",
            "max_pooling2d_3 (MaxPooling2 (None, 2, 2, 128)         0         \n",
            "_________________________________________________________________\n",
            "flatten (Flatten)            (None, 512)               0         \n",
            "_________________________________________________________________\n",
            "dense (Dense)                (None, 64)                32832     \n",
            "_________________________________________________________________\n",
            "dropout_4 (Dropout)          (None, 64)                0         \n",
            "_________________________________________________________________\n",
            "dense_1 (Dense)              (None, 10)                650       \n",
            "=================================================================\n",
            "Total params: 340,010\n",
            "Trainable params: 339,498\n",
            "Non-trainable params: 512\n",
            "_________________________________________________________________\n"
          ],
          "name": "stdout"
        }
      ]
    },
    {
      "cell_type": "markdown",
      "metadata": {
        "id": "DlquJEaFZxV9",
        "colab_type": "text"
      },
      "source": [
        "## **7. Create the checkpoints to be applied during training**\n",
        "---\n",
        "* Step 1: Create a checkpoint to save the model from an epoch when validation accuracy is the highest\n",
        "* Step 2: Create a checkpoint to save the training loss, training accuracy, validation loss and validation accuracy of each epoch into a csv file\n",
        "* Step 3: Put the two checkpoint objects into a list"
      ]
    },
    {
      "cell_type": "code",
      "metadata": {
        "id": "9-a1LSCbahKy",
        "colab_type": "code",
        "colab": {
          "base_uri": "https://localhost:8080/",
          "height": 118
        },
        "outputId": "0cfa71d2-ec29-4aa9-f7eb-3da1d796ca31"
      },
      "source": [
        "                                                                               # Step 1\n",
        "folderpath      = '/content/gdrive/My Drive/iss/prmls/colab/'\n",
        "filepath        = folderpath + modelname + \".hdf5\"\n",
        "checkpoint      = ModelCheckpoint(filepath, \n",
        "                                  monitor='val_accuracy', \n",
        "                                  verbose=0, \n",
        "                                  save_best_only=True, \n",
        "                                  mode='max')\n",
        "\n",
        "csv_logger      = CSVLogger(folderpath+modelname +'.csv')                       # Step 2\n",
        "callbacks_list  = [checkpoint,csv_logger]                                       # Step 3\n",
        "\n",
        "print(\"Callbacks created:\")\n",
        "print(callbacks_list[0])\n",
        "print(callbacks_list[1])\n",
        "print('')\n",
        "print(\"Path to model:\", filepath)\n",
        "print(\"Path to log:  \", folderpath+modelname+'.csv')"
      ],
      "execution_count": 9,
      "outputs": [
        {
          "output_type": "stream",
          "text": [
            "Callbacks created:\n",
            "<tensorflow.python.keras.callbacks.ModelCheckpoint object at 0x7f49c5b9aa58>\n",
            "<tensorflow.python.keras.callbacks.CSVLogger object at 0x7f49ad889a58>\n",
            "\n",
            "Path to model: /content/gdrive/My Drive/iss/prmls/colab/wBNRg.hdf5\n",
            "Path to log:   /content/gdrive/My Drive/iss/prmls/colab/wBNRg.csv\n"
          ],
          "name": "stdout"
        }
      ]
    },
    {
      "cell_type": "markdown",
      "metadata": {
        "id": "1mKgjQsmfOBz",
        "colab_type": "text"
      },
      "source": [
        "## **8. Train the deep learning model**\n",
        "___"
      ]
    },
    {
      "cell_type": "code",
      "metadata": {
        "id": "23lUNwpGfV0A",
        "colab_type": "code",
        "colab": {
          "base_uri": "https://localhost:8080/",
          "height": 1000
        },
        "outputId": "416d404c-41df-40ea-8a21-776c32547ed7"
      },
      "source": [
        "model.fit(trDat,                            # Training data\n",
        "          trLbl,                            # Training label\n",
        "          validation_data=(tsDat, tsLbl),   # Validation data and label\n",
        "          epochs=100,                       # The amount of epochs to be trained\n",
        "          batch_size=128,                   \n",
        "          shuffle=True,                     # To shuffle the training data\n",
        "          callbacks=callbacks_list)         # Callbacks to execute the checkpoints          "
      ],
      "execution_count": 10,
      "outputs": [
        {
          "output_type": "stream",
          "text": [
            "Epoch 1/100\n",
            "391/391 [==============================] - 6s 15ms/step - loss: 2.2709 - accuracy: 0.2301 - val_loss: 3.1279 - val_accuracy: 0.1089\n",
            "Epoch 2/100\n",
            "391/391 [==============================] - 5s 13ms/step - loss: 1.9912 - accuracy: 0.3426 - val_loss: 2.3179 - val_accuracy: 0.2317\n",
            "Epoch 3/100\n",
            "391/391 [==============================] - 5s 14ms/step - loss: 1.8403 - accuracy: 0.4022 - val_loss: 2.0323 - val_accuracy: 0.3409\n",
            "Epoch 4/100\n",
            "391/391 [==============================] - 5s 13ms/step - loss: 1.7319 - accuracy: 0.4421 - val_loss: 1.8773 - val_accuracy: 0.3863\n",
            "Epoch 5/100\n",
            "391/391 [==============================] - 5s 14ms/step - loss: 1.6537 - accuracy: 0.4728 - val_loss: 1.6695 - val_accuracy: 0.4607\n",
            "Epoch 6/100\n",
            "391/391 [==============================] - 5s 13ms/step - loss: 1.5741 - accuracy: 0.4987 - val_loss: 1.8921 - val_accuracy: 0.4129\n",
            "Epoch 7/100\n",
            "391/391 [==============================] - 5s 14ms/step - loss: 1.5097 - accuracy: 0.5255 - val_loss: 1.5151 - val_accuracy: 0.5064\n",
            "Epoch 8/100\n",
            "391/391 [==============================] - 5s 13ms/step - loss: 1.4546 - accuracy: 0.5480 - val_loss: 1.6878 - val_accuracy: 0.4919\n",
            "Epoch 9/100\n",
            "391/391 [==============================] - 6s 14ms/step - loss: 1.4024 - accuracy: 0.5636 - val_loss: 1.4424 - val_accuracy: 0.5527\n",
            "Epoch 10/100\n",
            "391/391 [==============================] - 5s 14ms/step - loss: 1.3541 - accuracy: 0.5816 - val_loss: 1.3037 - val_accuracy: 0.5817\n",
            "Epoch 11/100\n",
            "391/391 [==============================] - 5s 14ms/step - loss: 1.3180 - accuracy: 0.5956 - val_loss: 1.2624 - val_accuracy: 0.6041\n",
            "Epoch 12/100\n",
            "391/391 [==============================] - 5s 14ms/step - loss: 1.2715 - accuracy: 0.6089 - val_loss: 1.2169 - val_accuracy: 0.6201\n",
            "Epoch 13/100\n",
            "391/391 [==============================] - 5s 14ms/step - loss: 1.2413 - accuracy: 0.6164 - val_loss: 1.2554 - val_accuracy: 0.6123\n",
            "Epoch 14/100\n",
            "391/391 [==============================] - 6s 14ms/step - loss: 1.2072 - accuracy: 0.6312 - val_loss: 1.1330 - val_accuracy: 0.6474\n",
            "Epoch 15/100\n",
            "391/391 [==============================] - 5s 14ms/step - loss: 1.1737 - accuracy: 0.6396 - val_loss: 1.2662 - val_accuracy: 0.6162\n",
            "Epoch 16/100\n",
            "391/391 [==============================] - 5s 14ms/step - loss: 1.1401 - accuracy: 0.6518 - val_loss: 1.3619 - val_accuracy: 0.5827\n",
            "Epoch 17/100\n",
            "391/391 [==============================] - 6s 15ms/step - loss: 1.1160 - accuracy: 0.6601 - val_loss: 1.1001 - val_accuracy: 0.6632\n",
            "Epoch 18/100\n",
            "391/391 [==============================] - 5s 14ms/step - loss: 1.0875 - accuracy: 0.6701 - val_loss: 1.0070 - val_accuracy: 0.6926\n",
            "Epoch 19/100\n",
            "391/391 [==============================] - 5s 14ms/step - loss: 1.0666 - accuracy: 0.6779 - val_loss: 1.0282 - val_accuracy: 0.6863\n",
            "Epoch 20/100\n",
            "391/391 [==============================] - 5s 14ms/step - loss: 1.0429 - accuracy: 0.6863 - val_loss: 1.0227 - val_accuracy: 0.6887\n",
            "Epoch 21/100\n",
            "391/391 [==============================] - 6s 15ms/step - loss: 1.0200 - accuracy: 0.6926 - val_loss: 0.9330 - val_accuracy: 0.7169\n",
            "Epoch 22/100\n",
            "391/391 [==============================] - 5s 14ms/step - loss: 0.9979 - accuracy: 0.6994 - val_loss: 1.0086 - val_accuracy: 0.6999\n",
            "Epoch 23/100\n",
            "391/391 [==============================] - 5s 14ms/step - loss: 0.9771 - accuracy: 0.7047 - val_loss: 0.9625 - val_accuracy: 0.7100\n",
            "Epoch 24/100\n",
            "391/391 [==============================] - 5s 14ms/step - loss: 0.9567 - accuracy: 0.7141 - val_loss: 0.9369 - val_accuracy: 0.7102\n",
            "Epoch 25/100\n",
            "391/391 [==============================] - 6s 15ms/step - loss: 0.9402 - accuracy: 0.7152 - val_loss: 0.8630 - val_accuracy: 0.7344\n",
            "Epoch 26/100\n",
            "391/391 [==============================] - 5s 14ms/step - loss: 0.9229 - accuracy: 0.7262 - val_loss: 0.8811 - val_accuracy: 0.7322\n",
            "Epoch 27/100\n",
            "391/391 [==============================] - 5s 14ms/step - loss: 0.9046 - accuracy: 0.7288 - val_loss: 1.0179 - val_accuracy: 0.6889\n",
            "Epoch 28/100\n",
            "391/391 [==============================] - 6s 14ms/step - loss: 0.8832 - accuracy: 0.7370 - val_loss: 0.8568 - val_accuracy: 0.7424\n",
            "Epoch 29/100\n",
            "391/391 [==============================] - 5s 14ms/step - loss: 0.8691 - accuracy: 0.7418 - val_loss: 0.8173 - val_accuracy: 0.7563\n",
            "Epoch 30/100\n",
            "391/391 [==============================] - 5s 14ms/step - loss: 0.8581 - accuracy: 0.7425 - val_loss: 0.8424 - val_accuracy: 0.7482\n",
            "Epoch 31/100\n",
            "391/391 [==============================] - 5s 14ms/step - loss: 0.8444 - accuracy: 0.7487 - val_loss: 0.8205 - val_accuracy: 0.7541\n",
            "Epoch 32/100\n",
            "391/391 [==============================] - 6s 14ms/step - loss: 0.8267 - accuracy: 0.7531 - val_loss: 0.7919 - val_accuracy: 0.7631\n",
            "Epoch 33/100\n",
            "391/391 [==============================] - 5s 14ms/step - loss: 0.8145 - accuracy: 0.7552 - val_loss: 0.7893 - val_accuracy: 0.7626\n",
            "Epoch 34/100\n",
            "391/391 [==============================] - 6s 15ms/step - loss: 0.8012 - accuracy: 0.7634 - val_loss: 0.7497 - val_accuracy: 0.7735\n",
            "Epoch 35/100\n",
            "391/391 [==============================] - 5s 14ms/step - loss: 0.7930 - accuracy: 0.7656 - val_loss: 0.7579 - val_accuracy: 0.7751\n",
            "Epoch 36/100\n",
            "391/391 [==============================] - 5s 14ms/step - loss: 0.7808 - accuracy: 0.7686 - val_loss: 0.7195 - val_accuracy: 0.7829\n",
            "Epoch 37/100\n",
            "391/391 [==============================] - 5s 14ms/step - loss: 0.7695 - accuracy: 0.7696 - val_loss: 0.7902 - val_accuracy: 0.7608\n",
            "Epoch 38/100\n",
            "391/391 [==============================] - 5s 14ms/step - loss: 0.7563 - accuracy: 0.7752 - val_loss: 0.7393 - val_accuracy: 0.7752\n",
            "Epoch 39/100\n",
            "391/391 [==============================] - 5s 14ms/step - loss: 0.7439 - accuracy: 0.7809 - val_loss: 0.7469 - val_accuracy: 0.7708\n",
            "Epoch 40/100\n",
            "391/391 [==============================] - 6s 15ms/step - loss: 0.7344 - accuracy: 0.7821 - val_loss: 0.7091 - val_accuracy: 0.7859\n",
            "Epoch 41/100\n",
            "391/391 [==============================] - 5s 14ms/step - loss: 0.7263 - accuracy: 0.7839 - val_loss: 0.7212 - val_accuracy: 0.7840\n",
            "Epoch 42/100\n",
            "391/391 [==============================] - 5s 14ms/step - loss: 0.7199 - accuracy: 0.7874 - val_loss: 0.7322 - val_accuracy: 0.7819\n",
            "Epoch 43/100\n",
            "391/391 [==============================] - 6s 15ms/step - loss: 0.7097 - accuracy: 0.7913 - val_loss: 0.6876 - val_accuracy: 0.7973\n",
            "Epoch 44/100\n",
            "391/391 [==============================] - 5s 14ms/step - loss: 0.6939 - accuracy: 0.7961 - val_loss: 0.6827 - val_accuracy: 0.7966\n",
            "Epoch 45/100\n",
            "391/391 [==============================] - 6s 15ms/step - loss: 0.6901 - accuracy: 0.7965 - val_loss: 0.6841 - val_accuracy: 0.7991\n",
            "Epoch 46/100\n",
            "391/391 [==============================] - 5s 14ms/step - loss: 0.6724 - accuracy: 0.8010 - val_loss: 0.6749 - val_accuracy: 0.7994\n",
            "Epoch 47/100\n",
            "391/391 [==============================] - 5s 14ms/step - loss: 0.6703 - accuracy: 0.8013 - val_loss: 0.6964 - val_accuracy: 0.7881\n",
            "Epoch 48/100\n",
            "391/391 [==============================] - 6s 15ms/step - loss: 0.6624 - accuracy: 0.8037 - val_loss: 0.6632 - val_accuracy: 0.8000\n",
            "Epoch 49/100\n",
            "391/391 [==============================] - 5s 14ms/step - loss: 0.6503 - accuracy: 0.8088 - val_loss: 0.6773 - val_accuracy: 0.8001\n",
            "Epoch 50/100\n",
            "391/391 [==============================] - 5s 14ms/step - loss: 0.6505 - accuracy: 0.8098 - val_loss: 0.6639 - val_accuracy: 0.8045\n",
            "Epoch 51/100\n",
            "391/391 [==============================] - 5s 14ms/step - loss: 0.6338 - accuracy: 0.8122 - val_loss: 0.6552 - val_accuracy: 0.8053\n",
            "Epoch 52/100\n",
            "391/391 [==============================] - 5s 14ms/step - loss: 0.6272 - accuracy: 0.8151 - val_loss: 0.6593 - val_accuracy: 0.8047\n",
            "Epoch 53/100\n",
            "391/391 [==============================] - 5s 14ms/step - loss: 0.6223 - accuracy: 0.8181 - val_loss: 0.6615 - val_accuracy: 0.8020\n",
            "Epoch 54/100\n",
            "391/391 [==============================] - 6s 15ms/step - loss: 0.6180 - accuracy: 0.8186 - val_loss: 0.6512 - val_accuracy: 0.8065\n",
            "Epoch 55/100\n",
            "391/391 [==============================] - 5s 14ms/step - loss: 0.6084 - accuracy: 0.8225 - val_loss: 0.6436 - val_accuracy: 0.8057\n",
            "Epoch 56/100\n",
            "391/391 [==============================] - 6s 15ms/step - loss: 0.6068 - accuracy: 0.8213 - val_loss: 0.6339 - val_accuracy: 0.8140\n",
            "Epoch 57/100\n",
            "391/391 [==============================] - 5s 14ms/step - loss: 0.5976 - accuracy: 0.8265 - val_loss: 0.6816 - val_accuracy: 0.7974\n",
            "Epoch 58/100\n",
            "391/391 [==============================] - 5s 14ms/step - loss: 0.5852 - accuracy: 0.8284 - val_loss: 0.6126 - val_accuracy: 0.8195\n",
            "Epoch 59/100\n",
            "391/391 [==============================] - 5s 14ms/step - loss: 0.5838 - accuracy: 0.8285 - val_loss: 0.6099 - val_accuracy: 0.8215\n",
            "Epoch 60/100\n",
            "391/391 [==============================] - 5s 14ms/step - loss: 0.5770 - accuracy: 0.8318 - val_loss: 0.6301 - val_accuracy: 0.8120\n",
            "Epoch 61/100\n",
            "391/391 [==============================] - 5s 14ms/step - loss: 0.5693 - accuracy: 0.8330 - val_loss: 0.6493 - val_accuracy: 0.8089\n",
            "Epoch 62/100\n",
            "391/391 [==============================] - 5s 14ms/step - loss: 0.5618 - accuracy: 0.8366 - val_loss: 0.6249 - val_accuracy: 0.8157\n",
            "Epoch 63/100\n",
            "391/391 [==============================] - 5s 14ms/step - loss: 0.5594 - accuracy: 0.8382 - val_loss: 0.6120 - val_accuracy: 0.8206\n",
            "Epoch 64/100\n",
            "391/391 [==============================] - 5s 14ms/step - loss: 0.5526 - accuracy: 0.8379 - val_loss: 0.6289 - val_accuracy: 0.8152\n",
            "Epoch 65/100\n",
            "391/391 [==============================] - 5s 14ms/step - loss: 0.5476 - accuracy: 0.8409 - val_loss: 0.6534 - val_accuracy: 0.8056\n",
            "Epoch 66/100\n",
            "391/391 [==============================] - 5s 14ms/step - loss: 0.5433 - accuracy: 0.8428 - val_loss: 0.6536 - val_accuracy: 0.8028\n",
            "Epoch 67/100\n",
            "391/391 [==============================] - 5s 14ms/step - loss: 0.5363 - accuracy: 0.8434 - val_loss: 0.6146 - val_accuracy: 0.8193\n",
            "Epoch 68/100\n",
            "391/391 [==============================] - 5s 14ms/step - loss: 0.5366 - accuracy: 0.8451 - val_loss: 0.6810 - val_accuracy: 0.7953\n",
            "Epoch 69/100\n",
            "391/391 [==============================] - 5s 14ms/step - loss: 0.5288 - accuracy: 0.8468 - val_loss: 0.6385 - val_accuracy: 0.8162\n",
            "Epoch 70/100\n",
            "391/391 [==============================] - 5s 14ms/step - loss: 0.5279 - accuracy: 0.8458 - val_loss: 0.6289 - val_accuracy: 0.8179\n",
            "Epoch 71/100\n",
            "391/391 [==============================] - 6s 15ms/step - loss: 0.5216 - accuracy: 0.8477 - val_loss: 0.5990 - val_accuracy: 0.8218\n",
            "Epoch 72/100\n",
            "391/391 [==============================] - 5s 14ms/step - loss: 0.5079 - accuracy: 0.8535 - val_loss: 0.5974 - val_accuracy: 0.8264\n",
            "Epoch 73/100\n",
            "391/391 [==============================] - 6s 14ms/step - loss: 0.5049 - accuracy: 0.8532 - val_loss: 0.5888 - val_accuracy: 0.8317\n",
            "Epoch 74/100\n",
            "391/391 [==============================] - 5s 14ms/step - loss: 0.5085 - accuracy: 0.8527 - val_loss: 0.6426 - val_accuracy: 0.8124\n",
            "Epoch 75/100\n",
            "391/391 [==============================] - 5s 14ms/step - loss: 0.5045 - accuracy: 0.8538 - val_loss: 0.6038 - val_accuracy: 0.8214\n",
            "Epoch 76/100\n",
            "391/391 [==============================] - 6s 15ms/step - loss: 0.4943 - accuracy: 0.8581 - val_loss: 0.5837 - val_accuracy: 0.8343\n",
            "Epoch 77/100\n",
            "391/391 [==============================] - 5s 14ms/step - loss: 0.4926 - accuracy: 0.8588 - val_loss: 0.6266 - val_accuracy: 0.8156\n",
            "Epoch 78/100\n",
            "391/391 [==============================] - 5s 14ms/step - loss: 0.4875 - accuracy: 0.8592 - val_loss: 0.6504 - val_accuracy: 0.8117\n",
            "Epoch 79/100\n",
            "391/391 [==============================] - 5s 14ms/step - loss: 0.4785 - accuracy: 0.8625 - val_loss: 0.5868 - val_accuracy: 0.8271\n",
            "Epoch 80/100\n",
            "391/391 [==============================] - 5s 14ms/step - loss: 0.4770 - accuracy: 0.8629 - val_loss: 0.6104 - val_accuracy: 0.8186\n",
            "Epoch 81/100\n",
            "391/391 [==============================] - 5s 14ms/step - loss: 0.4786 - accuracy: 0.8623 - val_loss: 0.6030 - val_accuracy: 0.8260\n",
            "Epoch 82/100\n",
            "391/391 [==============================] - 5s 14ms/step - loss: 0.4694 - accuracy: 0.8666 - val_loss: 0.5972 - val_accuracy: 0.8239\n",
            "Epoch 83/100\n",
            "391/391 [==============================] - 5s 14ms/step - loss: 0.4696 - accuracy: 0.8646 - val_loss: 0.6094 - val_accuracy: 0.8255\n",
            "Epoch 84/100\n",
            "391/391 [==============================] - 6s 15ms/step - loss: 0.4567 - accuracy: 0.8673 - val_loss: 0.5696 - val_accuracy: 0.8358\n",
            "Epoch 85/100\n",
            "391/391 [==============================] - 5s 14ms/step - loss: 0.4575 - accuracy: 0.8691 - val_loss: 0.5849 - val_accuracy: 0.8314\n",
            "Epoch 86/100\n",
            "391/391 [==============================] - 5s 14ms/step - loss: 0.4564 - accuracy: 0.8690 - val_loss: 0.5907 - val_accuracy: 0.8266\n",
            "Epoch 87/100\n",
            "391/391 [==============================] - 5s 14ms/step - loss: 0.4517 - accuracy: 0.8706 - val_loss: 0.6029 - val_accuracy: 0.8263\n",
            "Epoch 88/100\n",
            "391/391 [==============================] - 5s 14ms/step - loss: 0.4513 - accuracy: 0.8710 - val_loss: 0.5907 - val_accuracy: 0.8308\n",
            "Epoch 89/100\n",
            "391/391 [==============================] - 5s 14ms/step - loss: 0.4452 - accuracy: 0.8729 - val_loss: 0.5841 - val_accuracy: 0.8305\n",
            "Epoch 90/100\n",
            "391/391 [==============================] - 5s 14ms/step - loss: 0.4420 - accuracy: 0.8748 - val_loss: 0.6289 - val_accuracy: 0.8182\n",
            "Epoch 91/100\n",
            "391/391 [==============================] - 5s 14ms/step - loss: 0.4379 - accuracy: 0.8766 - val_loss: 0.5961 - val_accuracy: 0.8211\n",
            "Epoch 92/100\n",
            "391/391 [==============================] - 6s 15ms/step - loss: 0.4360 - accuracy: 0.8764 - val_loss: 0.5684 - val_accuracy: 0.8362\n",
            "Epoch 93/100\n",
            "391/391 [==============================] - 5s 14ms/step - loss: 0.4335 - accuracy: 0.8767 - val_loss: 0.5959 - val_accuracy: 0.8323\n",
            "Epoch 94/100\n",
            "391/391 [==============================] - 5s 14ms/step - loss: 0.4296 - accuracy: 0.8786 - val_loss: 0.5963 - val_accuracy: 0.8237\n",
            "Epoch 95/100\n",
            "391/391 [==============================] - 5s 14ms/step - loss: 0.4291 - accuracy: 0.8787 - val_loss: 0.6106 - val_accuracy: 0.8234\n",
            "Epoch 96/100\n",
            "391/391 [==============================] - 5s 14ms/step - loss: 0.4240 - accuracy: 0.8795 - val_loss: 0.6055 - val_accuracy: 0.8210\n",
            "Epoch 97/100\n",
            "391/391 [==============================] - 6s 15ms/step - loss: 0.4286 - accuracy: 0.8800 - val_loss: 0.5686 - val_accuracy: 0.8388\n",
            "Epoch 98/100\n",
            "391/391 [==============================] - 5s 14ms/step - loss: 0.4157 - accuracy: 0.8824 - val_loss: 0.5798 - val_accuracy: 0.8331\n",
            "Epoch 99/100\n",
            "391/391 [==============================] - 5s 14ms/step - loss: 0.4145 - accuracy: 0.8803 - val_loss: 0.5889 - val_accuracy: 0.8294\n",
            "Epoch 100/100\n",
            "391/391 [==============================] - 5s 14ms/step - loss: 0.4118 - accuracy: 0.8859 - val_loss: 0.5852 - val_accuracy: 0.8359\n"
          ],
          "name": "stdout"
        },
        {
          "output_type": "execute_result",
          "data": {
            "text/plain": [
              "<tensorflow.python.keras.callbacks.History at 0x7f49600f1e10>"
            ]
          },
          "metadata": {
            "tags": []
          },
          "execution_count": 10
        }
      ]
    },
    {
      "cell_type": "markdown",
      "metadata": {
        "id": "TevfJTd-s0nk",
        "colab_type": "text"
      },
      "source": [
        "## **9. Validate the deep learning model**\n",
        "---\n",
        "* Step 1: Load the trained weights and compile the model\n",
        "* Step 2: Make prediction\n"
      ]
    },
    {
      "cell_type": "code",
      "metadata": {
        "id": "2sVtWmcVtiV5",
        "colab_type": "code",
        "colab": {
          "base_uri": "https://localhost:8080/",
          "height": 34
        },
        "outputId": "be9cecbb-16bd-497b-8fd0-cb4729803d8e"
      },
      "source": [
        "                                                                                # Step 1\n",
        "modelGo.load_weights(filepath)\n",
        "modelGo.compile(loss='categorical_crossentropy', \n",
        "                optimizer=optmz, \n",
        "                metrics=['accuracy'])\n",
        "\n",
        "predicts    = modelGo.predict([tsDat])                                    # Step 2\n",
        "print(\"Prediction completes.\")"
      ],
      "execution_count": 11,
      "outputs": [
        {
          "output_type": "stream",
          "text": [
            "Prediction completes.\n"
          ],
          "name": "stdout"
        }
      ]
    },
    {
      "cell_type": "markdown",
      "metadata": {
        "id": "0aOCUljp5qq4",
        "colab_type": "text"
      },
      "source": [
        "## **10. Report classification metrics**\n",
        "---\n",
        "* Step 1: Setup the label\n",
        "* Step 2: Convert label from one-hot to integer\n",
        "* Step 3: Calculate the accuracy score\n",
        "* Step 4: Generate classification report"
      ]
    },
    {
      "cell_type": "code",
      "metadata": {
        "id": "2tI4hBmk5uRh",
        "colab_type": "code",
        "colab": {
          "base_uri": "https://localhost:8080/",
          "height": 319
        },
        "outputId": "5014e351-45e5-4ec6-d512-02f794b0aac5"
      },
      "source": [
        "                                                                                # Step 1\n",
        "labelname   = ['airplane',          # The label for reporting metrics\n",
        "               'automobile',\n",
        "               'bird',\n",
        "               'cat',\n",
        "               'deer',\n",
        "               'dog',\n",
        "               'frog',\n",
        "               'horse',\n",
        "               'ship',\n",
        "               'truck']\n",
        "                                                                                # Step 2\n",
        "predout     = np.argmax(predicts,axis=1)\n",
        "testout     = np.argmax(tsLbl,axis=1)\n",
        "\n",
        "testScores  = metrics.accuracy_score(testout,predout)                           # Step 3\n",
        "\n",
        "                                                                                # Step 4\n",
        "print(\"Best accuracy (on testing dataset): %.2f%%\" % (testScores*100))\n",
        "print(metrics.classification_report(testout,\n",
        "                                    predout,\n",
        "                                    target_names=labelname,\n",
        "                                    digits=4))"
      ],
      "execution_count": 12,
      "outputs": [
        {
          "output_type": "stream",
          "text": [
            "Best accuracy (on testing dataset): 83.88%\n",
            "              precision    recall  f1-score   support\n",
            "\n",
            "    airplane     0.7980    0.8770    0.8356      1000\n",
            "  automobile     0.9115    0.9270    0.9192      1000\n",
            "        bird     0.7977    0.7650    0.7810      1000\n",
            "         cat     0.6943    0.6860    0.6901      1000\n",
            "        deer     0.8240    0.8520    0.8378      1000\n",
            "         dog     0.7940    0.7130    0.7513      1000\n",
            "        frog     0.8734    0.8970    0.8851      1000\n",
            "       horse     0.8802    0.8740    0.8771      1000\n",
            "        ship     0.8742    0.9240    0.8984      1000\n",
            "       truck     0.9407    0.8730    0.9056      1000\n",
            "\n",
            "    accuracy                         0.8388     10000\n",
            "   macro avg     0.8388    0.8388    0.8381     10000\n",
            "weighted avg     0.8388    0.8388    0.8381     10000\n",
            "\n"
          ],
          "name": "stdout"
        }
      ]
    },
    {
      "cell_type": "markdown",
      "metadata": {
        "id": "gEK_4UXN6IVa",
        "colab_type": "text"
      },
      "source": [
        "## **11. Print confusion matrix**\n",
        "---"
      ]
    },
    {
      "cell_type": "code",
      "metadata": {
        "id": "UCBJCYp26L1t",
        "colab_type": "code",
        "colab": {
          "base_uri": "https://localhost:8080/",
          "height": 185
        },
        "outputId": "89edd2ee-1547-47a2-f234-5fb1de070fe4"
      },
      "source": [
        "confusion   = metrics.confusion_matrix(testout,predout)\n",
        "print(confusion)"
      ],
      "execution_count": 13,
      "outputs": [
        {
          "output_type": "stream",
          "text": [
            "[[877   7  21   9   7   3   4   8  57   7]\n",
            " [ 11 927   2   2   0   0   4   0  25  29]\n",
            " [ 76   2 765  36  42  28  35  13   1   2]\n",
            " [ 23   5  60 686  35 103  48  26   6   8]\n",
            " [ 13   1  34  31 852  14  18  29   7   1]\n",
            " [ 11   3  31 149  42 713  12  35   3   1]\n",
            " [  8   1  26  35  18   4 897   4   6   1]\n",
            " [ 13   0  11  35  32  30   1 874   3   1]\n",
            " [ 38  11   7   2   5   2   5   1 924   5]\n",
            " [ 29  60   2   3   1   1   3   3  25 873]]\n"
          ],
          "name": "stdout"
        }
      ]
    },
    {
      "cell_type": "markdown",
      "metadata": {
        "id": "2QMIDPD46UGT",
        "colab_type": "text"
      },
      "source": [
        "## **12. Plot curves on validation loss and accuracy**\n",
        "---"
      ]
    },
    {
      "cell_type": "code",
      "metadata": {
        "id": "qr2ZbvUi6YHf",
        "colab_type": "code",
        "colab": {
          "base_uri": "https://localhost:8080/",
          "height": 443
        },
        "outputId": "318672a2-6aa4-42b0-deb6-f9b60be2eaf4"
      },
      "source": [
        "records     = pd.read_csv(folderpath+modelname +'.csv')\n",
        "plt.figure()\n",
        "plt.subplot(211)\n",
        "plt.plot(records['val_loss'], label=\"validation\")\n",
        "plt.plot(records['loss'],label=\"training\")\n",
        "plt.yticks([0.00,0.50,1.00,1.50])\n",
        "plt.title('Loss value',fontsize=12)\n",
        "\n",
        "ax          = plt.gca()\n",
        "ax.set_xticklabels([])\n",
        "\n",
        "plt.subplot(212)\n",
        "plt.plot(records['val_accuracy'],label=\"validation\")\n",
        "plt.plot(records['accuracy'],label=\"training\")\n",
        "plt.yticks([0.5,0.6,0.7,0.8])\n",
        "plt.title('Accuracy',fontsize=12)\n",
        "ax.legend()\n",
        "plt.show()"
      ],
      "execution_count": 14,
      "outputs": [
        {
          "output_type": "display_data",
          "data": {
            "image/png": "[encoded data removed]",
            "text/plain": [
              "<Figure size 504x504 with 2 Axes>"
            ]
          },
          "metadata": {
            "tags": []
          }
        }
      ]
    },
    {
      "cell_type": "markdown",
      "metadata": {
        "id": "PWoTz-bLug3X",
        "colab_type": "text"
      },
      "source": [
        "## **13. Save the model plot**\n",
        "---"
      ]
    },
    {
      "cell_type": "code",
      "metadata": {
        "id": "Tz1YfuV1ujcE",
        "colab_type": "code",
        "colab": {
          "base_uri": "https://localhost:8080/",
          "height": 34
        },
        "outputId": "6a41d939-1173-418a-d0b3-d50f09c77dfd"
      },
      "source": [
        "plotpath  = folderpath+modelname+'_plot.png'\n",
        "plot_model(model, \n",
        "           to_file=plotpath, \n",
        "           show_shapes=True, \n",
        "           show_layer_names=False,\n",
        "           rankdir='TB')\n",
        "\n",
        "print(\"Path to plot:\", plotpath)"
      ],
      "execution_count": 15,
      "outputs": [
        {
          "output_type": "stream",
          "text": [
            "Path to plot: /content/gdrive/My Drive/iss/prmls/colab/wBNRg_plot.png\n"
          ],
          "name": "stdout"
        }
      ]
    }
  ]
}