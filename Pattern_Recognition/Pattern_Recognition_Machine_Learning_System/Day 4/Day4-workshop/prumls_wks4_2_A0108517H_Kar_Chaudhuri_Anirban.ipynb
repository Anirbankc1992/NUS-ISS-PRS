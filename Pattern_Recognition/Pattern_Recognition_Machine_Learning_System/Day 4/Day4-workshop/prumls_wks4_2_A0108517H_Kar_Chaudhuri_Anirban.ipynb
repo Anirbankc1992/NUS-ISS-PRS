{
  "nbformat": 4,
  "nbformat_minor": 0,
  "metadata": {
    "colab": {
      "name": "prumls_wks4_2_A0065970X_SivasankaranBalakrishnan.ipynb",
      "provenance": [],
      "collapsed_sections": [],
      "toc_visible": true
    },
    "kernelspec": {
      "name": "python3",
      "display_name": "Python 3"
    },
    "accelerator": "GPU"
  },
  "cells": [
    {
      "cell_type": "markdown",
      "metadata": {
        "id": "CRNVzhoo1clG",
        "colab_type": "text"
      },
      "source": [
        "## **1. Mount google drive**\n",
        "---"
      ]
    },
    {
      "cell_type": "code",
      "metadata": {
        "id": "5W39GXyk1hME",
        "colab_type": "code",
        "colab": {
          "base_uri": "https://localhost:8080/",
          "height": 121
        },
        "outputId": "610fa96e-0ecd-4a8f-8c74-f2f0c1373eb7"
      },
      "source": [
        "from google.colab import drive\n",
        "drive.mount('/content/gdrive')"
      ],
      "execution_count": 1,
      "outputs": [
        {
          "output_type": "stream",
          "text": [
            "Go to this URL in a browser: https://accounts.google.com/o/oauth2/auth?client_id=947318989803-6bn6qk8qdgf4n4g3pfee6491hc0brc4i.apps.googleusercontent.com&redirect_uri=urn%3aietf%3awg%3aoauth%3a2.0%3aoob&scope=email%20https%3a%2f%2fwww.googleapis.com%2fauth%2fdocs.test%20https%3a%2f%2fwww.googleapis.com%2fauth%2fdrive%20https%3a%2f%2fwww.googleapis.com%2fauth%2fdrive.photos.readonly%20https%3a%2f%2fwww.googleapis.com%2fauth%2fpeopleapi.readonly&response_type=code\n",
            "\n",
            "Enter your authorization code:\n",
            "··········\n",
            "Mounted at /content/gdrive\n"
          ],
          "name": "stdout"
        }
      ]
    },
    {
      "cell_type": "markdown",
      "metadata": {
        "id": "dOQ-2xS_MYHi",
        "colab_type": "text"
      },
      "source": [
        "## **2. Import the necessary libraries**\n",
        "---"
      ]
    },
    {
      "cell_type": "code",
      "metadata": {
        "id": "yoi4gWDELtek",
        "colab_type": "code",
        "colab": {
          "base_uri": "https://localhost:8080/",
          "height": 118
        },
        "outputId": "3bae6d01-eac5-46eb-94eb-d301f3f75cc8"
      },
      "source": [
        "import matplotlib\n",
        "import sklearn\n",
        "import numpy as np\n",
        "import pandas as pd\n",
        "import sklearn.metrics as metrics\n",
        "import matplotlib.pyplot as plt\n",
        "import tensorflow as tf\n",
        "\n",
        "\n",
        "from tensorflow.keras.callbacks import ModelCheckpoint,CSVLogger,LearningRateScheduler\n",
        "from tensorflow.keras.models import Model\n",
        "from tensorflow.keras.layers import Input\n",
        "from tensorflow.keras.layers import Dense\n",
        "from tensorflow.keras.layers import Flatten\n",
        "from tensorflow.keras.layers import Conv2D\n",
        "from tensorflow.keras.layers import BatchNormalization\n",
        "from tensorflow.keras.layers import Activation\n",
        "from tensorflow.keras.layers import AveragePooling2D\n",
        "from tensorflow.keras.layers import add\n",
        "from tensorflow.keras.regularizers import l2\n",
        "from tensorflow.keras.utils import to_categorical\n",
        "from tensorflow.keras.datasets import cifar10\n",
        "from tensorflow.keras import optimizers\n",
        "from tensorflow.keras.preprocessing.image import ImageDataGenerator\n",
        "from tensorflow.keras.utils import plot_model\n",
        "\n",
        "print(\"Versions of key libraries\")\n",
        "print(\"---\")\n",
        "print(\"tensorflow: \", tf.__version__)\n",
        "print(\"numpy:      \", np.__version__)\n",
        "print(\"matplotlib: \", matplotlib.__version__)\n",
        "print(\"sklearn:    \", sklearn.__version__)"
      ],
      "execution_count": 2,
      "outputs": [
        {
          "output_type": "stream",
          "text": [
            "Versions of key libraries\n",
            "---\n",
            "tensorflow:  2.3.0\n",
            "numpy:       1.18.5\n",
            "matplotlib:  3.2.2\n",
            "sklearn:     0.22.2.post1\n"
          ],
          "name": "stdout"
        }
      ]
    },
    {
      "cell_type": "markdown",
      "metadata": {
        "id": "0amhwjZ4M2m-",
        "colab_type": "text"
      },
      "source": [
        "## **3.Create a function to plot image without axis**\n",
        "---"
      ]
    },
    {
      "cell_type": "code",
      "metadata": {
        "id": "OFxsBB1mNXl2",
        "colab_type": "code",
        "colab": {
          "base_uri": "https://localhost:8080/",
          "height": 34
        },
        "outputId": "d5e981b5-7624-4ae7-ec47-6ccdf64071d0"
      },
      "source": [
        "def implt(img):\n",
        "    plt.figure()\n",
        "    plt.imshow(img)\n",
        "    plt.axis('off')\n",
        "\n",
        "print(implt)"
      ],
      "execution_count": 3,
      "outputs": [
        {
          "output_type": "stream",
          "text": [
            "<function implt at 0x7f98338c0b70>\n"
          ],
          "name": "stdout"
        }
      ]
    },
    {
      "cell_type": "markdown",
      "metadata": {
        "id": "X3N41iixORPz",
        "colab_type": "text"
      },
      "source": [
        "## **4. Set matplotlib to have seaborn plot style**\n",
        "---"
      ]
    },
    {
      "cell_type": "code",
      "metadata": {
        "id": "OyO5OsUrOYNQ",
        "colab_type": "code",
        "colab": {
          "base_uri": "https://localhost:8080/",
          "height": 34
        },
        "outputId": "2c94270c-1537-4920-e852-4cdeb2c56eb3"
      },
      "source": [
        "plt.style.use('seaborn')                   # if want to use the default style, set 'classic'\n",
        "plt.rcParams['ytick.right']     = True\n",
        "plt.rcParams['ytick.labelright']= True\n",
        "plt.rcParams['ytick.left']      = False\n",
        "plt.rcParams['ytick.labelleft'] = False\n",
        "plt.rcParams['figure.figsize']  = [7,7]   # Set the figure size to be 7 inch for (width,height)\n",
        "\n",
        "print(\"Matplotlib setup completes.\")"
      ],
      "execution_count": 4,
      "outputs": [
        {
          "output_type": "stream",
          "text": [
            "Matplotlib setup completes.\n"
          ],
          "name": "stdout"
        }
      ]
    },
    {
      "cell_type": "markdown",
      "metadata": {
        "id": "5w2jAiKZOmgP",
        "colab_type": "text"
      },
      "source": [
        "## **5. Prepare Cifar10 data for training and testing**\n",
        "---\n",
        "* Step 1: Load the cifar10 \n",
        "* Step 2: Check the shape and type of the data\n",
        "* Step 3: Convert the data into float32 and rescale the values from the range of 0\\~255 into 0\\~1\n",
        "* Step 4: Retrieve the row size and the column size of each image\n",
        "* Step 5: Perform one-hot enconding on the labels\n",
        "* Step 6: Retrieve the number of classes in this problem"
      ]
    },
    {
      "cell_type": "code",
      "metadata": {
        "id": "v3Ad2V0pO1TX",
        "colab_type": "code",
        "colab": {
          "base_uri": "https://localhost:8080/",
          "height": 134
        },
        "outputId": "459b2d70-2314-4cf2-b665-7df7776b9bff"
      },
      "source": [
        "                                                                                # Step 1\n",
        "data            = cifar10.load_data()\n",
        "(trDat, trLbl)  = data[0]\n",
        "(tsDat, tsLbl)  = data[1]\n",
        "\n",
        "                                                                                # Step 2\n",
        "print(\"The shape of trDat is\", trDat.shape, \"and the type of trDat is\", trDat.dtype)\n",
        "print(\"The shape of tsDat is\", tsDat.shape, \"and the type of tsDat is\", tsDat.dtype)\n",
        "print(\"\")\n",
        "print(\"The shape of trLbl is\", trLbl.shape, \"and the type of trLbl is\", trLbl.dtype)\n",
        "print(\"The shape of tsLbl is\", tsLbl.shape, \"and the type of tsLbl is\", tsLbl.dtype)\n",
        "\n",
        "                                                                                # Step 3\n",
        "trDat           = trDat.astype('float32')/255\n",
        "tsDat           = tsDat.astype('float32')/255\n",
        "\n",
        "                                                                                # Step 4\n",
        "imgrows         = trDat.shape[1]\n",
        "imgclms         = trDat.shape[2]\n",
        "channel         = trDat.shape[3]\n",
        "\n",
        "                                                                                # Step 5\n",
        "trLbl           = to_categorical(trLbl)\n",
        "tsLbl           = to_categorical(tsLbl)\n",
        "                               \n",
        "num_classes     = tsLbl.shape[1]                                                # Step 6"
      ],
      "execution_count": 5,
      "outputs": [
        {
          "output_type": "stream",
          "text": [
            "Downloading data from https://www.cs.toronto.edu/~kriz/cifar-10-python.tar.gz\n",
            "170500096/170498071 [==============================] - 11s 0us/step\n",
            "The shape of trDat is (50000, 32, 32, 3) and the type of trDat is uint8\n",
            "The shape of tsDat is (10000, 32, 32, 3) and the type of tsDat is uint8\n",
            "\n",
            "The shape of trLbl is (50000, 1) and the type of trLbl is uint8\n",
            "The shape of tsLbl is (10000, 1) and the type of tsLbl is uint8\n"
          ],
          "name": "stdout"
        }
      ]
    },
    {
      "cell_type": "markdown",
      "metadata": {
        "id": "DoP3WcoJW-jZ",
        "colab_type": "text"
      },
      "source": [
        "## **6. Define the resnet model (to be completed)**\n",
        "___\n",
        "* Step 1: Setup the optimizer to be used for training\n",
        "* Step 2: Set a name for the coming model (required for saving)\n",
        "* Step 3: Function to create layers for the resnet\n",
        "* Step 4: Function to create residual blocks\n",
        "* Step 5: Define the resnet model (to be completed)\n",
        "* Step 6: Create models for training and testing\n",
        "* Step 7: Display the summary of the model of interest "
      ]
    },
    {
      "cell_type": "code",
      "metadata": {
        "id": "0HMOes0kXCPd",
        "colab_type": "code",
        "colab": {
          "base_uri": "https://localhost:8080/",
          "height": 1000
        },
        "outputId": "5c7874f0-f4f9-4051-dac9-50be47e54593"
      },
      "source": [
        "optmz       = optimizers.Adam(lr=0.001)                                         # Step 1\n",
        "modelname   = 'cifar10ResV1Cfg5'                                                # Step 2\n",
        "\n",
        "                                                                                # Step 3\n",
        "def resLyr(inputs,\n",
        "           numFilters=16,\n",
        "           kernelSz=3,\n",
        "           strides=1,\n",
        "           activation='relu',\n",
        "           batchNorm=True,\n",
        "           convFirst=True,\n",
        "           lyrName=None):\n",
        "\n",
        "    convLyr     = Conv2D(numFilters,\n",
        "                         kernel_size=kernelSz,\n",
        "                         strides=strides,\n",
        "                         padding='same',\n",
        "                         kernel_initializer='he_normal',\n",
        "                         kernel_regularizer=l2(1e-4),\n",
        "                         name=lyrName+'_conv' if lyrName else None)\n",
        "    x           = inputs\n",
        "    \n",
        "    if convFirst:\n",
        "        x       = convLyr(x)\n",
        "        \n",
        "        if batchNorm:\n",
        "            x   = BatchNormalization(name=lyrName+'_bn' if lyrName else None)(x)\n",
        "            \n",
        "        if activation is not None:\n",
        "            x   = Activation(activation,\n",
        "                             name=lyrName+'_'+activation if lyrName else None)(x)\n",
        "    else:\n",
        "        if batchNorm:\n",
        "            x   = BatchNormalization(name=lyrName+'_bn' if lyrName else None)(x)\n",
        "            \n",
        "        if activation is not None:\n",
        "            x   = Activation(activation,\n",
        "                             name=lyrName+'_'+activation if lyrName else None)(x)\n",
        "            \n",
        "        x       = convLyr(x)\n",
        "    return x\n",
        "\n",
        "                                                                                # Step 4\n",
        "def resBlkV1(inputs,\n",
        "             numFilters=16,\n",
        "             numBlocks=3,\n",
        "             downsampleOnFirst=True,\n",
        "             names=None):\n",
        "    \n",
        "    x       = inputs\n",
        "    \n",
        "    for run in range(0,numBlocks):\n",
        "        strides = 1\n",
        "        blkStr  = str(run+1)\n",
        "        \n",
        "        if downsampleOnFirst and run == 0:\n",
        "            strides     = 2\n",
        "            \n",
        "        y       = resLyr(inputs=x,\n",
        "                         numFilters=numFilters,\n",
        "                         strides=strides,\n",
        "                         lyrName=names+'_Blk'+blkStr+'_Res1' if names else None)\n",
        "        y       = resLyr(inputs=y,\n",
        "                         numFilters=numFilters,\n",
        "                         activation=None,\n",
        "                         lyrName=names+'_Blk'+blkStr+'_Res2' if names else None)\n",
        "        \n",
        "        if downsampleOnFirst and run == 0:\n",
        "            x   = resLyr(inputs=x,\n",
        "                         numFilters=numFilters,\n",
        "                         kernelSz=1,\n",
        "                         strides=strides,\n",
        "                         activation=None,\n",
        "                         batchNorm=False,\n",
        "                         lyrName=names+'_Blk'+blkStr+'_lin' if names else None)\n",
        "\n",
        "        x       = add([x,y],\n",
        "                      name=names+'_Blk'+blkStr+'_add' if names else None)\n",
        "        x       = Activation('relu',\n",
        "                             name=names+'_Blk'+blkStr+'_relu' if names else None)(x)\n",
        "        \n",
        "    return x\n",
        "    \n",
        "                                                                                # Step 5\n",
        "def createResNetV1(inputShape=(32,32,3), numClasses=10):\n",
        "    inputs = Input(shape=inputShape)\n",
        "    v = resLyr(inputs, lyrName='Inpt')\n",
        "    v = resBlkV1(inputs=v, numFilters=16, numBlocks=3, downsampleOnFirst=False, names='Stg1')\n",
        "    v = resBlkV1(inputs=v, numFilters=32, numBlocks=3, downsampleOnFirst=True,  names='Stg2')\n",
        "    v = resBlkV1(inputs=v, numFilters=64, numBlocks=3, downsampleOnFirst=True,  names='Stg3')\n",
        "    v = AveragePooling2D(pool_size=8,  name='AvgPool')(v)\n",
        "    v = Flatten()(v)\n",
        "    outputs = Dense(numClasses, activation='softmax', kernel_initializer='he_normal')(v)\n",
        "    model = Model(inputs=inputs,outputs=outputs)\n",
        "    model.compile(loss='categorical_crossentropy', optimizer=optmz, metrics=['accuracy'])\n",
        "    return model\n",
        "\n",
        "                                                                                # Step 6\n",
        "model       = createResNetV1()  # This is meant for training\n",
        "modelGo     = createResNetV1()  # This is used for final testing\n",
        "\n",
        "model.summary()                                                                 # Step 7"
      ],
      "execution_count": 6,
      "outputs": [
        {
          "output_type": "stream",
          "text": [
            "Model: \"functional_1\"\n",
            "__________________________________________________________________________________________________\n",
            "Layer (type)                    Output Shape         Param #     Connected to                     \n",
            "==================================================================================================\n",
            "input_1 (InputLayer)            [(None, 32, 32, 3)]  0                                            \n",
            "__________________________________________________________________________________________________\n",
            "Inpt_conv (Conv2D)              (None, 32, 32, 16)   448         input_1[0][0]                    \n",
            "__________________________________________________________________________________________________\n",
            "Inpt_bn (BatchNormalization)    (None, 32, 32, 16)   64          Inpt_conv[0][0]                  \n",
            "__________________________________________________________________________________________________\n",
            "Inpt_relu (Activation)          (None, 32, 32, 16)   0           Inpt_bn[0][0]                    \n",
            "__________________________________________________________________________________________________\n",
            "Stg1_Blk1_Res1_conv (Conv2D)    (None, 32, 32, 16)   2320        Inpt_relu[0][0]                  \n",
            "__________________________________________________________________________________________________\n",
            "Stg1_Blk1_Res1_bn (BatchNormali (None, 32, 32, 16)   64          Stg1_Blk1_Res1_conv[0][0]        \n",
            "__________________________________________________________________________________________________\n",
            "Stg1_Blk1_Res1_relu (Activation (None, 32, 32, 16)   0           Stg1_Blk1_Res1_bn[0][0]          \n",
            "__________________________________________________________________________________________________\n",
            "Stg1_Blk1_Res2_conv (Conv2D)    (None, 32, 32, 16)   2320        Stg1_Blk1_Res1_relu[0][0]        \n",
            "__________________________________________________________________________________________________\n",
            "Stg1_Blk1_Res2_bn (BatchNormali (None, 32, 32, 16)   64          Stg1_Blk1_Res2_conv[0][0]        \n",
            "__________________________________________________________________________________________________\n",
            "Stg1_Blk1_add (Add)             (None, 32, 32, 16)   0           Inpt_relu[0][0]                  \n",
            "                                                                 Stg1_Blk1_Res2_bn[0][0]          \n",
            "__________________________________________________________________________________________________\n",
            "Stg1_Blk1_relu (Activation)     (None, 32, 32, 16)   0           Stg1_Blk1_add[0][0]              \n",
            "__________________________________________________________________________________________________\n",
            "Stg1_Blk2_Res1_conv (Conv2D)    (None, 32, 32, 16)   2320        Stg1_Blk1_relu[0][0]             \n",
            "__________________________________________________________________________________________________\n",
            "Stg1_Blk2_Res1_bn (BatchNormali (None, 32, 32, 16)   64          Stg1_Blk2_Res1_conv[0][0]        \n",
            "__________________________________________________________________________________________________\n",
            "Stg1_Blk2_Res1_relu (Activation (None, 32, 32, 16)   0           Stg1_Blk2_Res1_bn[0][0]          \n",
            "__________________________________________________________________________________________________\n",
            "Stg1_Blk2_Res2_conv (Conv2D)    (None, 32, 32, 16)   2320        Stg1_Blk2_Res1_relu[0][0]        \n",
            "__________________________________________________________________________________________________\n",
            "Stg1_Blk2_Res2_bn (BatchNormali (None, 32, 32, 16)   64          Stg1_Blk2_Res2_conv[0][0]        \n",
            "__________________________________________________________________________________________________\n",
            "Stg1_Blk2_add (Add)             (None, 32, 32, 16)   0           Stg1_Blk1_relu[0][0]             \n",
            "                                                                 Stg1_Blk2_Res2_bn[0][0]          \n",
            "__________________________________________________________________________________________________\n",
            "Stg1_Blk2_relu (Activation)     (None, 32, 32, 16)   0           Stg1_Blk2_add[0][0]              \n",
            "__________________________________________________________________________________________________\n",
            "Stg1_Blk3_Res1_conv (Conv2D)    (None, 32, 32, 16)   2320        Stg1_Blk2_relu[0][0]             \n",
            "__________________________________________________________________________________________________\n",
            "Stg1_Blk3_Res1_bn (BatchNormali (None, 32, 32, 16)   64          Stg1_Blk3_Res1_conv[0][0]        \n",
            "__________________________________________________________________________________________________\n",
            "Stg1_Blk3_Res1_relu (Activation (None, 32, 32, 16)   0           Stg1_Blk3_Res1_bn[0][0]          \n",
            "__________________________________________________________________________________________________\n",
            "Stg1_Blk3_Res2_conv (Conv2D)    (None, 32, 32, 16)   2320        Stg1_Blk3_Res1_relu[0][0]        \n",
            "__________________________________________________________________________________________________\n",
            "Stg1_Blk3_Res2_bn (BatchNormali (None, 32, 32, 16)   64          Stg1_Blk3_Res2_conv[0][0]        \n",
            "__________________________________________________________________________________________________\n",
            "Stg1_Blk3_add (Add)             (None, 32, 32, 16)   0           Stg1_Blk2_relu[0][0]             \n",
            "                                                                 Stg1_Blk3_Res2_bn[0][0]          \n",
            "__________________________________________________________________________________________________\n",
            "Stg1_Blk3_relu (Activation)     (None, 32, 32, 16)   0           Stg1_Blk3_add[0][0]              \n",
            "__________________________________________________________________________________________________\n",
            "Stg2_Blk1_Res1_conv (Conv2D)    (None, 16, 16, 32)   4640        Stg1_Blk3_relu[0][0]             \n",
            "__________________________________________________________________________________________________\n",
            "Stg2_Blk1_Res1_bn (BatchNormali (None, 16, 16, 32)   128         Stg2_Blk1_Res1_conv[0][0]        \n",
            "__________________________________________________________________________________________________\n",
            "Stg2_Blk1_Res1_relu (Activation (None, 16, 16, 32)   0           Stg2_Blk1_Res1_bn[0][0]          \n",
            "__________________________________________________________________________________________________\n",
            "Stg2_Blk1_Res2_conv (Conv2D)    (None, 16, 16, 32)   9248        Stg2_Blk1_Res1_relu[0][0]        \n",
            "__________________________________________________________________________________________________\n",
            "Stg2_Blk1_lin_conv (Conv2D)     (None, 16, 16, 32)   544         Stg1_Blk3_relu[0][0]             \n",
            "__________________________________________________________________________________________________\n",
            "Stg2_Blk1_Res2_bn (BatchNormali (None, 16, 16, 32)   128         Stg2_Blk1_Res2_conv[0][0]        \n",
            "__________________________________________________________________________________________________\n",
            "Stg2_Blk1_add (Add)             (None, 16, 16, 32)   0           Stg2_Blk1_lin_conv[0][0]         \n",
            "                                                                 Stg2_Blk1_Res2_bn[0][0]          \n",
            "__________________________________________________________________________________________________\n",
            "Stg2_Blk1_relu (Activation)     (None, 16, 16, 32)   0           Stg2_Blk1_add[0][0]              \n",
            "__________________________________________________________________________________________________\n",
            "Stg2_Blk2_Res1_conv (Conv2D)    (None, 16, 16, 32)   9248        Stg2_Blk1_relu[0][0]             \n",
            "__________________________________________________________________________________________________\n",
            "Stg2_Blk2_Res1_bn (BatchNormali (None, 16, 16, 32)   128         Stg2_Blk2_Res1_conv[0][0]        \n",
            "__________________________________________________________________________________________________\n",
            "Stg2_Blk2_Res1_relu (Activation (None, 16, 16, 32)   0           Stg2_Blk2_Res1_bn[0][0]          \n",
            "__________________________________________________________________________________________________\n",
            "Stg2_Blk2_Res2_conv (Conv2D)    (None, 16, 16, 32)   9248        Stg2_Blk2_Res1_relu[0][0]        \n",
            "__________________________________________________________________________________________________\n",
            "Stg2_Blk2_Res2_bn (BatchNormali (None, 16, 16, 32)   128         Stg2_Blk2_Res2_conv[0][0]        \n",
            "__________________________________________________________________________________________________\n",
            "Stg2_Blk2_add (Add)             (None, 16, 16, 32)   0           Stg2_Blk1_relu[0][0]             \n",
            "                                                                 Stg2_Blk2_Res2_bn[0][0]          \n",
            "__________________________________________________________________________________________________\n",
            "Stg2_Blk2_relu (Activation)     (None, 16, 16, 32)   0           Stg2_Blk2_add[0][0]              \n",
            "__________________________________________________________________________________________________\n",
            "Stg2_Blk3_Res1_conv (Conv2D)    (None, 16, 16, 32)   9248        Stg2_Blk2_relu[0][0]             \n",
            "__________________________________________________________________________________________________\n",
            "Stg2_Blk3_Res1_bn (BatchNormali (None, 16, 16, 32)   128         Stg2_Blk3_Res1_conv[0][0]        \n",
            "__________________________________________________________________________________________________\n",
            "Stg2_Blk3_Res1_relu (Activation (None, 16, 16, 32)   0           Stg2_Blk3_Res1_bn[0][0]          \n",
            "__________________________________________________________________________________________________\n",
            "Stg2_Blk3_Res2_conv (Conv2D)    (None, 16, 16, 32)   9248        Stg2_Blk3_Res1_relu[0][0]        \n",
            "__________________________________________________________________________________________________\n",
            "Stg2_Blk3_Res2_bn (BatchNormali (None, 16, 16, 32)   128         Stg2_Blk3_Res2_conv[0][0]        \n",
            "__________________________________________________________________________________________________\n",
            "Stg2_Blk3_add (Add)             (None, 16, 16, 32)   0           Stg2_Blk2_relu[0][0]             \n",
            "                                                                 Stg2_Blk3_Res2_bn[0][0]          \n",
            "__________________________________________________________________________________________________\n",
            "Stg2_Blk3_relu (Activation)     (None, 16, 16, 32)   0           Stg2_Blk3_add[0][0]              \n",
            "__________________________________________________________________________________________________\n",
            "Stg3_Blk1_Res1_conv (Conv2D)    (None, 8, 8, 64)     18496       Stg2_Blk3_relu[0][0]             \n",
            "__________________________________________________________________________________________________\n",
            "Stg3_Blk1_Res1_bn (BatchNormali (None, 8, 8, 64)     256         Stg3_Blk1_Res1_conv[0][0]        \n",
            "__________________________________________________________________________________________________\n",
            "Stg3_Blk1_Res1_relu (Activation (None, 8, 8, 64)     0           Stg3_Blk1_Res1_bn[0][0]          \n",
            "__________________________________________________________________________________________________\n",
            "Stg3_Blk1_Res2_conv (Conv2D)    (None, 8, 8, 64)     36928       Stg3_Blk1_Res1_relu[0][0]        \n",
            "__________________________________________________________________________________________________\n",
            "Stg3_Blk1_lin_conv (Conv2D)     (None, 8, 8, 64)     2112        Stg2_Blk3_relu[0][0]             \n",
            "__________________________________________________________________________________________________\n",
            "Stg3_Blk1_Res2_bn (BatchNormali (None, 8, 8, 64)     256         Stg3_Blk1_Res2_conv[0][0]        \n",
            "__________________________________________________________________________________________________\n",
            "Stg3_Blk1_add (Add)             (None, 8, 8, 64)     0           Stg3_Blk1_lin_conv[0][0]         \n",
            "                                                                 Stg3_Blk1_Res2_bn[0][0]          \n",
            "__________________________________________________________________________________________________\n",
            "Stg3_Blk1_relu (Activation)     (None, 8, 8, 64)     0           Stg3_Blk1_add[0][0]              \n",
            "__________________________________________________________________________________________________\n",
            "Stg3_Blk2_Res1_conv (Conv2D)    (None, 8, 8, 64)     36928       Stg3_Blk1_relu[0][0]             \n",
            "__________________________________________________________________________________________________\n",
            "Stg3_Blk2_Res1_bn (BatchNormali (None, 8, 8, 64)     256         Stg3_Blk2_Res1_conv[0][0]        \n",
            "__________________________________________________________________________________________________\n",
            "Stg3_Blk2_Res1_relu (Activation (None, 8, 8, 64)     0           Stg3_Blk2_Res1_bn[0][0]          \n",
            "__________________________________________________________________________________________________\n",
            "Stg3_Blk2_Res2_conv (Conv2D)    (None, 8, 8, 64)     36928       Stg3_Blk2_Res1_relu[0][0]        \n",
            "__________________________________________________________________________________________________\n",
            "Stg3_Blk2_Res2_bn (BatchNormali (None, 8, 8, 64)     256         Stg3_Blk2_Res2_conv[0][0]        \n",
            "__________________________________________________________________________________________________\n",
            "Stg3_Blk2_add (Add)             (None, 8, 8, 64)     0           Stg3_Blk1_relu[0][0]             \n",
            "                                                                 Stg3_Blk2_Res2_bn[0][0]          \n",
            "__________________________________________________________________________________________________\n",
            "Stg3_Blk2_relu (Activation)     (None, 8, 8, 64)     0           Stg3_Blk2_add[0][0]              \n",
            "__________________________________________________________________________________________________\n",
            "Stg3_Blk3_Res1_conv (Conv2D)    (None, 8, 8, 64)     36928       Stg3_Blk2_relu[0][0]             \n",
            "__________________________________________________________________________________________________\n",
            "Stg3_Blk3_Res1_bn (BatchNormali (None, 8, 8, 64)     256         Stg3_Blk3_Res1_conv[0][0]        \n",
            "__________________________________________________________________________________________________\n",
            "Stg3_Blk3_Res1_relu (Activation (None, 8, 8, 64)     0           Stg3_Blk3_Res1_bn[0][0]          \n",
            "__________________________________________________________________________________________________\n",
            "Stg3_Blk3_Res2_conv (Conv2D)    (None, 8, 8, 64)     36928       Stg3_Blk3_Res1_relu[0][0]        \n",
            "__________________________________________________________________________________________________\n",
            "Stg3_Blk3_Res2_bn (BatchNormali (None, 8, 8, 64)     256         Stg3_Blk3_Res2_conv[0][0]        \n",
            "__________________________________________________________________________________________________\n",
            "Stg3_Blk3_add (Add)             (None, 8, 8, 64)     0           Stg3_Blk2_relu[0][0]             \n",
            "                                                                 Stg3_Blk3_Res2_bn[0][0]          \n",
            "__________________________________________________________________________________________________\n",
            "Stg3_Blk3_relu (Activation)     (None, 8, 8, 64)     0           Stg3_Blk3_add[0][0]              \n",
            "__________________________________________________________________________________________________\n",
            "AvgPool (AveragePooling2D)      (None, 1, 1, 64)     0           Stg3_Blk3_relu[0][0]             \n",
            "__________________________________________________________________________________________________\n",
            "flatten (Flatten)               (None, 64)           0           AvgPool[0][0]                    \n",
            "__________________________________________________________________________________________________\n",
            "dense (Dense)                   (None, 10)           650         flatten[0][0]                    \n",
            "==================================================================================================\n",
            "Total params: 274,442\n",
            "Trainable params: 273,066\n",
            "Non-trainable params: 1,376\n",
            "__________________________________________________________________________________________________\n"
          ],
          "name": "stdout"
        }
      ]
    },
    {
      "cell_type": "markdown",
      "metadata": {
        "id": "DlquJEaFZxV9",
        "colab_type": "text"
      },
      "source": [
        "## **7. Create the callbacks to be applied during training**\n",
        "---\n",
        "* Step 1: Create a callback to save the model from an epoch when validation accuracy is the highest\n",
        "* Step 2: Create a callback to save the training loss, training accuracy, validation loss and validation accuracy of each epoch into a csv file\n",
        "* Step 3: Put the two callback objects into a list"
      ]
    },
    {
      "cell_type": "code",
      "metadata": {
        "id": "9-a1LSCbahKy",
        "colab_type": "code",
        "colab": {
          "base_uri": "https://localhost:8080/",
          "height": 134
        },
        "outputId": "c3d7880f-13fc-4da9-85a7-b6933c6c9d53"
      },
      "source": [
        "                                                                                # Step 1\n",
        "def lrSchedule(epoch):\n",
        "    lr  = 1e-3\n",
        "    \n",
        "    if epoch > 160:\n",
        "        lr  *= 0.5e-3        \n",
        "    elif epoch > 140:\n",
        "        lr  *= 1e-3       \n",
        "    elif epoch > 120:\n",
        "        lr  *= 1e-2     \n",
        "    elif epoch > 80:\n",
        "        lr  *= 1e-1\n",
        "        \n",
        "    print('Learning rate: ', lr)\n",
        "    return lr\n",
        "\n",
        "LRScheduler     = LearningRateScheduler(lrSchedule)\n",
        "\n",
        "                                                                                # Step 2\n",
        "folderpath      = '/content/gdrive/My Drive/iss/prmls/colab/'\n",
        "filepath        = folderpath + modelname + \".hdf5\"\n",
        "checkpoint      = ModelCheckpoint(filepath, \n",
        "                                  monitor='val_accuracy', \n",
        "                                  verbose=0, \n",
        "                                  save_best_only=True, \n",
        "                                  mode='max')\n",
        "\n",
        "csv_logger      = CSVLogger(folderpath+modelname +'.csv')                       # Step 2\n",
        "callbacks_list  = [checkpoint,csv_logger,LRScheduler]                           # Step 3\n",
        "\n",
        "print(\"Callbacks created:\")\n",
        "print(callbacks_list[0])\n",
        "print(callbacks_list[1])\n",
        "print(callbacks_list[2])\n",
        "print('')\n",
        "print(\"Path to model:\", filepath)\n",
        "print(\"Path to log:  \", folderpath+modelname+'.csv')"
      ],
      "execution_count": 7,
      "outputs": [
        {
          "output_type": "stream",
          "text": [
            "Callbacks created:\n",
            "<tensorflow.python.keras.callbacks.ModelCheckpoint object at 0x7f9832e382b0>\n",
            "<tensorflow.python.keras.callbacks.CSVLogger object at 0x7f9832e382e8>\n",
            "<tensorflow.python.keras.callbacks.LearningRateScheduler object at 0x7f9832e38240>\n",
            "\n",
            "Path to model: /content/gdrive/My Drive/iss/prmls/colab/cifar10ResV1Cfg5.hdf5\n",
            "Path to log:   /content/gdrive/My Drive/iss/prmls/colab/cifar10ResV1Cfg5.csv\n"
          ],
          "name": "stdout"
        }
      ]
    },
    {
      "cell_type": "markdown",
      "metadata": {
        "id": "1mKgjQsmfOBz",
        "colab_type": "text"
      },
      "source": [
        "## **8. Train the deep learning model with image augmentation (to be completed)**\n",
        "___\n",
        "* Step 1: Create the image data generator (for image augmentation)\n",
        "* Step 2: Train the model with generator"
      ]
    },
    {
      "cell_type": "code",
      "metadata": {
        "id": "23lUNwpGfV0A",
        "colab_type": "code",
        "colab": {
          "base_uri": "https://localhost:8080/",
          "height": 356
        },
        "outputId": "494a0c0f-74c6-4c05-a3a0-1268887ea7f1"
      },
      "source": [
        "                                                                                # Step 1\n",
        "from tensorflow.keras.preprocessing.image import ImageDataGenerator\n",
        "\n",
        "datagen = ImageDataGenerator(width_shift_range=0.1, height_shift_range=0.1, \n",
        "                             rotation_range=20, horizontal_flip=True, \n",
        "                             vertical_flip=False)\n",
        "                                                                                # Step 2\n",
        "model.fit_generator(datagen.flow(trDat, trLbl, batch_size=128), \n",
        "                    validation_data=(tsDat, tsLbl), epochs=5, \n",
        "                    verbose=1, \n",
        "                    steps_per_epoch=len(trDat)/128, callbacks=callbacks_list)\n"
      ],
      "execution_count": 8,
      "outputs": [
        {
          "output_type": "stream",
          "text": [
            "WARNING:tensorflow:From <ipython-input-8-ac2011716bfc>:11: Model.fit_generator (from tensorflow.python.keras.engine.training) is deprecated and will be removed in a future version.\n",
            "Instructions for updating:\n",
            "Please use Model.fit, which supports generators.\n",
            "Learning rate:  0.001\n",
            "Epoch 1/5\n",
            "391/390 [==============================] - 43s 111ms/step - loss: 1.6534 - accuracy: 0.4508 - val_loss: 1.9017 - val_accuracy: 0.4452\n",
            "Learning rate:  0.001\n",
            "Epoch 2/5\n",
            "391/390 [==============================] - 43s 110ms/step - loss: 1.3125 - accuracy: 0.5829 - val_loss: 1.6630 - val_accuracy: 0.5443\n",
            "Learning rate:  0.001\n",
            "Epoch 3/5\n",
            "391/390 [==============================] - 43s 109ms/step - loss: 1.1595 - accuracy: 0.6401 - val_loss: 1.2930 - val_accuracy: 0.6073\n",
            "Learning rate:  0.001\n",
            "Epoch 4/5\n",
            "391/390 [==============================] - 42s 107ms/step - loss: 1.0581 - accuracy: 0.6766 - val_loss: 1.4315 - val_accuracy: 0.5817\n",
            "Learning rate:  0.001\n",
            "Epoch 5/5\n",
            "391/390 [==============================] - 42s 108ms/step - loss: 0.9762 - accuracy: 0.7065 - val_loss: 1.5833 - val_accuracy: 0.5750\n"
          ],
          "name": "stdout"
        },
        {
          "output_type": "execute_result",
          "data": {
            "text/plain": [
              "<tensorflow.python.keras.callbacks.History at 0x7f98647e9358>"
            ]
          },
          "metadata": {
            "tags": []
          },
          "execution_count": 8
        }
      ]
    },
    {
      "cell_type": "markdown",
      "metadata": {
        "id": "TevfJTd-s0nk",
        "colab_type": "text"
      },
      "source": [
        "## **9. Validate the deep learning model**\n",
        "---\n",
        "* Step 1: Load the trained weights and compile the model\n",
        "* Step 2: Make prediction\n"
      ]
    },
    {
      "cell_type": "code",
      "metadata": {
        "id": "2sVtWmcVtiV5",
        "colab_type": "code",
        "colab": {
          "base_uri": "https://localhost:8080/",
          "height": 34
        },
        "outputId": "59ab4db3-4036-44be-f245-a6b8a975f654"
      },
      "source": [
        "                                                                                # Step 1\n",
        "modelGo.load_weights(filepath)\n",
        "modelGo.compile(loss='categorical_crossentropy', \n",
        "                optimizer=optmz, \n",
        "                metrics=['accuracy'])\n",
        "\n",
        "predicts    = modelGo.predict(tsDat)                                            # Step 2\n",
        "print(\"Prediction completes.\")"
      ],
      "execution_count": 9,
      "outputs": [
        {
          "output_type": "stream",
          "text": [
            "Prediction completes.\n"
          ],
          "name": "stdout"
        }
      ]
    },
    {
      "cell_type": "markdown",
      "metadata": {
        "id": "0aOCUljp5qq4",
        "colab_type": "text"
      },
      "source": [
        "## **10. Report classification metrics**\n",
        "---\n",
        "* Step 1: Setup the label\n",
        "* Step 2: Convert label from one-hot to integer\n",
        "* Step 3: Calculate the accuracy score\n",
        "* Step 4: Generate classification report"
      ]
    },
    {
      "cell_type": "code",
      "metadata": {
        "id": "2tI4hBmk5uRh",
        "colab_type": "code",
        "colab": {
          "base_uri": "https://localhost:8080/",
          "height": 319
        },
        "outputId": "e89ae0da-1953-485f-c682-bcf882809aed"
      },
      "source": [
        "                                                                                # Step 1\n",
        "labelname   = ['airplane',          # The label for reporting metrics\n",
        "               'automobile',\n",
        "               'bird',\n",
        "               'cat',\n",
        "               'deer',\n",
        "               'dog',\n",
        "               'frog',\n",
        "               'horse',\n",
        "               'ship',\n",
        "               'truck']\n",
        "                                                                                # Step 2\n",
        "predout     = np.argmax(predicts,axis=1)\n",
        "testout     = np.argmax(tsLbl,axis=1)\n",
        "\n",
        "testScores  = metrics.accuracy_score(testout,predout)                           # Step 3\n",
        "\n",
        "                                                                                # Step 4\n",
        "print(\"Best accuracy (on testing dataset): %.2f%%\" % (testScores*100))\n",
        "print(metrics.classification_report(testout,\n",
        "                                    predout,\n",
        "                                    target_names=labelname,\n",
        "                                    digits=4))"
      ],
      "execution_count": 10,
      "outputs": [
        {
          "output_type": "stream",
          "text": [
            "Best accuracy (on testing dataset): 60.73%\n",
            "              precision    recall  f1-score   support\n",
            "\n",
            "    airplane     0.7121    0.5490    0.6200      1000\n",
            "  automobile     0.8179    0.8040    0.8109      1000\n",
            "        bird     0.7220    0.3090    0.4328      1000\n",
            "         cat     0.3850    0.5940    0.4672      1000\n",
            "        deer     0.7755    0.2970    0.4295      1000\n",
            "         dog     0.7639    0.3170    0.4481      1000\n",
            "        frog     0.4202    0.9210    0.5771      1000\n",
            "       horse     0.7578    0.6760    0.7146      1000\n",
            "        ship     0.5902    0.9000    0.7129      1000\n",
            "       truck     0.8134    0.7060    0.7559      1000\n",
            "\n",
            "    accuracy                         0.6073     10000\n",
            "   macro avg     0.6758    0.6073    0.5969     10000\n",
            "weighted avg     0.6758    0.6073    0.5969     10000\n",
            "\n"
          ],
          "name": "stdout"
        }
      ]
    },
    {
      "cell_type": "markdown",
      "metadata": {
        "id": "gEK_4UXN6IVa",
        "colab_type": "text"
      },
      "source": [
        "## **11. Print confusion matrix**\n",
        "---"
      ]
    },
    {
      "cell_type": "code",
      "metadata": {
        "id": "UCBJCYp26L1t",
        "colab_type": "code",
        "colab": {
          "base_uri": "https://localhost:8080/",
          "height": 185
        },
        "outputId": "f21ed891-3bd9-4d77-d7fb-7bedbb84c3a9"
      },
      "source": [
        "confusion   = metrics.confusion_matrix(testout,predout)\n",
        "print(confusion)"
      ],
      "execution_count": 11,
      "outputs": [
        {
          "output_type": "stream",
          "text": [
            "[[549  22  40  32   1   1  38  14 272  31]\n",
            " [ 24 804   0   8   0   0  22   1 102  39]\n",
            " [ 87  11 309 164  37  22 296  24  38  12]\n",
            " [ 13  17  21 594   9  47 232  12  41  14]\n",
            " [ 18   6  24 123 297   8 377 118  24   5]\n",
            " [  3   9  18 416  13 317 151  38  26   9]\n",
            " [  3   4   8  49   0   0 921   2  12   1]\n",
            " [ 16   3   7 110  22  19  93 676  22  32]\n",
            " [ 26  15   1  18   4   1  16   0 900  19]\n",
            " [ 32  92   0  29   0   0  46   7  88 706]]\n"
          ],
          "name": "stdout"
        }
      ]
    },
    {
      "cell_type": "markdown",
      "metadata": {
        "id": "2QMIDPD46UGT",
        "colab_type": "text"
      },
      "source": [
        "## **12. Plot curves on validation loss and accuracy**\n",
        "---"
      ]
    },
    {
      "cell_type": "code",
      "metadata": {
        "id": "qr2ZbvUi6YHf",
        "colab_type": "code",
        "colab": {
          "base_uri": "https://localhost:8080/",
          "height": 443
        },
        "outputId": "4fefa5c2-5a3a-4997-e602-58c8bf4b888f"
      },
      "source": [
        "records     = pd.read_csv(folderpath+modelname +'.csv')\n",
        "plt.figure()\n",
        "plt.subplot(211)\n",
        "plt.plot(records['val_loss'], label=\"validation\")\n",
        "plt.plot(records['loss'],label=\"training\")\n",
        "plt.yticks([0.00,0.50,1.00,1.50])\n",
        "plt.title('Loss value',fontsize=12)\n",
        "\n",
        "ax          = plt.gca()\n",
        "ax.set_xticklabels([])\n",
        "\n",
        "plt.subplot(212)\n",
        "plt.plot(records['val_accuracy'],label=\"validation\")\n",
        "plt.plot(records['accuracy'],label=\"training\")\n",
        "plt.yticks([0.5,0.6,0.7,0.8])\n",
        "plt.title('Accuracy',fontsize=12)\n",
        "ax.legend()\n",
        "plt.show()"
      ],
      "execution_count": 12,
      "outputs": [
        {
          "output_type": "display_data",
          "data": {
            "image/png": "[encoded data removed]",
            "text/plain": [
              "<Figure size 504x504 with 2 Axes>"
            ]
          },
          "metadata": {
            "tags": []
          }
        }
      ]
    },
    {
      "cell_type": "markdown",
      "metadata": {
        "id": "PWoTz-bLug3X",
        "colab_type": "text"
      },
      "source": [
        "## **13. Save the model plot**\n",
        "---"
      ]
    },
    {
      "cell_type": "code",
      "metadata": {
        "id": "Tz1YfuV1ujcE",
        "colab_type": "code",
        "colab": {
          "base_uri": "https://localhost:8080/",
          "height": 34
        },
        "outputId": "366f5113-afbd-4d30-ca8c-d4545ffa26cd"
      },
      "source": [
        "plotpath  = folderpath+modelname+'_plot.png'\n",
        "plot_model(model, \n",
        "           to_file=plotpath, \n",
        "           show_shapes=True, \n",
        "           show_layer_names=False,\n",
        "           rankdir='TB')\n",
        "\n",
        "print(\"Path to plot:\", plotpath)"
      ],
      "execution_count": 13,
      "outputs": [
        {
          "output_type": "stream",
          "text": [
            "Path to plot: /content/gdrive/My Drive/iss/prmls/colab/cifar10ResV1Cfg5_plot.png\n"
          ],
          "name": "stdout"
        }
      ]
    },
    {
      "cell_type": "code",
      "metadata": {
        "id": "Np980_WM--yd",
        "colab_type": "code",
        "colab": {}
      },
      "source": [
        ""
      ],
      "execution_count": null,
      "outputs": []
    }
  ]
}