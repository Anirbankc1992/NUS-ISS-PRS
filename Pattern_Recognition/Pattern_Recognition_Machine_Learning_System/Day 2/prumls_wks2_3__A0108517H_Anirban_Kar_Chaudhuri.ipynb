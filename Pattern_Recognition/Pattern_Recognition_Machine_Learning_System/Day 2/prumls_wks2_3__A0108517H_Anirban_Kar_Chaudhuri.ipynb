{
  "nbformat": 4,
  "nbformat_minor": 0,
  "metadata": {
    "colab": {
      "name": "prumls_wks2_3_ A0213550U_Francis Low Kok Ann.ipynb",
      "provenance": [],
      "collapsed_sections": [],
      "toc_visible": true
    },
    "kernelspec": {
      "name": "python3",
      "display_name": "Python 3"
    },
    "accelerator": "GPU"
  },
  "cells": [
    {
      "cell_type": "markdown",
      "metadata": {
        "id": "CRNVzhoo1clG",
        "colab_type": "text"
      },
      "source": [
        "## **1. Mount google drive**\n",
        "---"
      ]
    },
    {
      "cell_type": "code",
      "metadata": {
        "id": "5W39GXyk1hME",
        "colab_type": "code",
        "colab": {
          "base_uri": "https://localhost:8080/",
          "height": 127
        },
        "outputId": "850773ae-e097-42f7-fb73-72ed254f2a8f"
      },
      "source": [
        "from google.colab import drive\n",
        "drive.mount('/content/gdrive')"
      ],
      "execution_count": 1,
      "outputs": [
        {
          "output_type": "stream",
          "text": [
            "Go to this URL in a browser: https://accounts.google.com/o/oauth2/auth?client_id=947318989803-6bn6qk8qdgf4n4g3pfee6491hc0brc4i.apps.googleusercontent.com&redirect_uri=urn%3aietf%3awg%3aoauth%3a2.0%3aoob&scope=email%20https%3a%2f%2fwww.googleapis.com%2fauth%2fdocs.test%20https%3a%2f%2fwww.googleapis.com%2fauth%2fdrive%20https%3a%2f%2fwww.googleapis.com%2fauth%2fdrive.photos.readonly%20https%3a%2f%2fwww.googleapis.com%2fauth%2fpeopleapi.readonly&response_type=code\n",
            "\n",
            "Enter your authorization code:\n",
            "··········\n",
            "Mounted at /content/gdrive\n"
          ],
          "name": "stdout"
        }
      ]
    },
    {
      "cell_type": "markdown",
      "metadata": {
        "id": "dOQ-2xS_MYHi",
        "colab_type": "text"
      },
      "source": [
        "## **2. Import the necessary libraries**\n",
        "---"
      ]
    },
    {
      "cell_type": "code",
      "metadata": {
        "id": "yoi4gWDELtek",
        "colab_type": "code",
        "colab": {
          "base_uri": "https://localhost:8080/",
          "height": 125
        },
        "outputId": "fef2f25a-07fc-4234-e1ce-ef20babd36bb"
      },
      "source": [
        "import matplotlib\n",
        "import sklearn\n",
        "import numpy as np\n",
        "import pandas as pd\n",
        "import sklearn.metrics as metrics\n",
        "import matplotlib.pyplot as plt\n",
        "import tensorflow as tf\n",
        "\n",
        "\n",
        "from tensorflow.keras.callbacks import ModelCheckpoint,CSVLogger\n",
        "from tensorflow.keras.models import Sequential\n",
        "from tensorflow.keras.layers import Dense\n",
        "from tensorflow.keras.layers import Dropout\n",
        "from tensorflow.keras.layers import Flatten\n",
        "from tensorflow.keras.layers import Conv2D\n",
        "from tensorflow.keras.layers import MaxPooling2D\n",
        "from tensorflow.keras.utils import to_categorical\n",
        "from tensorflow.keras.utils import plot_model\n",
        "from tensorflow.keras.datasets import cifar10\n",
        "from tensorflow.keras import optimizers\n",
        "\n",
        "print(\"Versions of key libraries\")\n",
        "print(\"---\")\n",
        "print(\"tensorflow: \", tf.__version__)\n",
        "print(\"numpy:      \", np.__version__)\n",
        "print(\"matplotlib: \", matplotlib.__version__)\n",
        "print(\"sklearn:    \", sklearn.__version__)"
      ],
      "execution_count": 2,
      "outputs": [
        {
          "output_type": "stream",
          "text": [
            "Versions of key libraries\n",
            "---\n",
            "tensorflow:  2.3.0\n",
            "numpy:       1.18.5\n",
            "matplotlib:  3.2.2\n",
            "sklearn:     0.22.2.post1\n"
          ],
          "name": "stdout"
        }
      ]
    },
    {
      "cell_type": "markdown",
      "metadata": {
        "id": "0amhwjZ4M2m-",
        "colab_type": "text"
      },
      "source": [
        "## **3.Create a function to plot image without axis**\n",
        "---"
      ]
    },
    {
      "cell_type": "code",
      "metadata": {
        "id": "OFxsBB1mNXl2",
        "colab_type": "code",
        "colab": {
          "base_uri": "https://localhost:8080/",
          "height": 35
        },
        "outputId": "fcb13319-1a36-4839-be4d-a1074fa320fe"
      },
      "source": [
        "def implt(img):\n",
        "    plt.figure()\n",
        "    plt.imshow(img)\n",
        "    plt.axis('off')\n",
        "\n",
        "print(implt)"
      ],
      "execution_count": 3,
      "outputs": [
        {
          "output_type": "stream",
          "text": [
            "<function implt at 0x7f0cfc172bf8>\n"
          ],
          "name": "stdout"
        }
      ]
    },
    {
      "cell_type": "markdown",
      "metadata": {
        "id": "X3N41iixORPz",
        "colab_type": "text"
      },
      "source": [
        "## **4. Set matplotlib to have seaborn plot style**\n",
        "---"
      ]
    },
    {
      "cell_type": "code",
      "metadata": {
        "id": "OyO5OsUrOYNQ",
        "colab_type": "code",
        "colab": {
          "base_uri": "https://localhost:8080/",
          "height": 35
        },
        "outputId": "5909f2e1-9c46-4435-f749-a0e4981ec164"
      },
      "source": [
        "plt.style.use('seaborn')                   # if want to use the default style, set 'classic'\n",
        "plt.rcParams['ytick.right']     = True\n",
        "plt.rcParams['ytick.labelright']= True\n",
        "plt.rcParams['ytick.left']      = False\n",
        "plt.rcParams['ytick.labelleft'] = False\n",
        "plt.rcParams['figure.figsize']  = [7,7]   # Set the figure size to be 7 inch for (width,height)\n",
        "\n",
        "print(\"Matplotlib setup completes.\")"
      ],
      "execution_count": 4,
      "outputs": [
        {
          "output_type": "stream",
          "text": [
            "Matplotlib setup completes.\n"
          ],
          "name": "stdout"
        }
      ]
    },
    {
      "cell_type": "markdown",
      "metadata": {
        "id": "5w2jAiKZOmgP",
        "colab_type": "text"
      },
      "source": [
        "## **5. Prepare Cifar10 data for training and testing**\n",
        "---\n",
        "* Step 1: Load the cifar10 \n",
        "* Step 2: Check the shape and type of the data\n",
        "* Step 3: Convert the data into float32 and rescale the values from the range of 0\\~255 into 0\\~1\n",
        "* Step 4: Retrieve the row size and the column size of each image\n",
        "* Step 5: Perform one-hot enconding on the labels\n",
        "* Step 6: Retrieve the number of classes in this problem"
      ]
    },
    {
      "cell_type": "code",
      "metadata": {
        "id": "v3Ad2V0pO1TX",
        "colab_type": "code",
        "colab": {
          "base_uri": "https://localhost:8080/",
          "height": 143
        },
        "outputId": "5563a037-4824-4e12-f557-6a22921aa091"
      },
      "source": [
        "                                                                                # Step 1\n",
        "data            = cifar10.load_data()\n",
        "(trDat, trLbl)  = data[0]\n",
        "(tsDat, tsLbl)  = data[1]\n",
        "\n",
        "                                                                                # Step 2\n",
        "print(\"The shape of trDat is\", trDat.shape, \"and the type of trDat is\", trDat.dtype)\n",
        "print(\"The shape of tsDat is\", tsDat.shape, \"and the type of tsDat is\", tsDat.dtype)\n",
        "print(\"\")\n",
        "print(\"The shape of trLbl is\", trLbl.shape, \"and the type of trLbl is\", trLbl.dtype)\n",
        "print(\"The shape of tsLbl is\", tsLbl.shape, \"and the type of tsLbl is\", tsLbl.dtype)\n",
        "\n",
        "                                                                                # Step 3\n",
        "trDat           = trDat.astype('float32')/255\n",
        "tsDat           = tsDat.astype('float32')/255\n",
        "\n",
        "                                                                                # Step 4\n",
        "imgrows         = trDat.shape[1]\n",
        "imgclms         = trDat.shape[2]\n",
        "channel         = trDat.shape[3]\n",
        "\n",
        "                                                                                # Step 5\n",
        "trLbl           = to_categorical(trLbl)\n",
        "tsLbl           = to_categorical(tsLbl)\n",
        "                               \n",
        "num_classes     = tsLbl.shape[1]                                                # Step 6"
      ],
      "execution_count": 5,
      "outputs": [
        {
          "output_type": "stream",
          "text": [
            "Downloading data from https://www.cs.toronto.edu/~kriz/cifar-10-python.tar.gz\n",
            "170500096/170498071 [==============================] - 11s 0us/step\n",
            "The shape of trDat is (50000, 32, 32, 3) and the type of trDat is uint8\n",
            "The shape of tsDat is (10000, 32, 32, 3) and the type of tsDat is uint8\n",
            "\n",
            "The shape of trLbl is (50000, 1) and the type of trLbl is uint8\n",
            "The shape of tsLbl is (10000, 1) and the type of tsLbl is uint8\n"
          ],
          "name": "stdout"
        }
      ]
    },
    {
      "cell_type": "markdown",
      "metadata": {
        "id": "DoP3WcoJW-jZ",
        "colab_type": "text"
      },
      "source": [
        "## **6. Define deep learning model (to be completed)**\n",
        "___\n",
        "* Step 1: Setup the optimizer to be used for training\n",
        "* Step 2: Set a name for the coming model (required for saving)\n",
        "* Step 3: Define the convolutional neural network model (to be completed)\n",
        "* Step 4: Create models for training and testing\n",
        "* Step 5: Display the summary of the model of interest "
      ]
    },
    {
      "cell_type": "code",
      "metadata": {
        "id": "0HMOes0kXCPd",
        "colab_type": "code",
        "colab": {
          "base_uri": "https://localhost:8080/",
          "height": 413
        },
        "outputId": "e7d0f5b7-2ccc-4492-e6e1-94b94dde427e"
      },
      "source": [
        "optmz       = optimizers.RMSprop(lr=0.0001)                                     # Step 1\n",
        "modelname   = 'wks2_3'                                                          # Step 2\n",
        "\n",
        "                                                                                # Step 3\n",
        "def createModel():\n",
        "    model = Sequential()\n",
        "    model.add(Conv2D(64, (3, 3), input_shape=(imgrows, imgclms, channel), strides=(1, 1), activation=\"relu\", padding=\"same\"))\n",
        "    # model.add(MaxPooling2D(pool_size=(2, 2)))\n",
        "    # model.add(Conv2D(64, (3, 3), strides=(1, 1), activation=\"relu\", padding=\"same\"))\n",
        "    model.add(MaxPooling2D(pool_size=(2, 2)))\n",
        "    model.add(Conv2D(128, (3, 3), strides=(1, 1), activation=\"relu\", padding=\"same\"))\n",
        "    model.add(MaxPooling2D(pool_size=(2, 2)))\n",
        "    model.add(Flatten())\n",
        "    model.add(Dense(256, activation=\"relu\"))\n",
        "    model.add(Dense(num_classes, activation=\"softmax\"))\n",
        "    model.compile(loss=\"categorical_crossentropy\", optimizer=optmz, metrics=[\"accuracy\"])\n",
        "    return model\n",
        "\n",
        "                                                                                # Step 4\n",
        "model       = createModel()   # This is meant for training\n",
        "modelGo     = createModel()   # This is used for final testing\n",
        "\n",
        "model.summary()                                                                 # Step 5"
      ],
      "execution_count": 103,
      "outputs": [
        {
          "output_type": "stream",
          "text": [
            "Model: \"sequential_84\"\n",
            "_________________________________________________________________\n",
            "Layer (type)                 Output Shape              Param #   \n",
            "=================================================================\n",
            "conv2d_242 (Conv2D)          (None, 32, 32, 64)        1792      \n",
            "_________________________________________________________________\n",
            "max_pooling2d_206 (MaxPoolin (None, 16, 16, 64)        0         \n",
            "_________________________________________________________________\n",
            "conv2d_243 (Conv2D)          (None, 16, 16, 128)       73856     \n",
            "_________________________________________________________________\n",
            "max_pooling2d_207 (MaxPoolin (None, 8, 8, 128)         0         \n",
            "_________________________________________________________________\n",
            "flatten_74 (Flatten)         (None, 8192)              0         \n",
            "_________________________________________________________________\n",
            "dense_140 (Dense)            (None, 256)               2097408   \n",
            "_________________________________________________________________\n",
            "dense_141 (Dense)            (None, 10)                2570      \n",
            "=================================================================\n",
            "Total params: 2,175,626\n",
            "Trainable params: 2,175,626\n",
            "Non-trainable params: 0\n",
            "_________________________________________________________________\n"
          ],
          "name": "stdout"
        }
      ]
    },
    {
      "cell_type": "markdown",
      "metadata": {
        "id": "DlquJEaFZxV9",
        "colab_type": "text"
      },
      "source": [
        "## **7. Create the callbacks to be applied during training**\n",
        "---\n",
        "* Step 1: Create a callback to save the model from an epoch when validation accuracy is the highest\n",
        "* Step 2: Create a callback to save the training loss, training accuracy, validation loss and validation accuracy of each epoch into a csv file\n",
        "* Step 3: Put the two callbacks objects into a list"
      ]
    },
    {
      "cell_type": "code",
      "metadata": {
        "id": "9-a1LSCbahKy",
        "colab_type": "code",
        "colab": {
          "base_uri": "https://localhost:8080/",
          "height": 125
        },
        "outputId": "71d3e5cf-5406-412c-d6c3-1be1deb10dc2"
      },
      "source": [
        "                                                                                # Step 1\n",
        "folderpath      = '/content/gdrive/My Drive/Mtech/PRUML/day2/colab/'\n",
        "filepath        = folderpath + modelname + \".hdf5\"\n",
        "checkpoint      = ModelCheckpoint(filepath, \n",
        "                                  monitor='val_accuracy', \n",
        "                                  verbose=0, \n",
        "                                  save_best_only=True, \n",
        "                                  mode='max')\n",
        "\n",
        "csv_logger      = CSVLogger(folderpath+modelname +'.csv')                       # Step 2\n",
        "callbacks_list  = [checkpoint,csv_logger]                                       # Step 3\n",
        "\n",
        "print(\"Callbacks created:\")\n",
        "print(callbacks_list[0])\n",
        "print(callbacks_list[1])\n",
        "print('')\n",
        "print(\"Path to model:\", filepath)\n",
        "print(\"Path to log:  \", folderpath+modelname+'.csv')"
      ],
      "execution_count": 104,
      "outputs": [
        {
          "output_type": "stream",
          "text": [
            "Callbacks created:\n",
            "<tensorflow.python.keras.callbacks.ModelCheckpoint object at 0x7f0c9bf16048>\n",
            "<tensorflow.python.keras.callbacks.CSVLogger object at 0x7f0c9bf16278>\n",
            "\n",
            "Path to model: /content/gdrive/My Drive/Mtech/PRUML/day2/colab/wks2_3.hdf5\n",
            "Path to log:   /content/gdrive/My Drive/Mtech/PRUML/day2/colab/wks2_3.csv\n"
          ],
          "name": "stdout"
        }
      ]
    },
    {
      "cell_type": "markdown",
      "metadata": {
        "id": "1mKgjQsmfOBz",
        "colab_type": "text"
      },
      "source": [
        "## **8. Train the deep learning model**\n",
        "___"
      ]
    },
    {
      "cell_type": "code",
      "metadata": {
        "id": "23lUNwpGfV0A",
        "colab_type": "code",
        "colab": {
          "base_uri": "https://localhost:8080/",
          "height": 1000
        },
        "outputId": "08d337d2-acd6-42d7-9501-48959439cba1"
      },
      "source": [
        "model.fit(trDat,                            # Training data\n",
        "          trLbl,                            # Training label\n",
        "          validation_data=(tsDat, tsLbl),   # Validation data and label\n",
        "          epochs=100,                       # The amount of epochs to be trained\n",
        "          batch_size=128,                   \n",
        "          shuffle=True,                     # To shuffle the training data\n",
        "          callbacks=callbacks_list)         # Callbacks to execute the checkpoints"
      ],
      "execution_count": 105,
      "outputs": [
        {
          "output_type": "stream",
          "text": [
            "Epoch 1/100\n",
            "391/391 [==============================] - 8s 20ms/step - loss: 1.7763 - accuracy: 0.3731 - val_loss: 1.5456 - val_accuracy: 0.4548\n",
            "Epoch 2/100\n",
            "391/391 [==============================] - 8s 20ms/step - loss: 1.4807 - accuracy: 0.4805 - val_loss: 1.3773 - val_accuracy: 0.5167\n",
            "Epoch 3/100\n",
            "391/391 [==============================] - 7s 19ms/step - loss: 1.3458 - accuracy: 0.5297 - val_loss: 1.3161 - val_accuracy: 0.5362\n",
            "Epoch 4/100\n",
            "391/391 [==============================] - 7s 19ms/step - loss: 1.2513 - accuracy: 0.5629 - val_loss: 1.2528 - val_accuracy: 0.5630\n",
            "Epoch 5/100\n",
            "391/391 [==============================] - 8s 20ms/step - loss: 1.1800 - accuracy: 0.5879 - val_loss: 1.2096 - val_accuracy: 0.5719\n",
            "Epoch 6/100\n",
            "391/391 [==============================] - 8s 20ms/step - loss: 1.1229 - accuracy: 0.6093 - val_loss: 1.1223 - val_accuracy: 0.6045\n",
            "Epoch 7/100\n",
            "391/391 [==============================] - 7s 19ms/step - loss: 1.0747 - accuracy: 0.6267 - val_loss: 1.1031 - val_accuracy: 0.6119\n",
            "Epoch 8/100\n",
            "391/391 [==============================] - 7s 19ms/step - loss: 1.0342 - accuracy: 0.6401 - val_loss: 1.1067 - val_accuracy: 0.6037\n",
            "Epoch 9/100\n",
            "391/391 [==============================] - 8s 20ms/step - loss: 0.9985 - accuracy: 0.6545 - val_loss: 1.0681 - val_accuracy: 0.6142\n",
            "Epoch 10/100\n",
            "391/391 [==============================] - 8s 20ms/step - loss: 0.9643 - accuracy: 0.6671 - val_loss: 1.0545 - val_accuracy: 0.6266\n",
            "Epoch 11/100\n",
            "391/391 [==============================] - 7s 19ms/step - loss: 0.9364 - accuracy: 0.6756 - val_loss: 1.0176 - val_accuracy: 0.6375\n",
            "Epoch 12/100\n",
            "391/391 [==============================] - 7s 19ms/step - loss: 0.9078 - accuracy: 0.6878 - val_loss: 0.9947 - val_accuracy: 0.6570\n",
            "Epoch 13/100\n",
            "391/391 [==============================] - 8s 20ms/step - loss: 0.8828 - accuracy: 0.6967 - val_loss: 0.9504 - val_accuracy: 0.6699\n",
            "Epoch 14/100\n",
            "391/391 [==============================] - 7s 19ms/step - loss: 0.8579 - accuracy: 0.7049 - val_loss: 0.9886 - val_accuracy: 0.6603\n",
            "Epoch 15/100\n",
            "391/391 [==============================] - 7s 19ms/step - loss: 0.8356 - accuracy: 0.7143 - val_loss: 0.9664 - val_accuracy: 0.6662\n",
            "Epoch 16/100\n",
            "391/391 [==============================] - 7s 18ms/step - loss: 0.8134 - accuracy: 0.7211 - val_loss: 0.9870 - val_accuracy: 0.6576\n",
            "Epoch 17/100\n",
            "391/391 [==============================] - 8s 20ms/step - loss: 0.7967 - accuracy: 0.7266 - val_loss: 0.9220 - val_accuracy: 0.6766\n",
            "Epoch 18/100\n",
            "391/391 [==============================] - 7s 19ms/step - loss: 0.7730 - accuracy: 0.7351 - val_loss: 0.9032 - val_accuracy: 0.6907\n",
            "Epoch 19/100\n",
            "391/391 [==============================] - 7s 19ms/step - loss: 0.7557 - accuracy: 0.7418 - val_loss: 0.8932 - val_accuracy: 0.6955\n",
            "Epoch 20/100\n",
            "391/391 [==============================] - 7s 19ms/step - loss: 0.7366 - accuracy: 0.7489 - val_loss: 0.8636 - val_accuracy: 0.7089\n",
            "Epoch 21/100\n",
            "391/391 [==============================] - 7s 19ms/step - loss: 0.7185 - accuracy: 0.7548 - val_loss: 0.8835 - val_accuracy: 0.6981\n",
            "Epoch 22/100\n",
            "391/391 [==============================] - 7s 18ms/step - loss: 0.6989 - accuracy: 0.7624 - val_loss: 0.8671 - val_accuracy: 0.7003\n",
            "Epoch 23/100\n",
            "391/391 [==============================] - 7s 19ms/step - loss: 0.6821 - accuracy: 0.7685 - val_loss: 0.8678 - val_accuracy: 0.7023\n",
            "Epoch 24/100\n",
            "391/391 [==============================] - 8s 20ms/step - loss: 0.6644 - accuracy: 0.7743 - val_loss: 0.8457 - val_accuracy: 0.7136\n",
            "Epoch 25/100\n",
            "391/391 [==============================] - 7s 18ms/step - loss: 0.6489 - accuracy: 0.7792 - val_loss: 0.8558 - val_accuracy: 0.7084\n",
            "Epoch 26/100\n",
            "391/391 [==============================] - 8s 20ms/step - loss: 0.6317 - accuracy: 0.7851 - val_loss: 0.8235 - val_accuracy: 0.7212\n",
            "Epoch 27/100\n",
            "391/391 [==============================] - 7s 19ms/step - loss: 0.6167 - accuracy: 0.7906 - val_loss: 0.8602 - val_accuracy: 0.7080\n",
            "Epoch 28/100\n",
            "391/391 [==============================] - 7s 19ms/step - loss: 0.5992 - accuracy: 0.7959 - val_loss: 0.8378 - val_accuracy: 0.7168\n",
            "Epoch 29/100\n",
            "391/391 [==============================] - 7s 18ms/step - loss: 0.5807 - accuracy: 0.8034 - val_loss: 0.8656 - val_accuracy: 0.7079\n",
            "Epoch 30/100\n",
            "391/391 [==============================] - 7s 19ms/step - loss: 0.5655 - accuracy: 0.8110 - val_loss: 0.8791 - val_accuracy: 0.7017\n",
            "Epoch 31/100\n",
            "391/391 [==============================] - 8s 21ms/step - loss: 0.5506 - accuracy: 0.8144 - val_loss: 0.8248 - val_accuracy: 0.7245\n",
            "Epoch 32/100\n",
            "391/391 [==============================] - 7s 19ms/step - loss: 0.5337 - accuracy: 0.8185 - val_loss: 0.8417 - val_accuracy: 0.7171\n",
            "Epoch 33/100\n",
            "391/391 [==============================] - 7s 19ms/step - loss: 0.5199 - accuracy: 0.8250 - val_loss: 0.8703 - val_accuracy: 0.7132\n",
            "Epoch 34/100\n",
            "391/391 [==============================] - 7s 19ms/step - loss: 0.5035 - accuracy: 0.8325 - val_loss: 0.8592 - val_accuracy: 0.7100\n",
            "Epoch 35/100\n",
            "391/391 [==============================] - 7s 19ms/step - loss: 0.4870 - accuracy: 0.8372 - val_loss: 0.8665 - val_accuracy: 0.7131\n",
            "Epoch 36/100\n",
            "391/391 [==============================] - 7s 19ms/step - loss: 0.4710 - accuracy: 0.8423 - val_loss: 0.8479 - val_accuracy: 0.7191\n",
            "Epoch 37/100\n",
            "391/391 [==============================] - 7s 19ms/step - loss: 0.4567 - accuracy: 0.8481 - val_loss: 0.9012 - val_accuracy: 0.7064\n",
            "Epoch 38/100\n",
            "391/391 [==============================] - 8s 21ms/step - loss: 0.4409 - accuracy: 0.8537 - val_loss: 0.8464 - val_accuracy: 0.7289\n",
            "Epoch 39/100\n",
            "391/391 [==============================] - 7s 19ms/step - loss: 0.4263 - accuracy: 0.8606 - val_loss: 0.8657 - val_accuracy: 0.7217\n",
            "Epoch 40/100\n",
            "391/391 [==============================] - 7s 19ms/step - loss: 0.4119 - accuracy: 0.8649 - val_loss: 0.8872 - val_accuracy: 0.7129\n",
            "Epoch 41/100\n",
            "391/391 [==============================] - 7s 19ms/step - loss: 0.3970 - accuracy: 0.8714 - val_loss: 0.8622 - val_accuracy: 0.7176\n",
            "Epoch 42/100\n",
            "391/391 [==============================] - 7s 19ms/step - loss: 0.3837 - accuracy: 0.8742 - val_loss: 0.8962 - val_accuracy: 0.7098\n",
            "Epoch 43/100\n",
            "391/391 [==============================] - 8s 20ms/step - loss: 0.3684 - accuracy: 0.8805 - val_loss: 0.8528 - val_accuracy: 0.7291\n",
            "Epoch 44/100\n",
            "391/391 [==============================] - 7s 19ms/step - loss: 0.3546 - accuracy: 0.8849 - val_loss: 0.9150 - val_accuracy: 0.7134\n",
            "Epoch 45/100\n",
            "391/391 [==============================] - 7s 19ms/step - loss: 0.3401 - accuracy: 0.8904 - val_loss: 0.8887 - val_accuracy: 0.7203\n",
            "Epoch 46/100\n",
            "391/391 [==============================] - 7s 19ms/step - loss: 0.3266 - accuracy: 0.8969 - val_loss: 0.9588 - val_accuracy: 0.7016\n",
            "Epoch 47/100\n",
            "391/391 [==============================] - 7s 18ms/step - loss: 0.3138 - accuracy: 0.9004 - val_loss: 0.9165 - val_accuracy: 0.7206\n",
            "Epoch 48/100\n",
            "391/391 [==============================] - 7s 19ms/step - loss: 0.2979 - accuracy: 0.9059 - val_loss: 0.8912 - val_accuracy: 0.7278\n",
            "Epoch 49/100\n",
            "391/391 [==============================] - 7s 19ms/step - loss: 0.2875 - accuracy: 0.9094 - val_loss: 0.9341 - val_accuracy: 0.7183\n",
            "Epoch 50/100\n",
            "391/391 [==============================] - 7s 19ms/step - loss: 0.2750 - accuracy: 0.9153 - val_loss: 1.0242 - val_accuracy: 0.7117\n",
            "Epoch 51/100\n",
            "391/391 [==============================] - 7s 19ms/step - loss: 0.2623 - accuracy: 0.9199 - val_loss: 0.9266 - val_accuracy: 0.7223\n",
            "Epoch 52/100\n",
            "391/391 [==============================] - 7s 19ms/step - loss: 0.2512 - accuracy: 0.9231 - val_loss: 0.9822 - val_accuracy: 0.7153\n",
            "Epoch 53/100\n",
            "391/391 [==============================] - 7s 18ms/step - loss: 0.2389 - accuracy: 0.9281 - val_loss: 0.9481 - val_accuracy: 0.7225\n",
            "Epoch 54/100\n",
            "391/391 [==============================] - 7s 19ms/step - loss: 0.2262 - accuracy: 0.9321 - val_loss: 0.9759 - val_accuracy: 0.7183\n",
            "Epoch 55/100\n",
            "391/391 [==============================] - 7s 19ms/step - loss: 0.2172 - accuracy: 0.9354 - val_loss: 1.0050 - val_accuracy: 0.7162\n",
            "Epoch 56/100\n",
            "391/391 [==============================] - 8s 20ms/step - loss: 0.2059 - accuracy: 0.9396 - val_loss: 0.9717 - val_accuracy: 0.7314\n",
            "Epoch 57/100\n",
            "391/391 [==============================] - 7s 19ms/step - loss: 0.1952 - accuracy: 0.9436 - val_loss: 0.9694 - val_accuracy: 0.7308\n",
            "Epoch 58/100\n",
            "391/391 [==============================] - 7s 19ms/step - loss: 0.1846 - accuracy: 0.9477 - val_loss: 0.9969 - val_accuracy: 0.7309\n",
            "Epoch 59/100\n",
            "391/391 [==============================] - 7s 18ms/step - loss: 0.1742 - accuracy: 0.9505 - val_loss: 1.0249 - val_accuracy: 0.7228\n",
            "Epoch 60/100\n",
            "391/391 [==============================] - 7s 19ms/step - loss: 0.1654 - accuracy: 0.9539 - val_loss: 1.0794 - val_accuracy: 0.7150\n",
            "Epoch 61/100\n",
            "391/391 [==============================] - 7s 19ms/step - loss: 0.1575 - accuracy: 0.9562 - val_loss: 1.0421 - val_accuracy: 0.7212\n",
            "Epoch 62/100\n",
            "391/391 [==============================] - 7s 19ms/step - loss: 0.1472 - accuracy: 0.9604 - val_loss: 1.0832 - val_accuracy: 0.7151\n",
            "Epoch 63/100\n",
            "391/391 [==============================] - 7s 19ms/step - loss: 0.1387 - accuracy: 0.9633 - val_loss: 1.0736 - val_accuracy: 0.7237\n",
            "Epoch 64/100\n",
            "391/391 [==============================] - 7s 19ms/step - loss: 0.1300 - accuracy: 0.9651 - val_loss: 1.1102 - val_accuracy: 0.7232\n",
            "Epoch 65/100\n",
            "391/391 [==============================] - 7s 18ms/step - loss: 0.1228 - accuracy: 0.9683 - val_loss: 1.2152 - val_accuracy: 0.7043\n",
            "Epoch 66/100\n",
            "391/391 [==============================] - 7s 19ms/step - loss: 0.1162 - accuracy: 0.9697 - val_loss: 1.1601 - val_accuracy: 0.7231\n",
            "Epoch 67/100\n",
            "391/391 [==============================] - 7s 19ms/step - loss: 0.1080 - accuracy: 0.9743 - val_loss: 1.2709 - val_accuracy: 0.7010\n",
            "Epoch 68/100\n",
            "391/391 [==============================] - 7s 19ms/step - loss: 0.1007 - accuracy: 0.9748 - val_loss: 1.1727 - val_accuracy: 0.7210\n",
            "Epoch 69/100\n",
            "391/391 [==============================] - 7s 19ms/step - loss: 0.0939 - accuracy: 0.9781 - val_loss: 1.2907 - val_accuracy: 0.7114\n",
            "Epoch 70/100\n",
            "391/391 [==============================] - 7s 19ms/step - loss: 0.0893 - accuracy: 0.9785 - val_loss: 1.3046 - val_accuracy: 0.7097\n",
            "Epoch 71/100\n",
            "391/391 [==============================] - 7s 19ms/step - loss: 0.0825 - accuracy: 0.9810 - val_loss: 1.2309 - val_accuracy: 0.7235\n",
            "Epoch 72/100\n",
            "391/391 [==============================] - 7s 19ms/step - loss: 0.0772 - accuracy: 0.9821 - val_loss: 1.2465 - val_accuracy: 0.7200\n",
            "Epoch 73/100\n",
            "391/391 [==============================] - 8s 19ms/step - loss: 0.0722 - accuracy: 0.9832 - val_loss: 1.3192 - val_accuracy: 0.7139\n",
            "Epoch 74/100\n",
            "391/391 [==============================] - 8s 19ms/step - loss: 0.0683 - accuracy: 0.9853 - val_loss: 1.2697 - val_accuracy: 0.7226\n",
            "Epoch 75/100\n",
            "391/391 [==============================] - 7s 19ms/step - loss: 0.0642 - accuracy: 0.9855 - val_loss: 1.3269 - val_accuracy: 0.7214\n",
            "Epoch 76/100\n",
            "391/391 [==============================] - 7s 19ms/step - loss: 0.0582 - accuracy: 0.9882 - val_loss: 1.3226 - val_accuracy: 0.7237\n",
            "Epoch 77/100\n",
            "391/391 [==============================] - 7s 19ms/step - loss: 0.0547 - accuracy: 0.9890 - val_loss: 1.3283 - val_accuracy: 0.7183\n",
            "Epoch 78/100\n",
            "391/391 [==============================] - 7s 19ms/step - loss: 0.0528 - accuracy: 0.9889 - val_loss: 1.3388 - val_accuracy: 0.7216\n",
            "Epoch 79/100\n",
            "391/391 [==============================] - 7s 18ms/step - loss: 0.0478 - accuracy: 0.9905 - val_loss: 1.4325 - val_accuracy: 0.7137\n",
            "Epoch 80/100\n",
            "391/391 [==============================] - 7s 19ms/step - loss: 0.0452 - accuracy: 0.9912 - val_loss: 1.3634 - val_accuracy: 0.7272\n",
            "Epoch 81/100\n",
            "391/391 [==============================] - 7s 19ms/step - loss: 0.0432 - accuracy: 0.9911 - val_loss: 1.3729 - val_accuracy: 0.7246\n",
            "Epoch 82/100\n",
            "391/391 [==============================] - 7s 19ms/step - loss: 0.0392 - accuracy: 0.9918 - val_loss: 1.4191 - val_accuracy: 0.7221\n",
            "Epoch 83/100\n",
            "391/391 [==============================] - 7s 19ms/step - loss: 0.0366 - accuracy: 0.9928 - val_loss: 1.4406 - val_accuracy: 0.7250\n",
            "Epoch 84/100\n",
            "391/391 [==============================] - 7s 19ms/step - loss: 0.0365 - accuracy: 0.9923 - val_loss: 1.4401 - val_accuracy: 0.7287\n",
            "Epoch 85/100\n",
            "391/391 [==============================] - 7s 19ms/step - loss: 0.0362 - accuracy: 0.9926 - val_loss: 1.4694 - val_accuracy: 0.7225\n",
            "Epoch 86/100\n",
            "391/391 [==============================] - 7s 19ms/step - loss: 0.0302 - accuracy: 0.9942 - val_loss: 1.4936 - val_accuracy: 0.7220\n",
            "Epoch 87/100\n",
            "391/391 [==============================] - 7s 18ms/step - loss: 0.0298 - accuracy: 0.9944 - val_loss: 1.6128 - val_accuracy: 0.7158\n",
            "Epoch 88/100\n",
            "391/391 [==============================] - 7s 19ms/step - loss: 0.0273 - accuracy: 0.9949 - val_loss: 1.6310 - val_accuracy: 0.7157\n",
            "Epoch 89/100\n",
            "391/391 [==============================] - 7s 19ms/step - loss: 0.0269 - accuracy: 0.9945 - val_loss: 1.5305 - val_accuracy: 0.7255\n",
            "Epoch 90/100\n",
            "391/391 [==============================] - 7s 19ms/step - loss: 0.0279 - accuracy: 0.9939 - val_loss: 1.5610 - val_accuracy: 0.7262\n",
            "Epoch 91/100\n",
            "391/391 [==============================] - 7s 19ms/step - loss: 0.0238 - accuracy: 0.9952 - val_loss: 1.5914 - val_accuracy: 0.7212\n",
            "Epoch 92/100\n",
            "391/391 [==============================] - 7s 19ms/step - loss: 0.0247 - accuracy: 0.9952 - val_loss: 1.6049 - val_accuracy: 0.7212\n",
            "Epoch 93/100\n",
            "391/391 [==============================] - 7s 18ms/step - loss: 0.0200 - accuracy: 0.9959 - val_loss: 1.6199 - val_accuracy: 0.7258\n",
            "Epoch 94/100\n",
            "391/391 [==============================] - 7s 18ms/step - loss: 0.0205 - accuracy: 0.9957 - val_loss: 1.7856 - val_accuracy: 0.7140\n",
            "Epoch 95/100\n",
            "391/391 [==============================] - 7s 18ms/step - loss: 0.0203 - accuracy: 0.9957 - val_loss: 1.6356 - val_accuracy: 0.7233\n",
            "Epoch 96/100\n",
            "391/391 [==============================] - 7s 19ms/step - loss: 0.0196 - accuracy: 0.9955 - val_loss: 1.6644 - val_accuracy: 0.7237\n",
            "Epoch 97/100\n",
            "391/391 [==============================] - 7s 18ms/step - loss: 0.0194 - accuracy: 0.9959 - val_loss: 1.6809 - val_accuracy: 0.7245\n",
            "Epoch 98/100\n",
            "391/391 [==============================] - 7s 19ms/step - loss: 0.0176 - accuracy: 0.9962 - val_loss: 1.7532 - val_accuracy: 0.7169\n",
            "Epoch 99/100\n",
            "391/391 [==============================] - 7s 19ms/step - loss: 0.0177 - accuracy: 0.9960 - val_loss: 1.7137 - val_accuracy: 0.7260\n",
            "Epoch 100/100\n",
            "391/391 [==============================] - 7s 19ms/step - loss: 0.0172 - accuracy: 0.9959 - val_loss: 1.7106 - val_accuracy: 0.7239\n"
          ],
          "name": "stdout"
        },
        {
          "output_type": "execute_result",
          "data": {
            "text/plain": [
              "<tensorflow.python.keras.callbacks.History at 0x7f0c90f8f7f0>"
            ]
          },
          "metadata": {
            "tags": []
          },
          "execution_count": 105
        }
      ]
    },
    {
      "cell_type": "markdown",
      "metadata": {
        "id": "TevfJTd-s0nk",
        "colab_type": "text"
      },
      "source": [
        "## **9. Validate the deep learning model**\n",
        "---\n",
        "* Step 1: Load the trained weights and compile the model\n",
        "* Step 2: Make prediction\n"
      ]
    },
    {
      "cell_type": "code",
      "metadata": {
        "id": "2sVtWmcVtiV5",
        "colab_type": "code",
        "colab": {
          "base_uri": "https://localhost:8080/",
          "height": 35
        },
        "outputId": "8ca51557-b48f-4fb1-a76b-c66ce57d438c"
      },
      "source": [
        "                                                                                # Step 1\n",
        "modelGo.load_weights(filepath)\n",
        "modelGo.compile(loss='categorical_crossentropy', \n",
        "                optimizer=optmz, \n",
        "                metrics=['accuracy'])\n",
        "\n",
        "predicts    = modelGo.predict(tsDat)                                            # Step 2\n",
        "print(\"Prediction completes.\")"
      ],
      "execution_count": 106,
      "outputs": [
        {
          "output_type": "stream",
          "text": [
            "Prediction completes.\n"
          ],
          "name": "stdout"
        }
      ]
    },
    {
      "cell_type": "markdown",
      "metadata": {
        "id": "0aOCUljp5qq4",
        "colab_type": "text"
      },
      "source": [
        "## **10. Report classification metrics**\n",
        "---\n",
        "* Step 1: Setup the label\n",
        "* Step 2: Convert label from one-hot to integer\n",
        "* Step 3: Calculate the accuracy score\n",
        "* Step 4: Generate classification report"
      ]
    },
    {
      "cell_type": "code",
      "metadata": {
        "id": "2tI4hBmk5uRh",
        "colab_type": "code",
        "colab": {
          "base_uri": "https://localhost:8080/",
          "height": 341
        },
        "outputId": "dc85506c-1992-4330-a9d7-047d61601302"
      },
      "source": [
        "                                                                                # Step 1\n",
        "labelname   = ['airplane',          # The label for reporting metrics\n",
        "               'automobile',\n",
        "               'bird',\n",
        "               'cat',\n",
        "               'deer',\n",
        "               'dog',\n",
        "               'frog',\n",
        "               'horse',\n",
        "               'ship',\n",
        "               'truck']\n",
        "                                                                                # Step 2\n",
        "predout     = np.argmax(predicts,axis=1)\n",
        "testout     = np.argmax(tsLbl,axis=1)\n",
        "\n",
        "testScores  = metrics.accuracy_score(testout,predout)                           # Step 3\n",
        "\n",
        "                                                                                # Step 4\n",
        "print(\"Best accuracy (on testing dataset): %.2f%%\" % (testScores*100))\n",
        "print(metrics.classification_report(testout,\n",
        "                                    predout,\n",
        "                                    target_names=labelname,\n",
        "                                    digits=4))"
      ],
      "execution_count": 107,
      "outputs": [
        {
          "output_type": "stream",
          "text": [
            "Best accuracy (on testing dataset): 73.14%\n",
            "              precision    recall  f1-score   support\n",
            "\n",
            "    airplane     0.7230    0.8090    0.7636      1000\n",
            "  automobile     0.8627    0.8170    0.8392      1000\n",
            "        bird     0.6994    0.5770    0.6323      1000\n",
            "         cat     0.5968    0.4500    0.5131      1000\n",
            "        deer     0.6940    0.6850    0.6895      1000\n",
            "         dog     0.5653    0.7360    0.6394      1000\n",
            "        frog     0.7525    0.8300    0.7893      1000\n",
            "       horse     0.8313    0.7340    0.7796      1000\n",
            "        ship     0.8394    0.8470    0.8432      1000\n",
            "       truck     0.7740    0.8290    0.8006      1000\n",
            "\n",
            "    accuracy                         0.7314     10000\n",
            "   macro avg     0.7338    0.7314    0.7290     10000\n",
            "weighted avg     0.7338    0.7314    0.7290     10000\n",
            "\n"
          ],
          "name": "stdout"
        }
      ]
    },
    {
      "cell_type": "markdown",
      "metadata": {
        "id": "gEK_4UXN6IVa",
        "colab_type": "text"
      },
      "source": [
        "## **11. Print confusion matrix**\n",
        "---"
      ]
    },
    {
      "cell_type": "code",
      "metadata": {
        "id": "UCBJCYp26L1t",
        "colab_type": "code",
        "colab": {
          "base_uri": "https://localhost:8080/",
          "height": 197
        },
        "outputId": "a9e74b7e-365f-4a2c-c94f-1a1d4dd012e0"
      },
      "source": [
        "confusion   = metrics.confusion_matrix(testout,predout)\n",
        "print(confusion)"
      ],
      "execution_count": 108,
      "outputs": [
        {
          "output_type": "stream",
          "text": [
            "[[809  14  26  10  11  16  14   4  53  43]\n",
            " [ 29 817   9   3   4   9   6   4  27  92]\n",
            " [ 79   4 577  50  80  81  68  31  11  19]\n",
            " [ 22  10  51 450  67 265  75  21  13  26]\n",
            " [ 28   5  68  55 685  50  55  39  13   2]\n",
            " [ 18   5  26 103  38 736  28  34   7   5]\n",
            " [ 12   4  31  40  34  35 830   4   5   5]\n",
            " [ 31   4  24  28  54  85  12 734   7  21]\n",
            " [ 59  27   6   5   7  12   7   1 847  29]\n",
            " [ 32  57   7  10   7  13   8  11  26 829]]\n"
          ],
          "name": "stdout"
        }
      ]
    },
    {
      "cell_type": "markdown",
      "metadata": {
        "id": "2QMIDPD46UGT",
        "colab_type": "text"
      },
      "source": [
        "## **12. Plot curves on validation loss and accuracy**\n",
        "---"
      ]
    },
    {
      "cell_type": "code",
      "metadata": {
        "id": "qr2ZbvUi6YHf",
        "colab_type": "code",
        "colab": {
          "base_uri": "https://localhost:8080/",
          "height": 443
        },
        "outputId": "bff004c3-e2fa-46f9-f48d-ffed09f85b1d"
      },
      "source": [
        "records     = pd.read_csv(folderpath+modelname +'.csv')\n",
        "plt.figure()\n",
        "plt.subplot(211)\n",
        "plt.plot(records['val_loss'], label=\"validation\")\n",
        "plt.plot(records['loss'],label=\"training\")\n",
        "plt.yticks([0.00,0.50,1.00,1.50])\n",
        "plt.title('Loss value',fontsize=12)\n",
        "\n",
        "ax          = plt.gca()\n",
        "ax.set_xticklabels([])\n",
        "\n",
        "plt.subplot(212)\n",
        "plt.plot(records['val_accuracy'],label=\"validation\")\n",
        "plt.plot(records['accuracy'],label=\"training\")\n",
        "plt.yticks([0.5,0.6,0.7,0.8])\n",
        "plt.title('Accuracy',fontsize=12)\n",
        "ax.legend()\n",
        "plt.show()"
      ],
      "execution_count": 109,
      "outputs": [
        {
          "output_type": "display_data",
          "data": {
            "image/png": "[encoded data removed]",
            "text/plain": [
              "<Figure size 504x504 with 2 Axes>"
            ]
          },
          "metadata": {
            "tags": []
          }
        }
      ]
    },
    {
      "cell_type": "markdown",
      "metadata": {
        "id": "PWoTz-bLug3X",
        "colab_type": "text"
      },
      "source": [
        "## **13. Save the model plot**\n",
        "---"
      ]
    },
    {
      "cell_type": "code",
      "metadata": {
        "id": "Tz1YfuV1ujcE",
        "colab_type": "code",
        "colab": {
          "base_uri": "https://localhost:8080/",
          "height": 35
        },
        "outputId": "e6cb433b-185c-4d5c-9047-ba673a7c125d"
      },
      "source": [
        "plotpath  = folderpath+modelname+'_plot.png'\n",
        "plot_model(model, \n",
        "           to_file=plotpath, \n",
        "           show_shapes=True, \n",
        "           show_layer_names=False,\n",
        "           rankdir='TB')\n",
        "\n",
        "print(\"Path to plot:\", plotpath)"
      ],
      "execution_count": 110,
      "outputs": [
        {
          "output_type": "stream",
          "text": [
            "Path to plot: /content/gdrive/My Drive/Mtech/PRUML/day2/colab/wks2_3_plot.png\n"
          ],
          "name": "stdout"
        }
      ]
    }
  ]
}